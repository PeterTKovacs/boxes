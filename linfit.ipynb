{
 "cells": [
  {
   "cell_type": "code",
   "execution_count": 1,
   "metadata": {},
   "outputs": [],
   "source": [
    "import numpy as np"
   ]
  },
  {
   "cell_type": "code",
   "execution_count": 14,
   "metadata": {},
   "outputs": [],
   "source": [
    "import matplotlib.pyplot as plt"
   ]
  },
  {
   "cell_type": "code",
   "execution_count": 16,
   "metadata": {},
   "outputs": [],
   "source": [
    "def line_inspect(nb,lb,alg,log_path,write_to_file=True):\n",
    "    \n",
    "    mask_left=0\n",
    "    if alg=='merge':\n",
    "        mask_left=1 # starts with lb=0 ~ gives error\n",
    "        \n",
    "    log_lb=np.log(np.array(lb)[mask_left:])\n",
    "    log_nb=np.log(np.array(nb)[mask_left:])\n",
    "\n",
    "    ml=0 # to avoid later confusion with indices\n",
    "    mr=log_lb.shape[0]-1\n",
    "    \n",
    "    while(1):\n",
    "        \n",
    "        if mr==log_lb.shape[0]-1:\n",
    "            \n",
    "            try: \n",
    "                # with np.polyfit line to log(lb)-log(nb) data\n",
    "                \n",
    "                params,sse=stats(log_lb[ml:],\n",
    "                                 log_nb[ml:])\n",
    "            except:\n",
    "                if write_to_file:\n",
    "\n",
    "                    with open(log_path+'alg_t_db.txt','a') as f:\n",
    "                        f.write('\\t'+'nan\\tnan'+'\\n')\n",
    "                        \n",
    "                print('linefit caused problems '+alg+'exited without fit')\n",
    "                \n",
    "                return -1\n",
    "        else:\n",
    "\n",
    "            try:\n",
    "                params,sse=stats(log_lb[ml:mr+1],\n",
    "                                 log_nb[ml:mr+1])\n",
    "\n",
    "            except:\n",
    "                \n",
    "                if write_to_file:\n",
    "                    with open(log_path+'alg_t_db.txt','a') as f:\n",
    "                        f.write('\\t'+'nan\\tnan'+'\\n')\n",
    "                        \n",
    "                print('linefit caused problems '+alg+'exited without fit')\n",
    "                \n",
    "                return -1\n",
    "            \n",
    "        print('-------------------------\\n'+alg+'\\n')\n",
    "        \n",
    "        plt.figure()\n",
    "        plt.scatter(log_lb,log_nb)\n",
    "        plt.plot([log_lb[ml],log_lb[mr]]\n",
    "                 ,[params[0]*log_lb[ml]+params[1],params[0]*log_lb[mr]+params[1]])\n",
    "        \n",
    "        plt.show()\n",
    "\n",
    "        print('ok? y/n')\n",
    "\n",
    "        ok=input()\n",
    "        \n",
    "        if ok=='y':\n",
    "            \n",
    "            if write_to_file:\n",
    "                with open(log_path+'alg_t_db.txt','a') as f:\n",
    "                    f.write('\\t'+str(-1*params[0])+'\\t'+str(sse)+'\\n') # alg and time exec prior to this\n",
    "\n",
    "                    # save the fig showing the final fit\n",
    "                    \n",
    "                    plt.figure()\n",
    "                    plt.scatter(log_lb,log_nb)\n",
    "                    plt.plot([log_lb[ml],log_lb[mr]]\n",
    "                             ,[params[0]*log_lb[ml]+params[1],params[0]*log_lb[mr]+params[1]])\n",
    "                    \n",
    "                    try:\n",
    "                        plt.savefig(log_path+'graphs/'+alg+'.png')\n",
    "                    except:\n",
    "                        plt.savefig('linfit'+alg+'.png')\n",
    "                    plt.show()\n",
    "                    print('png saved')\n",
    "            else:\n",
    "                return params[0]*-1\n",
    "            \n",
    "            return 0\n",
    "            \n",
    "        else:\n",
    "            print('new mask left:')\n",
    "            ml=int(input())\n",
    "            print('new mask right:')\n",
    "            nmr=int(input())\n",
    "            if nmr<0:\n",
    "                mr=len(lb)+nmr\n",
    "            else:\n",
    "                mr=nmr\n"
   ]
  },
  {
   "cell_type": "code",
   "execution_count": 3,
   "metadata": {},
   "outputs": [],
   "source": [
    "def stats(x,y):\n",
    "    \n",
    "    # assuming numpy arrays\n",
    "    \n",
    "    params=np.polyfit(x,y,deg=1,full=True)\n",
    "    n=x.shape[0]\n",
    "    sx=np.sum((x-np.mean(x))**2)\n",
    "    \n",
    "    sse=np.sqrt(params[1][0]/sx/(n-2))\n",
    "    \n",
    "    return (params[0],sse)"
   ]
  },
  {
   "cell_type": "code",
   "execution_count": 4,
   "metadata": {},
   "outputs": [],
   "source": [
    "import boxes"
   ]
  },
  {
   "cell_type": "code",
   "execution_count": 5,
   "metadata": {},
   "outputs": [
    {
     "name": "stdout",
     "output_type": "stream",
     "text": [
      "Help on function canonized_lb_bench in module boxes.io_:\n",
      "\n",
      "canonized_lb_bench(path, alg, lb_alg, rb_alg)\n",
      "\n"
     ]
    }
   ],
   "source": [
    "help(boxes.io_.canonized_lb_bench)"
   ]
  },
  {
   "cell_type": "code",
   "execution_count": 7,
   "metadata": {},
   "outputs": [],
   "source": [
    "_=boxes.io_.canonized_lb_bench('logs/phd/phd_cbb_benchmark.txt','cbb',['cbb'],[])"
   ]
  },
  {
   "cell_type": "code",
   "execution_count": 10,
   "metadata": {},
   "outputs": [],
   "source": [
    "lb=[]\n",
    "nb_mean=[]\n",
    "\n",
    "for s in _:\n",
    "    \n",
    "    size,nbs,exec_times=s\n",
    "    \n",
    "    lb.append(size)\n",
    "    nb_mean.append(np.mean(nbs))\n",
    "    \n",
    "    "
   ]
  },
  {
   "cell_type": "code",
   "execution_count": 17,
   "metadata": {
    "scrolled": false
   },
   "outputs": [
    {
     "name": "stdout",
     "output_type": "stream",
     "text": [
      "-------------------------\n",
      "cbb\n",
      "\n"
     ]
    },
    {
     "data": {
      "image/png": "[encoded data removed]",
      "text/plain": [
       "<Figure size 432x288 with 1 Axes>"
      ]
     },
     "metadata": {
      "needs_background": "light"
     },
     "output_type": "display_data"
    },
    {
     "name": "stdout",
     "output_type": "stream",
     "text": [
      "ok? y/n\n",
      "n\n",
      "new mask left:\n",
      "0\n",
      "new mask right:\n",
      "-4\n",
      "-------------------------\n",
      "cbb\n",
      "\n"
     ]
    },
    {
     "data": {
      "image/png": "[encoded data removed]",
      "text/plain": [
       "<Figure size 432x288 with 1 Axes>"
      ]
     },
     "metadata": {
      "needs_background": "light"
     },
     "output_type": "display_data"
    },
    {
     "name": "stdout",
     "output_type": "stream",
     "text": [
      "ok? y/n\n",
      "y\n"
     ]
    },
    {
     "data": {
      "image/png": "[encoded data removed]",
      "text/plain": [
       "<Figure size 432x288 with 1 Axes>"
      ]
     },
     "metadata": {
      "needs_background": "light"
     },
     "output_type": "display_data"
    },
    {
     "name": "stdout",
     "output_type": "stream",
     "text": [
      "png saved\n"
     ]
    },
    {
     "data": {
      "text/plain": [
       "0"
      ]
     },
     "execution_count": 17,
     "metadata": {},
     "output_type": "execute_result"
    }
   ],
   "source": [
    "line_inspect(nb_mean,lb,'cbb','linfit_cbb_test',write_to_file=True)"
   ]
  },
  {
   "cell_type": "code",
   "execution_count": null,
   "metadata": {},
   "outputs": [],
   "source": []
  }
 ],
 "metadata": {
  "kernelspec": {
   "display_name": "Python 3",
   "language": "python",
   "name": "python3"
  },
  "language_info": {
   "codemirror_mode": {
    "name": "ipython",
    "version": 3
   },
   "file_extension": ".py",
   "mimetype": "text/x-python",
   "name": "python",
   "nbconvert_exporter": "python",
   "pygments_lexer": "ipython3",
   "version": "3.8.2"
  }
 },
 "nbformat": 4,
 "nbformat_minor": 4
}
