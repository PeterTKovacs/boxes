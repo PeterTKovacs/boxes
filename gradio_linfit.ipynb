{
 "cells": [
  {
   "cell_type": "code",
   "execution_count": 1,
   "metadata": {},
   "outputs": [],
   "source": [
    "import boxes\n",
    "import numpy as np\n",
    "import matplotlib.pyplot as plt"
   ]
  },
  {
   "cell_type": "code",
   "execution_count": 2,
   "metadata": {},
   "outputs": [],
   "source": [
    "def stats(x,y):\n",
    "    \n",
    "    # assuming numpy arrays\n",
    "    \n",
    "    params=np.polyfit(x,y,deg=1,full=True)\n",
    "    n=x.shape[0]\n",
    "    sx=np.sum((x-np.mean(x))**2)\n",
    "    \n",
    "    sse=np.sqrt(params[1][0]/sx/(n-2))\n",
    "    \n",
    "    return (params[0],sse)"
   ]
  },
  {
   "cell_type": "code",
   "execution_count": 11,
   "metadata": {},
   "outputs": [],
   "source": [
    "def linfit(file, alg, mask_left=0, mask_right=0, write_to_file=False):\n",
    "    \n",
    "    bench_mark_data = boxes.io_.canonized_lb_bench(file, alg, [alg],[])\n",
    "    \n",
    "    lb, nb = [], []\n",
    "\n",
    "    for s in bench_mark_data:\n",
    "        size, nbs, exec_times = s\n",
    "\n",
    "        lb.append(size)\n",
    "        nb.append(np.mean(nbs))\n",
    "    \n",
    "    \n",
    "    offset=0\n",
    "    if alg=='merge':\n",
    "        offset=1 # starts with lb=0 ~ gives error\n",
    "        \n",
    "    log_lb=np.log(np.array(lb)[offset:])\n",
    "    log_nb=np.log(np.array(nb)[offset:])\n",
    "\n",
    "    ml=mask_left # to avoid later confusion with indices\n",
    "    mr=log_lb.shape[0]-mask_right\n",
    "    \n",
    "    while(1):\n",
    "        \n",
    "        if mr==log_lb.shape[0]:\n",
    "            \n",
    "            try: \n",
    "                # with np.polyfit line to log(lb)-log(nb) data\n",
    "                \n",
    "                params,sse=stats(log_lb[ml:],\n",
    "                                 log_nb[ml:])\n",
    "            except:\n",
    "                if write_to_file:\n",
    "\n",
    "                    with open('alg_t_db.txt','a') as f:\n",
    "                        f.write('\\t'+'nan\\tnan'+'\\n')\n",
    "                        \n",
    "                print('linefit caused problems '+alg+'exited without fit')\n",
    "                \n",
    "                return -1\n",
    "        else:\n",
    "\n",
    "            try:\n",
    "                params, sse = stats(log_lb[ml:mr],\n",
    "                                    log_nb[ml:mr])\n",
    "\n",
    "            except:\n",
    "                \n",
    "                if write_to_file:\n",
    "                    with open('alg_t_db.txt','a') as f:\n",
    "                        f.write('\\t'+'nan\\tnan'+'\\n')\n",
    "                        \n",
    "                print('linefit caused problems '+alg+'exited without fit')\n",
    "                \n",
    "                return -1\n",
    "            \n",
    "        fig = plt.figure()\n",
    "        plt.scatter(log_lb, log_nb, label='data')\n",
    "        plt.plot(log_lb[ml:mr], params[0]*log_lb[ml:mr]+params[1], c='tab:orange', label=f\"fitted line (dB={round(-params[0], 3)})\")\n",
    "#         plt.plot([log_lb[ml],log_lb[mr]], [params[0]*log_lb[ml]+params[1],params[0]*log_lb[mr]+params[1]])\n",
    "        plt.title(f\"{alg} algorithm on {file[:3]}\")\n",
    "        plt.legend()\n",
    "        if write_to_file:\n",
    "            plt.savefig('linfit'+alg+'.png')\n",
    "        plt.close()\n",
    "        return fig, params[0]"
   ]
  },
  {
   "cell_type": "code",
   "execution_count": 5,
   "metadata": {},
   "outputs": [],
   "source": [
    "import gradio as gr"
   ]
  },
  {
   "cell_type": "code",
   "execution_count": 12,
   "metadata": {},
   "outputs": [
    {
     "name": "stdout",
     "output_type": "stream",
     "text": [
      "Running locally at: http://127.0.0.1:7864/\n",
      "To create a public link, set `share=True` in `launch()`.\n",
      "Interface loading below...\n"
     ]
    },
    {
     "data": {
      "text/html": [
       "\n",
       "        <iframe\n",
       "            width=\"1000\"\n",
       "            height=\"500\"\n",
       "            src=\"http://127.0.0.1:7864/\"\n",
       "            frameborder=\"0\"\n",
       "            allowfullscreen\n",
       "        ></iframe>\n",
       "        "
      ],
      "text/plain": [
       "<IPython.lib.display.IFrame at 0x2b3d5821508>"
      ]
     },
     "metadata": {},
     "output_type": "display_data"
    },
    {
     "name": "stdout",
     "output_type": "stream",
     "text": [
      "Tip: Add interpretation to your model by simply adding `interpretation=\"default\"` to `Interface()`\n"
     ]
    },
    {
     "data": {
      "text/plain": [
       "(<Flask 'gradio.networking'>, 'http://127.0.0.1:7864/', None)"
      ]
     },
     "execution_count": 12,
     "metadata": {},
     "output_type": "execute_result"
    }
   ],
   "source": [
    "iface = gr.Interface(fn=linfit, inputs=[gr.inputs.Textbox(placeholder=\"phd_cbb_benchmark.txt\"), gr.inputs.Textbox(placeholder=\"cbb\"), \"number\", \"number\", \"checkbox\"], \n",
    "                     outputs=[gr.outputs.Image(plot=True), \"number\"])\n",
    "iface.launch()"
   ]
  },
  {
   "cell_type": "code",
   "execution_count": null,
   "metadata": {},
   "outputs": [],
   "source": []
  }
 ],
 "metadata": {
  "kernelspec": {
   "display_name": "Python 3",
   "language": "python",
   "name": "python3"
  },
  "language_info": {
   "codemirror_mode": {
    "name": "ipython",
    "version": 3
   },
   "file_extension": ".py",
   "mimetype": "text/x-python",
   "name": "python",
   "nbconvert_exporter": "python",
   "pygments_lexer": "ipython3",
   "version": "3.7.8"
  }
 },
 "nbformat": 4,
 "nbformat_minor": 4
}
