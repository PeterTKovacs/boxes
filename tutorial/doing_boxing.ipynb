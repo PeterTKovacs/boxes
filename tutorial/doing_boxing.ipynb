{
 "cells": [
  {
   "cell_type": "markdown",
   "metadata": {},
   "source": [
    "## Performing box covering with _boxes_"
   ]
  },
  {
   "cell_type": "markdown",
   "metadata": {},
   "source": [
    "This notebook contains the advisable workflow of using the __boxes__ package for performing box covering.\n",
    "\n",
    "We will mostly rely on the builtin functions but due to the memory-intensiveness of the computing tasks, we will have to use the __resource__ and __gc__ packages."
   ]
  },
  {
   "cell_type": "code",
   "execution_count": 1,
   "metadata": {},
   "outputs": [],
   "source": [
    "import os\n",
    "import networkx as nx\n",
    "import copy\n",
    "import resource\n",
    "import boxes\n",
    "import gc\n",
    "import time\n",
    "import random\n",
    "import numpy as np"
   ]
  },
  {
   "cell_type": "code",
   "execution_count": 2,
   "metadata": {},
   "outputs": [],
   "source": [
    "import matplotlib.pyplot as plt\n"
   ]
  },
  {
   "cell_type": "code",
   "execution_count": 3,
   "metadata": {},
   "outputs": [],
   "source": [
    "resource.setrlimit(resource.RLIMIT_AS, (int(4e9),int(4e9))) # control memory usage, in bytes"
   ]
  },
  {
   "cell_type": "markdown",
   "metadata": {},
   "source": [
    "The real-world networks are stored in the _networks_ directory."
   ]
  },
  {
   "cell_type": "code",
   "execution_count": null,
   "metadata": {},
   "outputs": [],
   "source": [
    "for s in os.listdir('../../networks'):\n",
    "    if not 'zip' in s:\n",
    "        print(s)"
   ]
  },
  {
   "cell_type": "markdown",
   "metadata": {},
   "source": [
    "From these, ca_collab is directed, inf_usair97 weighted, so won't be used.\n",
    "\n",
    "The mouse brain data has diameter 2: irrelevant."
   ]
  },
  {
   "cell_type": "markdown",
   "metadata": {},
   "source": [
    "This is where log files will be stored with all relevant data regarding the boxing."
   ]
  },
  {
   "cell_type": "code",
   "execution_count": null,
   "metadata": {},
   "outputs": [],
   "source": [
    "os.listdir('../../result_logs')"
   ]
  },
  {
   "cell_type": "markdown",
   "metadata": {},
   "source": [
    "#### There are unfortunately many parameters that we will treat as keyword arguments\n",
    "This is a cheat sheet for every implemented algorithm:\n",
    "\n",
    "As a rule of thumb, _boxing=True_ means that only the box no. is returned.\n",
    "\n",
    "The majority of implemented algorithms works on undirected, connected graphs, meaning that we only accept undirected networks and extract their largest component.\n",
    "\n",
    "+ __greedy_coloring__: greedy_coloring(network, lb, boxing=False, pso_position=False, strategy='random_sequential')\n",
    "\n",
    "set boxing True, otherwise OK to have default keyword args\n",
    "+ __cbb__: (network, lb, boxing=False)\n",
    "\n",
    "\n",
    "+ __differential_evolution__: differential_evolution(network, lb, num_p=15, big_f=0.9, cr=0.85, gn=15, boxing=False, dual_new=False)\n",
    "looks OK for unconnected graphs\n",
    "\n",
    "meaning of parameters: \"$k_1$ gives the approximate number of nodes moved in (i), $k_2$ is the number of maximally created new clusters (made up of one node), $k_3$ is the number of outer cycles - in every iteration, the temperature is decreased as specified by _cc_.\" \n",
    "These are only rough meanings, for more refer to the docs.\n",
    "+ __mcwr__: mcwr(network, rb, p=1, boxing=False)\n",
    "\n",
    "may work to unconnected graphs!\n",
    "_p_ denotes the probability of choosing the MEMB branch istead of random centres.\n",
    "+ __memb__: memb(network, rb, boxing=False)\n",
    "\n",
    "may work on unconnected graphs too!\n",
    "+ __merge_algorithm__: merge_algorithm(network, lb_max,return_for_sa=False, boxing=False, measure_time=True)\n",
    "\n",
    "\n",
    "advisable: _boxing=True_, everyone else _False_\n",
    "+ __random_sequential__: random_sequential(network, rb, boxing=False)\n",
    "\n",
    "works with unconnected graphs\n",
    "+ __remcc__: remcc(network, rb, return_centres=True)\n",
    "\n",
    "\n",
    "+ __simulated_annealing__: simulated_annealing(network, lb, k1=20, k2=2, k3=15, temp=0.6, cc=0.995)\n",
    "\n"
   ]
  },
  {
   "cell_type": "code",
   "execution_count": null,
   "metadata": {},
   "outputs": [],
   "source": [
    "# these algorithms do not need hyperparameter tuning\n",
    "\n",
    "algs_lb={\n",
    "    'cbb':{'alg':boxes.cbb,'kwargs':{'boxing':True}},\n",
    "    'greedy':{'alg':boxes.greedy_coloring,'kwargs':{'boxing':True}},\n",
    "    'merge':{'alg':boxes.merge_algorithm,'kwargs':{'boxing':True}},\n",
    "}\n",
    "\n",
    "algs_rb={\n",
    "    'mcwr_0.75':{'alg':boxes.mcwr,'kwargs':{'p':0.75,'boxing':True}},\n",
    "    'mcwr_0.5':{'alg':boxes.mcwr,'kwargs':{'p':0.5,'boxing':True}},\n",
    "    'mcwr_0.25':{'alg':boxes.mcwr,'kwargs':{'p':0.25,'boxing':True}},\n",
    "    'memb':{'alg':boxes.memb,'kwargs':{'boxing':True}},\n",
    "    'random_sequential':{'alg':boxes.random_sequential,'kwargs':{'boxing':True}},\n",
    "    'remcc':{'alg':boxes.remcc,'kwargs':{'return_centres':False}}\n",
    "}"
   ]
  },
  {
   "cell_type": "code",
   "execution_count": 4,
   "metadata": {},
   "outputs": [],
   "source": [
    "def read_max_connected_component(path,header_length):\n",
    "    \n",
    "    graph=boxes.read_from_edgelist(path,header_length)\n",
    "    \n",
    "    if not nx.is_connected(graph):\n",
    "        \n",
    "        max_connected=graph.subgraph((max(nx.connected_components(graph),key=len)))\n",
    "        \n",
    "        return boxes.network(max_connected)\n",
    "    \n",
    "    else:\n",
    "        return boxes.network(graph)"
   ]
  },
  {
   "cell_type": "code",
   "execution_count": 5,
   "metadata": {},
   "outputs": [],
   "source": [
    "path='../../networks/'"
   ]
  },
  {
   "cell_type": "code",
   "execution_count": null,
   "metadata": {},
   "outputs": [],
   "source": [
    "help(nx.all_pairs_shortest_path_length)"
   ]
  },
  {
   "cell_type": "code",
   "execution_count": 18,
   "metadata": {},
   "outputs": [],
   "source": [
    "def vis_and_bin(network):\n",
    "    \n",
    "    degrees=[tup[1] for tup in network.graph.degree()]\n",
    "    \n",
    "    plt.figure()\n",
    "    plt.hist(degrees)\n",
    "    plt.xlabel('degree')\n",
    "    plt.ylabel('number of nodes')\n",
    "    plt.show()\n",
    "    \n",
    "    interval=max(degrees)-min(degrees)\n",
    "    offset=min(degrees)\n",
    "    \n",
    "    thirds=np.zeros(3,int)\n",
    "    for deg in degrees:\n",
    "        if (deg-offset)/interval<0.33:\n",
    "            thirds[0]+=1\n",
    "        elif (deg-offset)/interval<0.67:\n",
    "            thirds[1]+=1\n",
    "        else:\n",
    "            thirds[2]+=1\n",
    "    \n",
    "    print(thirds)\n",
    "    \n",
    "    bgrades=[boxes.bgrade(network,center) for center in network.graph.nodes()]\n",
    "    \n",
    "    plt.figure()\n",
    "    plt.hist(bgrades)\n",
    "    plt.xlabel('bgrade')\n",
    "    plt.ylabel('number of nodes')\n",
    "    plt.show()\n",
    "    \n",
    "    interval=max(bgrades)-min(bgrades)\n",
    "    offset=min(bgrades)\n",
    "    \n",
    "    bs=np.zeros(2,float)\n",
    "    bs[0]=np.mean(bgrades)\n",
    "    bs[1]=max(bgrades)\n",
    "    \n",
    "    print(bs)\n",
    "    \n",
    "    return (thirds, degrees, bs)\n",
    "        \n",
    "    "
   ]
  },
  {
   "cell_type": "markdown",
   "metadata": {},
   "source": [
    "### Facebook Caltech data"
   ]
  },
  {
   "cell_type": "code",
   "execution_count": 7,
   "metadata": {},
   "outputs": [],
   "source": [
    "facebook_caltech=read_max_connected_component(path+'facebook_caltech/socfb-Caltech36.mtx',2)"
   ]
  },
  {
   "cell_type": "code",
   "execution_count": 14,
   "metadata": {},
   "outputs": [
    {
     "data": {
      "image/png": "[encoded data removed]",
      "text/plain": [
       "<Figure size 432x288 with 1 Axes>"
      ]
     },
     "metadata": {
      "needs_background": "light"
     },
     "output_type": "display_data"
    },
    {
     "name": "stdout",
     "output_type": "stream",
     "text": [
      "[662  94   6]\n"
     ]
    },
    {
     "data": {
      "image/png": "[encoded data removed]",
      "text/plain": [
       "<Figure size 432x288 with 1 Axes>"
      ]
     },
     "metadata": {
      "needs_background": "light"
     },
     "output_type": "display_data"
    }
   ],
   "source": [
    "thirds={}\n",
    "degrees={}\n",
    "bthirds={}\n",
    "_=vis_and_bin(facebook_caltech)\n",
    "thirds['facebook']=_[0]\n",
    "degrees['facebook']=_[1]\n",
    "bthirds['facebook']=_[2]"
   ]
  },
  {
   "cell_type": "code",
   "execution_count": 15,
   "metadata": {},
   "outputs": [
    {
     "data": {
      "text/plain": [
       "{'facebook': array([1.84645669, 3.        ])}"
      ]
     },
     "execution_count": 15,
     "metadata": {},
     "output_type": "execute_result"
    }
   ],
   "source": [
    "bthirds"
   ]
  },
  {
   "cell_type": "code",
   "execution_count": null,
   "metadata": {},
   "outputs": [],
   "source": [
    "for i in range(20):\n",
    "    print(boxes.greedy_coloring(network=facebook_caltech,lb=2,boxing=True,strategy='random_sequential'))"
   ]
  },
  {
   "cell_type": "code",
   "execution_count": null,
   "metadata": {},
   "outputs": [],
   "source": [
    "boxes.fuzzy(facebook_caltech,2,boxing=True)"
   ]
  },
  {
   "cell_type": "code",
   "execution_count": null,
   "metadata": {},
   "outputs": [],
   "source": [
    "facebook_caltech.get_dist_dict"
   ]
  },
  {
   "cell_type": "code",
   "execution_count": null,
   "metadata": {},
   "outputs": [],
   "source": [
    "facebook_caltech.diameter"
   ]
  },
  {
   "cell_type": "code",
   "execution_count": null,
   "metadata": {},
   "outputs": [],
   "source": [
    "start=time.time()\n",
    "\n",
    "facebook_caltech.get_dist_dict()\n",
    "\n",
    "time_offset=time.time()-start"
   ]
  },
  {
   "cell_type": "code",
   "execution_count": null,
   "metadata": {},
   "outputs": [],
   "source": [
    "time_offset"
   ]
  },
  {
   "cell_type": "code",
   "execution_count": null,
   "metadata": {},
   "outputs": [],
   "source": [
    "help(boxes.io.run_boxing)"
   ]
  },
  {
   "cell_type": "code",
   "execution_count": null,
   "metadata": {},
   "outputs": [],
   "source": [
    "gc.collect()"
   ]
  },
  {
   "cell_type": "code",
   "execution_count": null,
   "metadata": {},
   "outputs": [],
   "source": [
    "os.mkdir('../../result_logs/facebook_caltech')\n",
    "    "
   ]
  },
  {
   "cell_type": "code",
   "execution_count": null,
   "metadata": {},
   "outputs": [],
   "source": [
    "logpath='../../result_logs/facebook_caltech/'\n",
    "lb=range(1,7)\n",
    "rb=range(1,7) # break statement in run_boxing\n",
    "current_network=facebook_caltech\n",
    "current_net='facebook_caltech'"
   ]
  },
  {
   "cell_type": "code",
   "execution_count": null,
   "metadata": {},
   "outputs": [],
   "source": [
    "for algorithm in algs_lb.keys():\n",
    "    \n",
    "    random.seed(137)  #reproducibility\n",
    "    np.random.seed(137)\n",
    "    \n",
    "    \n",
    "    if algorithm!='merge':\n",
    "        \n",
    "        boxes.io.run_boxing({'path':logpath,'net':current_net,'alg':algorithm},\n",
    "                           time_offset,\n",
    "                            current_network,\n",
    "                            lb,                         # box sizes\n",
    "                           algs_lb[algorithm]['alg'],      # set algorithm\n",
    "                           **algs_lb[algorithm]['kwargs']) # unpack keyword arguments\n",
    "    else:\n",
    "        \n",
    "        current_network.shortest_paths=None # merge doesn't use distance dict - would give false overhead\n",
    "        new_start=time.time()\n",
    "        current_network.shortest_paths = dict(nx.all_pairs_shortest_path_length(current_network.graph))\n",
    "        new_offset=time.time()-new_start\n",
    "        \n",
    "        boxes.io.run_boxing({'path':logpath,'net':current_net,'alg':algorithm},\n",
    "                           new_offset,\n",
    "                            current_network,\n",
    "                            lb[-1],                         # box sizes - merge only needs max\n",
    "                           algs_lb[algorithm]['alg'], # set algorithm\n",
    "                            merge_alg=True,\n",
    "                           **algs_lb[algorithm]['kwargs']) \n",
    "        \n",
    "        \n",
    "for algorithm in algs_rb.keys():\n",
    "    if algorithm!='merge':\n",
    "        boxes.io.run_boxing({'path':logpath,'net':current_net,'alg':algorithm},\n",
    "                           time_offset,\n",
    "                            current_network,\n",
    "                            rb,                         # box sizes\n",
    "                           algs_rb[algorithm]['alg'],      # set algorithm\n",
    "                           **algs_rb[algorithm]['kwargs']) "
   ]
  },
  {
   "cell_type": "markdown",
   "metadata": {},
   "source": [
    "Benchmarking with greedy"
   ]
  },
  {
   "cell_type": "code",
   "execution_count": null,
   "metadata": {},
   "outputs": [],
   "source": [
    "help(boxes.io.benchmark)"
   ]
  },
  {
   "cell_type": "code",
   "execution_count": null,
   "metadata": {},
   "outputs": [],
   "source": [
    "boxes.io.benchmark(\n",
    "{'path':logpath,'net':current_net,'alg':'greedy'},\n",
    "                            current_network,\n",
    "                            lb,                         # box sizes - merge only needs max\n",
    "                           boxes.greedy_coloring, # set algorithm\n",
    "                            50,\n",
    "                           **algs_lb['greedy']['kwargs']\n",
    ")"
   ]
  },
  {
   "cell_type": "markdown",
   "metadata": {},
   "source": [
    "Extend with the hyperparameter tuning!\n",
    "\n",
    "---\n",
    "\n",
    "no simulated annealing: too many hyperparameters, silly internal energy\n",
    "\n",
    "DE: only tune num_p, gen, F,CR fixed\n",
    " "
   ]
  },
  {
   "cell_type": "code",
   "execution_count": null,
   "metadata": {},
   "outputs": [],
   "source": [
    "num_p=(10,20,40)\n",
    "gen=20\n",
    "\n",
    "for number in num_p:\n",
    "\n",
    "    boxes.io.run_boxing({'path':logpath,'net':current_net,'alg':'differential_evolution_n_'+str(number)+'_g_'+str(gen)},\n",
    "                               time_offset,\n",
    "                                current_network,\n",
    "                                lb,                         # box sizes\n",
    "                               boxes.differential_evolution,      # set algorithm\n",
    "                               **{'num_p':number,'gn':gen,'boxing':True,'dual_new':True})"
   ]
  },
  {
   "cell_type": "markdown",
   "metadata": {},
   "source": [
    "nump=10 seems to be OK"
   ]
  },
  {
   "cell_type": "code",
   "execution_count": 16,
   "metadata": {},
   "outputs": [
    {
     "data": {
      "text/plain": [
       "26798"
      ]
     },
     "execution_count": 16,
     "metadata": {},
     "output_type": "execute_result"
    }
   ],
   "source": [
    "del(facebook_caltech)\n",
    "gc.collect()"
   ]
  },
  {
   "cell_type": "markdown",
   "metadata": {},
   "source": [
    "### Minnesota"
   ]
  },
  {
   "cell_type": "code",
   "execution_count": 17,
   "metadata": {},
   "outputs": [],
   "source": [
    "minnesota=read_max_connected_component(path+'minnesota/road-minnesota.mtx',15)"
   ]
  },
  {
   "cell_type": "code",
   "execution_count": 19,
   "metadata": {},
   "outputs": [
    {
     "data": {
      "image/png": "[encoded data removed]",
      "text/plain": [
       "<Figure size 432x288 with 1 Axes>"
      ]
     },
     "metadata": {
      "needs_background": "light"
     },
     "output_type": "display_data"
    },
    {
     "name": "stdout",
     "output_type": "stream",
     "text": [
      "[1533  796  311]\n"
     ]
    },
    {
     "data": {
      "image/png": "[encoded data removed]",
      "text/plain": [
       "<Figure size 432x288 with 1 Axes>"
      ]
     },
     "metadata": {
      "needs_background": "light"
     },
     "output_type": "display_data"
    },
    {
     "name": "stdout",
     "output_type": "stream",
     "text": [
      "[16.01477273 49.        ]\n"
     ]
    }
   ],
   "source": [
    "_=vis_and_bin(minnesota)\n",
    "thirds['minnesota']=_[0]\n",
    "degrees['minnesota']=_[1]\n",
    "bthirds['minnesota']=_[2]"
   ]
  },
  {
   "cell_type": "code",
   "execution_count": null,
   "metadata": {},
   "outputs": [],
   "source": [
    "boxes.fuzzy(minnesota,2)"
   ]
  },
  {
   "cell_type": "code",
   "execution_count": null,
   "metadata": {},
   "outputs": [],
   "source": [
    "boxes.greedy_coloring(minnesota,lb=2,boxing=True)"
   ]
  },
  {
   "cell_type": "code",
   "execution_count": null,
   "metadata": {},
   "outputs": [],
   "source": [
    "minnesota.connected"
   ]
  },
  {
   "cell_type": "code",
   "execution_count": null,
   "metadata": {},
   "outputs": [],
   "source": [
    "minnesota.diameter"
   ]
  },
  {
   "cell_type": "code",
   "execution_count": null,
   "metadata": {},
   "outputs": [],
   "source": [
    "start=time.time()\n",
    "\n",
    "minnesota.get_dist_dict()\n",
    "\n",
    "time_offset=time.time()-start"
   ]
  },
  {
   "cell_type": "code",
   "execution_count": null,
   "metadata": {},
   "outputs": [],
   "source": [
    "time_offset"
   ]
  },
  {
   "cell_type": "code",
   "execution_count": null,
   "metadata": {},
   "outputs": [],
   "source": [
    "gc.collect()"
   ]
  },
  {
   "cell_type": "code",
   "execution_count": null,
   "metadata": {},
   "outputs": [],
   "source": [
    "os.mkdir('../../result_logs/minnesota')"
   ]
  },
  {
   "cell_type": "code",
   "execution_count": null,
   "metadata": {},
   "outputs": [],
   "source": [
    "logpath='../../result_logs/minnesota/'\n",
    "lb=range(1,100,4)\n",
    "rb=range(1,100,2) # break statement in run_boxing\n",
    "current_network=minnesota\n",
    "current_net='minnesota'"
   ]
  },
  {
   "cell_type": "code",
   "execution_count": null,
   "metadata": {},
   "outputs": [],
   "source": [
    "\n",
    "\n",
    "for algorithm in algs_lb.keys():\n",
    "    \n",
    "    random.seed(137)  #reproducibility\n",
    "    np.random.seed(137)\n",
    "    \n",
    "    \n",
    "    if algorithm!='merge':\n",
    "        \n",
    "        boxes.io.run_boxing({'path':logpath,'net':current_net,'alg':algorithm},\n",
    "                           time_offset,\n",
    "                            current_network,\n",
    "                            lb,                         # box sizes\n",
    "                           algs_lb[algorithm]['alg'],      # set algorithm\n",
    "                           **algs_lb[algorithm]['kwargs']) # unpack keyword arguments\n",
    "    else:\n",
    "        \n",
    "        current_network.shortest_paths=None # merge doesn't use distance dict - would give false overhead\n",
    "        gc.collect()\n",
    "        \n",
    "        new_start=time.time()\n",
    "        current_network.shortest_paths = dict(nx.all_pairs_shortest_path_length(current_network.graph))\n",
    "        new_offset=time.time()-new_start\n",
    "        \n",
    "        boxes.io.run_boxing({'path':logpath,'net':current_net,'alg':algorithm},\n",
    "                           new_offset,\n",
    "                            current_network,\n",
    "                            lb[-1],                         # box sizes - merge only needs max\n",
    "                           algs_lb[algorithm]['alg'], # set algorithm\n",
    "                            merge_alg=True,\n",
    "                           **algs_lb[algorithm]['kwargs']) \n",
    "        \n",
    "        \n",
    "for algorithm in algs_rb.keys():\n",
    "    if algorithm!='merge':\n",
    "        boxes.io.run_boxing({'path':logpath,'net':current_net,'alg':algorithm},\n",
    "                           time_offset,\n",
    "                            current_network,\n",
    "                            rb,                         # box sizes\n",
    "                           algs_rb[algorithm]['alg'],      # set algorithm\n",
    "                           **algs_rb[algorithm]['kwargs']) "
   ]
  },
  {
   "cell_type": "markdown",
   "metadata": {},
   "source": [
    "DE manual"
   ]
  },
  {
   "cell_type": "code",
   "execution_count": null,
   "metadata": {},
   "outputs": [],
   "source": [
    "num_p=(10,)\n",
    "gen=20\n",
    "\n",
    "for number in num_p:\n",
    "\n",
    "    boxes.io.run_boxing({'path':logpath,'net':current_net,'alg':'differential_evolution_n_'+str(number)+'_g_'+str(gen)},\n",
    "                               time_offset,\n",
    "                                current_network,\n",
    "                                lb,                         # box sizes\n",
    "                               boxes.differential_evolution,      # set algorithm\n",
    "                               **{'num_p':number,'gn':gen,'boxing':True,'dual_new':True})"
   ]
  },
  {
   "cell_type": "code",
   "execution_count": null,
   "metadata": {},
   "outputs": [],
   "source": [
    "boxes.io.benchmark(\n",
    "{'path':logpath,'net':current_net,'alg':'greedy'},\n",
    "                            current_network,\n",
    "                            lb,                         # box sizes - merge only needs max\n",
    "                           boxes.greedy_coloring, # set algorithm\n",
    "                            10,\n",
    "                           **algs_lb['greedy']['kwargs']\n",
    ")"
   ]
  },
  {
   "cell_type": "code",
   "execution_count": 20,
   "metadata": {},
   "outputs": [
    {
     "data": {
      "text/plain": [
       "3343"
      ]
     },
     "execution_count": 20,
     "metadata": {},
     "output_type": "execute_result"
    }
   ],
   "source": [
    "del(minnesota)\n",
    "gc.collect()"
   ]
  },
  {
   "cell_type": "markdown",
   "metadata": {},
   "source": [
    "### Grid graphs"
   ]
  },
  {
   "cell_type": "code",
   "execution_count": null,
   "metadata": {},
   "outputs": [],
   "source": [
    "def boxing_for_algs(\n",
    "logpath='../../result_logs/minnesota/',\n",
    "lb=range(1,100,4),\n",
    "rb=range(1,100,2), # break statement in run_boxing\n",
    "current_network=None,\n",
    "current_net='minnesota',\n",
    "    time_offset=0,\n",
    "    differential_evolution=True\n",
    "):\n",
    "\n",
    "    for algorithm in algs_lb.keys():\n",
    "\n",
    "        random.seed(137)  #reproducibility\n",
    "        np.random.seed(137)\n",
    "\n",
    "\n",
    "        if algorithm!='merge':\n",
    "\n",
    "            boxes.io.run_boxing({'path':logpath,'net':current_net,'alg':algorithm},\n",
    "                               time_offset,\n",
    "                                current_network,\n",
    "                                lb,                         # box sizes\n",
    "                               algs_lb[algorithm]['alg'],      # set algorithm\n",
    "                               **algs_lb[algorithm]['kwargs']) # unpack keyword arguments\n",
    "        else:\n",
    "\n",
    "            current_network.shortest_paths=None # merge doesn't use distance dict - would give false overhead\n",
    "            gc.collect()\n",
    "\n",
    "            new_start=time.time()\n",
    "            current_network.shortest_paths = dict(nx.all_pairs_shortest_path_length(current_network.graph))\n",
    "            new_offset=time.time()-new_start\n",
    "\n",
    "            boxes.io.run_boxing({'path':logpath,'net':current_net,'alg':algorithm},\n",
    "                               new_offset,\n",
    "                                current_network,\n",
    "                                lb[-1],                         # box sizes - merge only needs max\n",
    "                               algs_lb[algorithm]['alg'], # set algorithm\n",
    "                                merge_alg=True,\n",
    "                               **algs_lb[algorithm]['kwargs']) \n",
    "\n",
    "\n",
    "    for algorithm in algs_rb.keys():\n",
    "        if algorithm!='merge':\n",
    "            boxes.io.run_boxing({'path':logpath,'net':current_net,'alg':algorithm},\n",
    "                               time_offset,\n",
    "                                current_network,\n",
    "                                rb,                         # box sizes\n",
    "                               algs_rb[algorithm]['alg'],      # set algorithm\n",
    "                               **algs_rb[algorithm]['kwargs']) \n",
    "    #DE\n",
    "    \n",
    "    if not differential_evolution:\n",
    "        return 0\n",
    "    \n",
    "    number=10\n",
    "    gen=20\n",
    "    \n",
    "    boxes.io.run_boxing({'path':logpath,'net':current_net,'alg':'differential_evolution_n_'+str(number)+'_g_'+str(gen)},\n",
    "                               time_offset,\n",
    "                                current_network,\n",
    "                                lb,                         # box sizes\n",
    "                               boxes.differential_evolution,      # set algorithm\n",
    "                               **{'num_p':number,'gn':gen,'boxing':True,'dual_new':True})\n",
    "    return 0"
   ]
  },
  {
   "cell_type": "markdown",
   "metadata": {},
   "source": [
    "#### 2D"
   ]
  },
  {
   "cell_type": "code",
   "execution_count": null,
   "metadata": {},
   "outputs": [],
   "source": [
    "os.mkdir('../../result_logs/grid2d')"
   ]
  },
  {
   "cell_type": "code",
   "execution_count": null,
   "metadata": {
    "scrolled": true
   },
   "outputs": [],
   "source": [
    "for size in [20,30,40,50,60]:\n",
    "\n",
    "    network=boxes.network(nx.grid_graph(dim=(size,size)))\n",
    "    \n",
    "    start=time.time()\n",
    "\n",
    "    network.get_dist_dict()\n",
    "\n",
    "    time_offset=time.time()-start\n",
    "    \n",
    "    lb=np.logspace(0,np.log10(network.diameter),num=15,dtype=int)\n",
    "    rb=np.logspace(0,np.log10(network.diameter),num=30,dtype=int)\n",
    "    \n",
    "    current_net='grid2d_'+str(size)\n",
    "    \n",
    "    os.mkdir('../../result_logs/grid2d/'+str(size))\n",
    "    \n",
    "    logpath='../../result_logs/grid2d/'+str(size)+'/'\n",
    "    \n",
    "    boxing_for_algs(\n",
    "    logpath=logpath,\n",
    "    lb=lb,\n",
    "    rb=rb, # break statement in run_boxing\n",
    "    current_network=network,\n",
    "    current_net=current_net,\n",
    "    time_offset=time_offset\n",
    "    )\n",
    "    \n",
    "    del(network)\n",
    "    gc.collect()\n",
    "    \n",
    "    \n",
    "    \n",
    "    \n"
   ]
  },
  {
   "cell_type": "code",
   "execution_count": null,
   "metadata": {
    "scrolled": true
   },
   "outputs": [],
   "source": [
    "for size in [20,30,40,50]:\n",
    "\n",
    "    network=boxes.network(nx.grid_graph(dim=(size,size)))\n",
    "\n",
    "    network.get_dist_dict()\n",
    "    \n",
    "    lb=np.logspace(0,np.log10(network.diameter),num=15,dtype=int)\n",
    "    \n",
    "    current_net='grid2d_'+str(size)\n",
    "    \n",
    "    logpath='../../result_logs/grid2d/'+str(size)+'/'\n",
    "    \n",
    "    boxes.io.benchmark(\n",
    "{'path':logpath,'net':current_net,'alg':'greedy'},\n",
    "                            network,\n",
    "                            lb,                         # box sizes - merge only needs max\n",
    "                           boxes.greedy_coloring, # set algorithm\n",
    "                            10,\n",
    "                           **algs_lb['greedy']['kwargs']\n",
    ")\n",
    "    \n",
    "    del(network)\n",
    "    gc.collect()\n",
    "    \n",
    "    \n",
    "    \n",
    "    \n"
   ]
  },
  {
   "cell_type": "code",
   "execution_count": 21,
   "metadata": {
    "scrolled": true
   },
   "outputs": [
    {
     "data": {
      "image/png": "[encoded data removed]",
      "text/plain": [
       "<Figure size 432x288 with 1 Axes>"
      ]
     },
     "metadata": {
      "needs_background": "light"
     },
     "output_type": "display_data"
    },
    {
     "name": "stdout",
     "output_type": "stream",
     "text": [
      "[  4  72 324]\n"
     ]
    },
    {
     "data": {
      "image/png": "[encoded data removed]",
      "text/plain": [
       "<Figure size 432x288 with 1 Axes>"
      ]
     },
     "metadata": {
      "needs_background": "light"
     },
     "output_type": "display_data"
    },
    {
     "name": "stdout",
     "output_type": "stream",
     "text": [
      "[15.7 19. ]\n"
     ]
    },
    {
     "data": {
      "image/png": "[encoded data removed]",
      "text/plain": [
       "<Figure size 432x288 with 1 Axes>"
      ]
     },
     "metadata": {
      "needs_background": "light"
     },
     "output_type": "display_data"
    },
    {
     "name": "stdout",
     "output_type": "stream",
     "text": [
      "[  4 112 784]\n"
     ]
    },
    {
     "data": {
      "image/png": "[encoded data removed]",
      "text/plain": [
       "<Figure size 432x288 with 1 Axes>"
      ]
     },
     "metadata": {
      "needs_background": "light"
     },
     "output_type": "display_data"
    },
    {
     "name": "stdout",
     "output_type": "stream",
     "text": [
      "[24.02222222 29.        ]\n"
     ]
    },
    {
     "data": {
      "image/png": "[encoded data removed]",
      "text/plain": [
       "<Figure size 432x288 with 1 Axes>"
      ]
     },
     "metadata": {
      "needs_background": "light"
     },
     "output_type": "display_data"
    },
    {
     "name": "stdout",
     "output_type": "stream",
     "text": [
      "[   4  152 1444]\n"
     ]
    },
    {
     "data": {
      "image/png": "[encoded data removed]",
      "text/plain": [
       "<Figure size 432x288 with 1 Axes>"
      ]
     },
     "metadata": {
      "needs_background": "light"
     },
     "output_type": "display_data"
    },
    {
     "name": "stdout",
     "output_type": "stream",
     "text": [
      "[32.35 39.  ]\n"
     ]
    },
    {
     "data": {
      "image/png": "[encoded data removed]",
      "text/plain": [
       "<Figure size 432x288 with 1 Axes>"
      ]
     },
     "metadata": {
      "needs_background": "light"
     },
     "output_type": "display_data"
    },
    {
     "name": "stdout",
     "output_type": "stream",
     "text": [
      "[   4  192 2304]\n"
     ]
    },
    {
     "data": {
      "image/png": "[encoded data removed]",
      "text/plain": [
       "<Figure size 432x288 with 1 Axes>"
      ]
     },
     "metadata": {
      "needs_background": "light"
     },
     "output_type": "display_data"
    },
    {
     "name": "stdout",
     "output_type": "stream",
     "text": [
      "[40.68 49.  ]\n"
     ]
    }
   ],
   "source": [
    "for size in [20,30,40,50]:\n",
    "\n",
    "    network=boxes.network(nx.grid_graph(dim=(size,size)))\n",
    "\n",
    "    _=vis_and_bin(network)\n",
    "    thirds['grid'+str(size)]=_[0]\n",
    "    degrees['grid'+str(size)]=_[1]\n",
    "    bthirds['grid'+str(size)]=_[2]\n",
    "    \n",
    "    del(network)\n",
    "    gc.collect()\n",
    "    \n",
    "    \n",
    "    \n",
    "    \n"
   ]
  },
  {
   "cell_type": "markdown",
   "metadata": {},
   "source": [
    "#### 3D"
   ]
  },
  {
   "cell_type": "code",
   "execution_count": null,
   "metadata": {},
   "outputs": [],
   "source": [
    "os.mkdir('../../result_logs/grid3d')"
   ]
  },
  {
   "cell_type": "code",
   "execution_count": null,
   "metadata": {},
   "outputs": [],
   "source": []
  },
  {
   "cell_type": "code",
   "execution_count": null,
   "metadata": {
    "scrolled": true
   },
   "outputs": [],
   "source": [
    "for size in [20,]:\n",
    "\n",
    "    network=boxes.network(nx.grid_graph(dim=(size,size,size)))\n",
    "    \n",
    "    start=time.time()\n",
    "\n",
    "    network.get_dist_dict()\n",
    "\n",
    "    time_offset=time.time()-start\n",
    "    \n",
    "    lb=np.logspace(0,np.log10(network.diameter),num=15,dtype=int)\n",
    "    rb=np.logspace(0,np.log10(network.diameter),num=30,dtype=int)\n",
    "    \n",
    "    current_net='grid3d_'+str(size)\n",
    "    \n",
    "    os.mkdir('../../result_logs/grid3d/'+str(size))\n",
    "    \n",
    "    logpath='../../result_logs/grid3d/'+str(size)+'/'\n",
    "    \n",
    "    boxing_for_algs(\n",
    "    logpath=logpath,\n",
    "    lb=lb,\n",
    "    rb=rb, # break statement in run_boxing\n",
    "    current_network=network,\n",
    "    current_net=current_net,\n",
    "    time_offset=time_offset\n",
    "    )\n",
    "    \n",
    "    del(network)\n",
    "    gc.collect()\n",
    "    \n",
    "    \n",
    "    \n",
    "    \n"
   ]
  },
  {
   "cell_type": "code",
   "execution_count": 22,
   "metadata": {},
   "outputs": [
    {
     "data": {
      "text/plain": [
       "20"
      ]
     },
     "execution_count": 22,
     "metadata": {},
     "output_type": "execute_result"
    }
   ],
   "source": [
    "gc.collect()"
   ]
  },
  {
   "cell_type": "markdown",
   "metadata": {},
   "source": [
    "#### UV flower\n",
    "\n",
    "Based on previous calculations, we try 3 nets:\n",
    "\n",
    "+ u,v=1,2 (non-fractal)\n",
    "+ u,v=2,2 fractal, theoretical db: 2\n",
    "+ u,v=2,4 fractal, theoretical db: 2.6"
   ]
  },
  {
   "cell_type": "markdown",
   "metadata": {},
   "source": [
    "__UV_12, gen=7__"
   ]
  },
  {
   "cell_type": "code",
   "execution_count": null,
   "metadata": {},
   "outputs": [],
   "source": [
    "help(boxes.generators.uv_flower)"
   ]
  },
  {
   "cell_type": "code",
   "execution_count": 29,
   "metadata": {},
   "outputs": [],
   "source": [
    "del(network)"
   ]
  },
  {
   "cell_type": "code",
   "execution_count": 30,
   "metadata": {},
   "outputs": [
    {
     "data": {
      "text/plain": [
       "6701"
      ]
     },
     "execution_count": 30,
     "metadata": {},
     "output_type": "execute_result"
    }
   ],
   "source": [
    "gc.collect()"
   ]
  },
  {
   "cell_type": "code",
   "execution_count": null,
   "metadata": {},
   "outputs": [],
   "source": [
    "os.mkdir('../../result_logs/uv_12_g7')"
   ]
  },
  {
   "cell_type": "code",
   "execution_count": 23,
   "metadata": {},
   "outputs": [],
   "source": [
    "network=boxes.network(boxes.generators.uv_flower(1,2,7))"
   ]
  },
  {
   "cell_type": "code",
   "execution_count": 24,
   "metadata": {},
   "outputs": [
    {
     "data": {
      "image/png": "[encoded data removed]",
      "text/plain": [
       "<Figure size 432x288 with 1 Axes>"
      ]
     },
     "metadata": {
      "needs_background": "light"
     },
     "output_type": "display_data"
    },
    {
     "name": "stdout",
     "output_type": "stream",
     "text": [
      "[1089    3    3]\n"
     ]
    },
    {
     "data": {
      "image/png": "[encoded data removed]",
      "text/plain": [
       "<Figure size 432x288 with 1 Axes>"
      ]
     },
     "metadata": {
      "needs_background": "light"
     },
     "output_type": "display_data"
    },
    {
     "name": "stdout",
     "output_type": "stream",
     "text": [
      "[0.37808219 3.        ]\n"
     ]
    }
   ],
   "source": [
    " _=vis_and_bin(network)\n",
    "thirds['uv127']=_[0]\n",
    "degrees['uv127']=_[1]\n",
    "bthirds['uv127']=_[2]"
   ]
  },
  {
   "cell_type": "code",
   "execution_count": null,
   "metadata": {},
   "outputs": [],
   "source": [
    "network.distance_dict.keys()"
   ]
  },
  {
   "cell_type": "code",
   "execution_count": null,
   "metadata": {},
   "outputs": [],
   "source": [
    "start=time.time()\n",
    "\n",
    "network.get_dist_dict()\n",
    "\n",
    "time_offset=time.time()-start\n",
    "\n",
    "lb=range(1,8)\n",
    "rb=range(1,8)\n",
    "\n",
    "current_net='uv_12_g7'\n",
    "\n",
    "logpath='../../result_logs/uv_12_g7/'\n",
    "\n",
    "boxing_for_algs(\n",
    "logpath=logpath,\n",
    "lb=lb,\n",
    "rb=rb, # break statement in run_boxing\n",
    "current_network=network,\n",
    "current_net=current_net,\n",
    "time_offset=time_offset\n",
    ")\n",
    "\n",
    "del(network)\n",
    "gc.collect()"
   ]
  },
  {
   "cell_type": "code",
   "execution_count": null,
   "metadata": {},
   "outputs": [],
   "source": [
    "start=time.time()\n",
    "\n",
    "network.get_dist_dict()\n",
    "\n",
    "time_offset=time.time()-start\n",
    "\n",
    "lb=range(1,8)\n",
    "\n",
    "current_net='uv_12_g7'\n",
    "\n",
    "logpath='../../result_logs/uv_12_g7/'\n",
    "\n",
    "\n",
    "boxes.io.benchmark(\n",
    "{'path':logpath,'net':current_net,'alg':'greedy'},\n",
    "                            network,\n",
    "                            lb,                         # box sizes - merge only needs max\n",
    "                           boxes.greedy_coloring, # set algorithm\n",
    "                            10,\n",
    "                           **algs_lb['greedy']['kwargs'])"
   ]
  },
  {
   "cell_type": "markdown",
   "metadata": {},
   "source": [
    "__UV_22, gen=5__"
   ]
  },
  {
   "cell_type": "code",
   "execution_count": 27,
   "metadata": {},
   "outputs": [],
   "source": [
    "network=boxes.network(boxes.generators.uv_flower(2,2,5))"
   ]
  },
  {
   "cell_type": "code",
   "execution_count": 28,
   "metadata": {},
   "outputs": [
    {
     "data": {
      "image/png": "[encoded data removed]",
      "text/plain": [
       "<Figure size 432x288 with 1 Axes>"
      ]
     },
     "metadata": {
      "needs_background": "light"
     },
     "output_type": "display_data"
    },
    {
     "name": "stdout",
     "output_type": "stream",
     "text": [
      "[672   8   4]\n"
     ]
    },
    {
     "data": {
      "image/png": "[encoded data removed]",
      "text/plain": [
       "<Figure size 432x288 with 1 Axes>"
      ]
     },
     "metadata": {
      "needs_background": "light"
     },
     "output_type": "display_data"
    },
    {
     "name": "stdout",
     "output_type": "stream",
     "text": [
      "[16. 16.]\n"
     ]
    }
   ],
   "source": [
    " _=vis_and_bin(network)\n",
    "thirds['uv225']=_[0]\n",
    "degrees['uv225']=_[1]\n",
    "bthirds['uv225']=_[2]"
   ]
  },
  {
   "cell_type": "code",
   "execution_count": null,
   "metadata": {},
   "outputs": [],
   "source": [
    "os.mkdir('../../result_logs/uv_22_g5')"
   ]
  },
  {
   "cell_type": "code",
   "execution_count": null,
   "metadata": {},
   "outputs": [],
   "source": [
    "network.diameter"
   ]
  },
  {
   "cell_type": "code",
   "execution_count": null,
   "metadata": {},
   "outputs": [],
   "source": [
    "start=time.time()\n",
    "\n",
    "network.get_dist_dict()\n",
    "\n",
    "time_offset=time.time()-start\n",
    "\n",
    "lb=range(1,32,2)\n",
    "rb=range(1,30)\n",
    "\n",
    "current_net='uv_22_g5'\n",
    "\n",
    "logpath='../../result_logs/uv_22_g5/'\n",
    "\n",
    "boxing_for_algs(\n",
    "logpath=logpath,\n",
    "lb=lb,\n",
    "rb=rb, # break statement in run_boxing\n",
    "current_network=network,\n",
    "current_net=current_net,\n",
    "time_offset=time_offset\n",
    ")\n",
    "\n",
    "del(network)\n",
    "gc.collect()"
   ]
  },
  {
   "cell_type": "code",
   "execution_count": null,
   "metadata": {},
   "outputs": [],
   "source": [
    "start=time.time()\n",
    "\n",
    "network.get_dist_dict()\n",
    "\n",
    "time_offset=time.time()-start\n",
    "\n",
    "lb=range(1,32,2)\n",
    "\n",
    "current_net='uv_22_g5'\n",
    "\n",
    "logpath='../../result_logs/uv_22_g5/'\n",
    "\n",
    "\n",
    "boxes.io.benchmark(\n",
    "{'path':logpath,'net':current_net,'alg':'greedy'},\n",
    "                            network,\n",
    "                            lb,                         # box sizes - merge only needs max\n",
    "                           boxes.greedy_coloring, # set algorithm\n",
    "                            10,\n",
    "                           **algs_lb['greedy']['kwargs'])"
   ]
  },
  {
   "cell_type": "markdown",
   "metadata": {},
   "source": [
    "__UV_24, gen=4__"
   ]
  },
  {
   "cell_type": "code",
   "execution_count": 31,
   "metadata": {},
   "outputs": [],
   "source": [
    "network=boxes.network(boxes.generators.uv_flower(2,4,4))"
   ]
  },
  {
   "cell_type": "code",
   "execution_count": 32,
   "metadata": {},
   "outputs": [
    {
     "data": {
      "image/png": "[encoded data removed]",
      "text/plain": [
       "<Figure size 432x288 with 1 Axes>"
      ]
     },
     "metadata": {
      "needs_background": "light"
     },
     "output_type": "display_data"
    },
    {
     "name": "stdout",
     "output_type": "stream",
     "text": [
      "[1008   24    6]\n"
     ]
    },
    {
     "data": {
      "image/png": "[encoded data removed]",
      "text/plain": [
       "<Figure size 432x288 with 1 Axes>"
      ]
     },
     "metadata": {
      "needs_background": "light"
     },
     "output_type": "display_data"
    },
    {
     "name": "stdout",
     "output_type": "stream",
     "text": [
      "[ 4.05202312 19.        ]\n"
     ]
    }
   ],
   "source": [
    " _=vis_and_bin(network)\n",
    "thirds['uv244']=_[0]\n",
    "degrees['uv244']=_[1]\n",
    "bthirds['uv244']=_[2]\n",
    "del(network)\n",
    "gc.collect()"
   ]
  },
  {
   "cell_type": "code",
   "execution_count": null,
   "metadata": {},
   "outputs": [],
   "source": [
    "os.mkdir('../../result_logs/uv_24_g4')"
   ]
  },
  {
   "cell_type": "code",
   "execution_count": 33,
   "metadata": {},
   "outputs": [
    {
     "data": {
      "text/plain": [
       "6733"
      ]
     },
     "execution_count": 33,
     "metadata": {},
     "output_type": "execute_result"
    }
   ],
   "source": [
    "del(network)\n",
    "gc.collect()"
   ]
  },
  {
   "cell_type": "code",
   "execution_count": null,
   "metadata": {},
   "outputs": [],
   "source": [
    "start=time.time()\n",
    "\n",
    "network.get_dist_dict()\n",
    "\n",
    "time_offset=time.time()-start\n",
    "\n",
    "lb=range(1,38,2)\n",
    "rb=range(1,38)\n",
    "\n",
    "current_net='uv_24_g4'\n",
    "\n",
    "logpath='../../result_logs/uv_24_g4/'\n",
    "\n",
    "boxing_for_algs(\n",
    "logpath=logpath,\n",
    "lb=lb,\n",
    "rb=rb, # break statement in run_boxing\n",
    "current_network=network,\n",
    "current_net=current_net,\n",
    "time_offset=time_offset\n",
    ")\n",
    "\n",
    "del(network)\n",
    "gc.collect()"
   ]
  },
  {
   "cell_type": "code",
   "execution_count": null,
   "metadata": {},
   "outputs": [],
   "source": [
    "start=time.time()\n",
    "\n",
    "network.get_dist_dict()\n",
    "\n",
    "time_offset=time.time()-start\n",
    "\n",
    "lb=range(1,38,2)\n",
    "\n",
    "current_net='uv_24_g4'\n",
    "\n",
    "logpath='../../result_logs/uv_24_g4/'\n",
    "\n",
    "\n",
    "boxes.io.benchmark(\n",
    "{'path':logpath,'net':current_net,'alg':'greedy'},\n",
    "                            network,\n",
    "                            lb,                         # box sizes - merge only needs max\n",
    "                           boxes.greedy_coloring, # set algorithm\n",
    "                            10,\n",
    "                           **algs_lb['greedy']['kwargs'])"
   ]
  },
  {
   "cell_type": "markdown",
   "metadata": {},
   "source": [
    "#### SHM model"
   ]
  },
  {
   "cell_type": "markdown",
   "metadata": {},
   "source": [
    "__SHM_gmxe_5210__"
   ]
  },
  {
   "cell_type": "code",
   "execution_count": null,
   "metadata": {},
   "outputs": [],
   "source": [
    "help(boxes.generators.fractal_model)"
   ]
  },
  {
   "cell_type": "code",
   "execution_count": 34,
   "metadata": {},
   "outputs": [],
   "source": [
    "network=boxes.network(boxes.generators.fractal_model(5,2,1,0.))"
   ]
  },
  {
   "cell_type": "code",
   "execution_count": 35,
   "metadata": {},
   "outputs": [
    {
     "data": {
      "image/png": "[encoded data removed]",
      "text/plain": [
       "<Figure size 432x288 with 1 Axes>"
      ]
     },
     "metadata": {
      "needs_background": "light"
     },
     "output_type": "display_data"
    },
    {
     "name": "stdout",
     "output_type": "stream",
     "text": [
      "[3110   12    4]\n"
     ]
    },
    {
     "data": {
      "image/png": "[encoded data removed]",
      "text/plain": [
       "<Figure size 432x288 with 1 Axes>"
      ]
     },
     "metadata": {
      "needs_background": "light"
     },
     "output_type": "display_data"
    },
    {
     "name": "stdout",
     "output_type": "stream",
     "text": [
      "[ 22.19001919 242.        ]\n"
     ]
    },
    {
     "data": {
      "text/plain": [
       "3261"
      ]
     },
     "execution_count": 35,
     "metadata": {},
     "output_type": "execute_result"
    }
   ],
   "source": [
    " _=vis_and_bin(network)\n",
    "thirds['shm5210']=_[0]\n",
    "degrees['shm5210']=_[1]\n",
    "bthirds['shm5210']=_[2]\n",
    "del(network)\n",
    "gc.collect()"
   ]
  },
  {
   "cell_type": "code",
   "execution_count": null,
   "metadata": {},
   "outputs": [],
   "source": [
    "os.mkdir('../../result_logs/shm_gmxe_5210')"
   ]
  },
  {
   "cell_type": "code",
   "execution_count": null,
   "metadata": {},
   "outputs": [],
   "source": [
    "network.diameter"
   ]
  },
  {
   "cell_type": "code",
   "execution_count": null,
   "metadata": {},
   "outputs": [],
   "source": [
    "start=time.time()\n",
    "\n",
    "network.get_dist_dict()\n",
    "\n",
    "time_offset=time.time()-start\n",
    "\n",
    "lb=np.logspace(0,np.log10(network.diameter),num=15,dtype=int)\n",
    "rb=np.logspace(0,np.log10(network.diameter),num=30,dtype=int)\n",
    "\n",
    "current_net='shm_gmxe_5210'\n",
    "\n",
    "logpath='../../result_logs/shm_gmxe_5210/'\n",
    "\n",
    "boxing_for_algs(\n",
    "logpath=logpath,\n",
    "lb=lb,\n",
    "rb=rb, # break statement in run_boxing\n",
    "current_network=network,\n",
    "current_net=current_net,\n",
    "time_offset=time_offset\n",
    ")\n",
    "\n",
    "del(network)\n",
    "gc.collect()"
   ]
  },
  {
   "cell_type": "code",
   "execution_count": null,
   "metadata": {},
   "outputs": [],
   "source": [
    "start=time.time()\n",
    "\n",
    "network.get_dist_dict()\n",
    "\n",
    "time_offset=time.time()-start\n",
    "\n",
    "lb=np.logspace(0,np.log10(network.diameter),num=15,dtype=int)\n",
    "\n",
    "current_net='shm_gmxe_5210'\n",
    "\n",
    "logpath='../../result_logs/shm_gmxe_5210/'\n",
    "\n",
    "\n",
    "boxes.io.benchmark(\n",
    "{'path':logpath,'net':current_net,'alg':'greedy'},\n",
    "                            network,\n",
    "                            lb,                         # box sizes - merge only needs max\n",
    "                           boxes.greedy_coloring, # set algorithm\n",
    "                            10,\n",
    "                           **algs_lb['greedy']['kwargs'])"
   ]
  },
  {
   "cell_type": "markdown",
   "metadata": {},
   "source": [
    "__SHM_gmxe_422_0.__"
   ]
  },
  {
   "cell_type": "code",
   "execution_count": 36,
   "metadata": {},
   "outputs": [],
   "source": [
    "network=boxes.network(boxes.generators.fractal_model(4,2,2,0.))"
   ]
  },
  {
   "cell_type": "code",
   "execution_count": 37,
   "metadata": {},
   "outputs": [
    {
     "data": {
      "image/png": "[encoded data removed]",
      "text/plain": [
       "<Figure size 432x288 with 1 Axes>"
      ]
     },
     "metadata": {
      "needs_background": "light"
     },
     "output_type": "display_data"
    },
    {
     "name": "stdout",
     "output_type": "stream",
     "text": [
      "[1008   24    6]\n"
     ]
    },
    {
     "data": {
      "image/png": "[encoded data removed]",
      "text/plain": [
       "<Figure size 432x288 with 1 Axes>"
      ]
     },
     "metadata": {
      "needs_background": "light"
     },
     "output_type": "display_data"
    },
    {
     "name": "stdout",
     "output_type": "stream",
     "text": [
      "[40. 40.]\n"
     ]
    },
    {
     "data": {
      "text/plain": [
       "3199"
      ]
     },
     "execution_count": 37,
     "metadata": {},
     "output_type": "execute_result"
    }
   ],
   "source": [
    " _=vis_and_bin(network)\n",
    "thirds['shm4220']=_[0]\n",
    "degrees['shm4220']=_[1]\n",
    "bthirds['shm4220']=_[2]\n",
    "del(network)\n",
    "gc.collect()"
   ]
  },
  {
   "cell_type": "code",
   "execution_count": null,
   "metadata": {},
   "outputs": [],
   "source": [
    "os.mkdir('../../result_logs/shm_gmxe_4220')"
   ]
  },
  {
   "cell_type": "code",
   "execution_count": null,
   "metadata": {},
   "outputs": [],
   "source": [
    "network.diameter"
   ]
  },
  {
   "cell_type": "code",
   "execution_count": null,
   "metadata": {},
   "outputs": [],
   "source": [
    "start=time.time()\n",
    "\n",
    "network.get_dist_dict()\n",
    "\n",
    "time_offset=time.time()-start\n",
    "\n",
    "lb=np.logspace(0,np.log10(network.diameter),num=15,dtype=int)\n",
    "rb=np.logspace(0,np.log10(network.diameter),num=30,dtype=int)\n",
    "\n",
    "current_net='shm_gmxe_4220'\n",
    "\n",
    "logpath='../../result_logs/shm_gmxe_4220/'\n",
    "\n",
    "boxing_for_algs(\n",
    "logpath=logpath,\n",
    "lb=lb,\n",
    "rb=rb, # break statement in run_boxing\n",
    "current_network=network,\n",
    "current_net=current_net,\n",
    "time_offset=time_offset,\n",
    "    differential_evolution=False\n",
    ")\n",
    "\n",
    "del(network)\n",
    "gc.collect()"
   ]
  },
  {
   "cell_type": "code",
   "execution_count": null,
   "metadata": {},
   "outputs": [],
   "source": [
    "start=time.time()\n",
    "\n",
    "network.get_dist_dict()\n",
    "\n",
    "time_offset=time.time()-start\n",
    "\n",
    "lb=np.logspace(0,np.log10(network.diameter),num=15,dtype=int)\n",
    "\n",
    "current_net='shm_gmxe_4220'\n",
    "\n",
    "logpath='../../result_logs/shm_gmxe_4220/'\n",
    "\n",
    "\n",
    "boxes.io.benchmark(\n",
    "{'path':logpath,'net':current_net,'alg':'greedy'},\n",
    "                            network,\n",
    "                            lb,                         # box sizes - merge only needs max\n",
    "                           boxes.greedy_coloring, # set algorithm\n",
    "                            10,\n",
    "                           **algs_lb['greedy']['kwargs'])"
   ]
  },
  {
   "cell_type": "markdown",
   "metadata": {},
   "source": [
    "__SHM_gmxe_521_0.5__"
   ]
  },
  {
   "cell_type": "code",
   "execution_count": 38,
   "metadata": {},
   "outputs": [],
   "source": [
    "network=boxes.network(boxes.generators.fractal_model(5,2,1,0.5))"
   ]
  },
  {
   "cell_type": "code",
   "execution_count": 39,
   "metadata": {},
   "outputs": [
    {
     "data": {
      "image/png": "[encoded data removed]",
      "text/plain": [
       "<Figure size 432x288 with 1 Axes>"
      ]
     },
     "metadata": {
      "needs_background": "light"
     },
     "output_type": "display_data"
    },
    {
     "name": "stdout",
     "output_type": "stream",
     "text": [
      "[3116    7    3]\n"
     ]
    },
    {
     "data": {
      "image/png": "[encoded data removed]",
      "text/plain": [
       "<Figure size 432x288 with 1 Axes>"
      ]
     },
     "metadata": {
      "needs_background": "light"
     },
     "output_type": "display_data"
    },
    {
     "name": "stdout",
     "output_type": "stream",
     "text": [
      "[ 2.5003199 64.       ]\n"
     ]
    },
    {
     "data": {
      "text/plain": [
       "3385"
      ]
     },
     "execution_count": 39,
     "metadata": {},
     "output_type": "execute_result"
    }
   ],
   "source": [
    " _=vis_and_bin(network)\n",
    "thirds['shm521_0.5']=_[0]\n",
    "degrees['shm521_0.5']=_[1]\n",
    "bthirds['shm521_0.5']=_[2]\n",
    "del(network)\n",
    "gc.collect()"
   ]
  },
  {
   "cell_type": "code",
   "execution_count": null,
   "metadata": {},
   "outputs": [],
   "source": [
    "os.mkdir('../../result_logs/shm_gmxe_521_0.5_distribution')\n",
    "\n",
    "network.diameter"
   ]
  },
  {
   "cell_type": "code",
   "execution_count": null,
   "metadata": {},
   "outputs": [],
   "source": [
    "lb=[2,4]\n",
    "rb=[1,2]\n",
    "\n",
    "current_net='shm_gmxe_521_0.5'\n",
    "\n",
    "logpath='../../result_logs/shm_gmxe_521_0.5_distribution/'\n",
    "\n",
    "# for algorithm in ['merge']:\n",
    "\n",
    "#         random.seed(137)  #reproducibility\n",
    "#         np.random.seed(137)\n",
    "\n",
    "#         boxes.io.benchmark({'path':logpath,'net':current_net,'alg':algorithm},\n",
    "#                             network,\n",
    "#                             lb,                         # box sizes\n",
    "#                            algs_lb[algorithm]['alg'],# set algorithm\n",
    "#                            40,\n",
    "#                            **algs_lb[algorithm]['kwargs']) # unpack keyword argument\n",
    "\n",
    "\n",
    "for algorithm in algs_rb.keys():\n",
    "    if algorithm!='merge':\n",
    "        boxes.io.benchmark({'path':logpath,'net':current_net,'alg':algorithm},\n",
    "                            network,\n",
    "                            rb,                         # box sizes\n",
    "                           algs_rb[algorithm]['alg'],# set algorithm\n",
    "                            40,\n",
    "                           **algs_rb[algorithm]['kwargs']) "
   ]
  },
  {
   "cell_type": "code",
   "execution_count": null,
   "metadata": {},
   "outputs": [],
   "source": [
    "start=time.time()\n",
    "\n",
    "network.get_dist_dict()\n",
    "\n",
    "time_offset=time.time()-start\n",
    "\n",
    "lb=np.logspace(0,np.log10(network.diameter),num=15,dtype=int)\n",
    "rb=np.logspace(0,np.log10(network.diameter),num=30,dtype=int)\n",
    "\n",
    "current_net='shm_gmxe_521_0.5'\n",
    "\n",
    "logpath='../../result_logs/shm_gmxe_521_0.5/'\n",
    "\n",
    "boxing_for_algs(\n",
    "logpath=logpath,\n",
    "lb=lb,\n",
    "rb=rb, # break statement in run_boxing\n",
    "current_network=network,\n",
    "current_net=current_net,\n",
    "time_offset=time_offset,\n",
    "    differential_evolution=False\n",
    ")\n",
    "\n",
    "del(network)\n",
    "gc.collect()"
   ]
  },
  {
   "cell_type": "code",
   "execution_count": null,
   "metadata": {},
   "outputs": [],
   "source": [
    "start=time.time()\n",
    "\n",
    "network.get_dist_dict()\n",
    "\n",
    "time_offset=time.time()-start\n",
    "\n",
    "lb=np.logspace(0,np.log10(network.diameter),num=15,dtype=int)\n",
    "\n",
    "current_net='shm_gmxe_521_0.5'\n",
    "\n",
    "logpath='../../result_logs/shm_gmxe_521_0.5/'\n",
    "\n",
    "\n",
    "boxes.io.benchmark(\n",
    "{'path':logpath,'net':current_net,'alg':'greedy'},\n",
    "                            network,\n",
    "                            lb,                         # box sizes - merge only needs max\n",
    "                           boxes.greedy_coloring, # set algorithm\n",
    "                            10,\n",
    "                           **algs_lb['greedy']['kwargs'])"
   ]
  },
  {
   "cell_type": "code",
   "execution_count": null,
   "metadata": {},
   "outputs": [],
   "source": [
    "def high_level_boxing(network,crnt_net):\n",
    "    \n",
    "    os.mkdir('../../result_logs/'+crnt_net)\n",
    "    \n",
    "    start=time.time()\n",
    "\n",
    "    network.get_dist_dict()\n",
    "\n",
    "    time_offset=time.time()-start\n",
    "\n",
    "    lb=np.logspace(0,np.log10(network.diameter),num=15,dtype=int)\n",
    "    rb=np.logspace(0,np.log10(network.diameter),num=30,dtype=int)\n",
    "\n",
    "    boxing_for_algs(\n",
    "    logpath='../../result_logs/'+crnt_net+'/',\n",
    "    lb=lb,\n",
    "    rb=rb, # break statement in run_boxing\n",
    "    current_network=network,\n",
    "    current_net=crnt_net,\n",
    "    time_offset=time_offset,\n",
    "    differential_evolution=False\n",
    "    )\n",
    "\n",
    "    del(network)\n",
    "    gc.collect()"
   ]
  },
  {
   "cell_type": "markdown",
   "metadata": {},
   "source": [
    "__SHM_gmxe_422_0.5__"
   ]
  },
  {
   "cell_type": "code",
   "execution_count": 40,
   "metadata": {},
   "outputs": [
    {
     "data": {
      "text/plain": [
       "35"
      ]
     },
     "execution_count": 40,
     "metadata": {},
     "output_type": "execute_result"
    }
   ],
   "source": [
    "network=boxes.network(boxes.generators.fractal_model(4,2,2,0.5))\n",
    "\n",
    "network.diameter"
   ]
  },
  {
   "cell_type": "code",
   "execution_count": 41,
   "metadata": {},
   "outputs": [
    {
     "data": {
      "image/png": "[encoded data removed]",
      "text/plain": [
       "<Figure size 432x288 with 1 Axes>"
      ]
     },
     "metadata": {
      "needs_background": "light"
     },
     "output_type": "display_data"
    },
    {
     "name": "stdout",
     "output_type": "stream",
     "text": [
      "[893   7   6]\n"
     ]
    },
    {
     "data": {
      "image/png": "[encoded data removed]",
      "text/plain": [
       "<Figure size 432x288 with 1 Axes>"
      ]
     },
     "metadata": {
      "needs_background": "light"
     },
     "output_type": "display_data"
    },
    {
     "name": "stdout",
     "output_type": "stream",
     "text": [
      "[ 3.65783664 17.        ]\n"
     ]
    },
    {
     "data": {
      "text/plain": [
       "6847"
      ]
     },
     "execution_count": 41,
     "metadata": {},
     "output_type": "execute_result"
    }
   ],
   "source": [
    " _=vis_and_bin(network)\n",
    "thirds['shm442_0.5']=_[0]\n",
    "degrees['shm442_0.5']=_[1]\n",
    "bthirds['shm442_0.5']=_[2]\n",
    "del(network)\n",
    "gc.collect()"
   ]
  },
  {
   "cell_type": "code",
   "execution_count": null,
   "metadata": {},
   "outputs": [],
   "source": [
    "start=time.time()\n",
    "\n",
    "network.get_dist_dict()\n",
    "\n",
    "time_offset=time.time()-start\n",
    "\n",
    "lb=np.logspace(0,np.log10(network.diameter),num=15,dtype=int)\n",
    "\n",
    "current_net='shm_gmxe_422_0.5'\n",
    "\n",
    "logpath='../../result_logs/shm_gmxe_422_0.5/'\n",
    "\n",
    "\n",
    "boxes.io.benchmark(\n",
    "{'path':logpath,'net':current_net,'alg':'greedy'},\n",
    "                            network,\n",
    "                            lb,                         # box sizes - merge only needs max\n",
    "                           boxes.greedy_coloring, # set algorithm\n",
    "                            10,\n",
    "                           **algs_lb['greedy']['kwargs'])"
   ]
  },
  {
   "cell_type": "code",
   "execution_count": null,
   "metadata": {},
   "outputs": [],
   "source": [
    "high_level_boxing(network,'shm_gmxe_422_0.5')"
   ]
  },
  {
   "cell_type": "markdown",
   "metadata": {},
   "source": [
    "__SHM_gmxe_521_1__"
   ]
  },
  {
   "cell_type": "code",
   "execution_count": 42,
   "metadata": {},
   "outputs": [
    {
     "data": {
      "text/plain": [
       "11"
      ]
     },
     "execution_count": 42,
     "metadata": {},
     "output_type": "execute_result"
    }
   ],
   "source": [
    "network=boxes.network(boxes.generators.fractal_model(5,2,1,1))\n",
    "\n",
    "network.diameter"
   ]
  },
  {
   "cell_type": "code",
   "execution_count": 43,
   "metadata": {},
   "outputs": [
    {
     "data": {
      "image/png": "[encoded data removed]",
      "text/plain": [
       "<Figure size 432x288 with 1 Axes>"
      ]
     },
     "metadata": {
      "needs_background": "light"
     },
     "output_type": "display_data"
    },
    {
     "name": "stdout",
     "output_type": "stream",
     "text": [
      "[3120    4    2]\n"
     ]
    },
    {
     "data": {
      "image/png": "[encoded data removed]",
      "text/plain": [
       "<Figure size 432x288 with 1 Axes>"
      ]
     },
     "metadata": {
      "needs_background": "light"
     },
     "output_type": "display_data"
    },
    {
     "name": "stdout",
     "output_type": "stream",
     "text": [
      "[0.25143954 5.        ]\n"
     ]
    },
    {
     "data": {
      "text/plain": [
       "6584"
      ]
     },
     "execution_count": 43,
     "metadata": {},
     "output_type": "execute_result"
    }
   ],
   "source": [
    " _=vis_and_bin(network)\n",
    "thirds['shm5211']=_[0]\n",
    "degrees['shm5211']=_[1]\n",
    "bthirds['shm5211']=_[2]\n",
    "del(network)\n",
    "gc.collect()"
   ]
  },
  {
   "cell_type": "code",
   "execution_count": null,
   "metadata": {},
   "outputs": [],
   "source": [
    "os.mkdir('../../result_logs/shm_gmxe_521_1')\n",
    "\n",
    "start=time.time()\n",
    "\n",
    "network.get_dist_dict()\n",
    "\n",
    "time_offset=time.time()-start\n",
    "\n",
    "lb=range(1,12)\n",
    "rb=range(1,12)\n",
    "\n",
    "current_net='shm_gmxe_521_1'\n",
    "\n",
    "logpath='../../result_logs/shm_gmxe_521_1/'\n",
    "\n",
    "boxing_for_algs(\n",
    "logpath=logpath,\n",
    "lb=lb,\n",
    "rb=rb, # break statement in run_boxing\n",
    "current_network=network,\n",
    "current_net=current_net,\n",
    "time_offset=time_offset,\n",
    "    differential_evolution=False\n",
    ")\n",
    "\n",
    "del(network)\n",
    "gc.collect()"
   ]
  },
  {
   "cell_type": "code",
   "execution_count": null,
   "metadata": {},
   "outputs": [],
   "source": [
    "network.get_dist_dict()\n",
    "\n",
    "lb=range(1,12)\n",
    "\n",
    "current_net='shm_gmxe_521_1'\n",
    "\n",
    "logpath='../../result_logs/shm_gmxe_521_1/'\n",
    "\n",
    "\n",
    "boxes.io.benchmark(\n",
    "{'path':logpath,'net':current_net,'alg':'greedy'},\n",
    "                            network,\n",
    "                            lb,                         # box sizes - merge only needs max\n",
    "                           boxes.greedy_coloring, # set algorithm\n",
    "                            10,\n",
    "                           **algs_lb['greedy']['kwargs'])"
   ]
  },
  {
   "cell_type": "markdown",
   "metadata": {},
   "source": [
    "#### HADGM"
   ]
  },
  {
   "cell_type": "code",
   "execution_count": null,
   "metadata": {},
   "outputs": [],
   "source": [
    "help(boxes.generators.hub_attraction_dynamical_growth_model)"
   ]
  },
  {
   "cell_type": "markdown",
   "metadata": {},
   "source": [
    "__HADGM_gmabt_421_0.5_0.5__"
   ]
  },
  {
   "cell_type": "code",
   "execution_count": null,
   "metadata": {},
   "outputs": [],
   "source": [
    "gc.collect()"
   ]
  },
  {
   "cell_type": "code",
   "execution_count": 44,
   "metadata": {},
   "outputs": [
    {
     "data": {
      "text/plain": [
       "20"
      ]
     },
     "execution_count": 44,
     "metadata": {},
     "output_type": "execute_result"
    }
   ],
   "source": [
    "network=boxes.network(boxes.generators.hub_attraction_dynamical_growth_model(4,2,1,0.5,0.5))\n",
    "\n",
    "network.diameter"
   ]
  },
  {
   "cell_type": "code",
   "execution_count": 45,
   "metadata": {},
   "outputs": [
    {
     "data": {
      "image/png": "[encoded data removed]",
      "text/plain": [
       "<Figure size 432x288 with 1 Axes>"
      ]
     },
     "metadata": {
      "needs_background": "light"
     },
     "output_type": "display_data"
    },
    {
     "name": "stdout",
     "output_type": "stream",
     "text": [
      "[1590   10    2]\n"
     ]
    },
    {
     "data": {
      "image/png": "[encoded data removed]",
      "text/plain": [
       "<Figure size 432x288 with 1 Axes>"
      ]
     },
     "metadata": {
      "needs_background": "light"
     },
     "output_type": "display_data"
    },
    {
     "name": "stdout",
     "output_type": "stream",
     "text": [
      "[ 1.01248439 10.        ]\n"
     ]
    },
    {
     "data": {
      "text/plain": [
       "6770"
      ]
     },
     "execution_count": 45,
     "metadata": {},
     "output_type": "execute_result"
    }
   ],
   "source": [
    " _=vis_and_bin(network)\n",
    "thirds['hadgm421_0.5_0.5']=_[0]\n",
    "degrees['hadgm421_0.5_0.5']=_[1]\n",
    "bthirds['hadgm421_0.5_0.5']=_[2]\n",
    "del(network)\n",
    "gc.collect()"
   ]
  },
  {
   "cell_type": "code",
   "execution_count": null,
   "metadata": {},
   "outputs": [],
   "source": [
    "start=time.time()\n",
    "\n",
    "network.get_dist_dict()\n",
    "\n",
    "time_offset=time.time()-start\n",
    "\n",
    "lb=np.logspace(0,np.log10(network.diameter),num=15,dtype=int)\n",
    "\n",
    "current_net='hadgm_gmabt_421_0.5_0.5'\n",
    "\n",
    "logpath='../../result_logs/hadgm_gmabt_421_0.5_0.5/'\n",
    "\n",
    "\n",
    "boxes.io.benchmark(\n",
    "{'path':logpath,'net':current_net,'alg':'greedy'},\n",
    "                            network,\n",
    "                            lb,                         # box sizes - merge only needs max\n",
    "                           boxes.greedy_coloring, # set algorithm\n",
    "                            10,\n",
    "                           **algs_lb['greedy']['kwargs'])"
   ]
  },
  {
   "cell_type": "code",
   "execution_count": null,
   "metadata": {},
   "outputs": [],
   "source": [
    "high_level_boxing(network,'hadgm_gmabt_421_0.5_0.5')\n"
   ]
  },
  {
   "cell_type": "markdown",
   "metadata": {},
   "source": [
    "__HADGM_gmabt_421_1_0.5__"
   ]
  },
  {
   "cell_type": "code",
   "execution_count": 46,
   "metadata": {},
   "outputs": [
    {
     "data": {
      "text/plain": [
       "9"
      ]
     },
     "execution_count": 46,
     "metadata": {},
     "output_type": "execute_result"
    }
   ],
   "source": [
    "network=boxes.network(boxes.generators.hub_attraction_dynamical_growth_model(4,2,1,1,0.5))\n",
    "\n",
    "network.diameter"
   ]
  },
  {
   "cell_type": "code",
   "execution_count": 47,
   "metadata": {},
   "outputs": [
    {
     "data": {
      "image/png": "[encoded data removed]",
      "text/plain": [
       "<Figure size 432x288 with 1 Axes>"
      ]
     },
     "metadata": {
      "needs_background": "light"
     },
     "output_type": "display_data"
    },
    {
     "name": "stdout",
     "output_type": "stream",
     "text": [
      "[1590   10    2]\n"
     ]
    },
    {
     "data": {
      "image/png": "[encoded data removed]",
      "text/plain": [
       "<Figure size 432x288 with 1 Axes>"
      ]
     },
     "metadata": {
      "needs_background": "light"
     },
     "output_type": "display_data"
    },
    {
     "name": "stdout",
     "output_type": "stream",
     "text": [
      "[0.29338327 4.        ]\n"
     ]
    },
    {
     "data": {
      "text/plain": [
       "7142"
      ]
     },
     "execution_count": 47,
     "metadata": {},
     "output_type": "execute_result"
    }
   ],
   "source": [
    " _=vis_and_bin(network)\n",
    "thirds['hadgm421_1_0.5']=_[0]\n",
    "degrees['hadgm421_1_0.5']=_[1]\n",
    "bthirds['hadgm421_1_0.5']=_[2]\n",
    "del(network)\n",
    "gc.collect()"
   ]
  },
  {
   "cell_type": "code",
   "execution_count": null,
   "metadata": {},
   "outputs": [],
   "source": [
    "\n",
    "network.get_dist_dict()\n",
    "\n",
    "os.mkdir('../../result_logs/hadgm_gmabt_421_1_0.5_distribution/')"
   ]
  },
  {
   "cell_type": "code",
   "execution_count": null,
   "metadata": {},
   "outputs": [],
   "source": [
    "lb=[2,4]\n",
    "rb=[1,2]\n",
    "\n",
    "current_net='hadgm_gmabt_421_1_0.5'\n",
    "\n",
    "logpath='../../result_logs/hadgm_gmabt_421_1_0.5_distribution/'\n",
    "\n",
    "for algorithm in algs_lb.keys():\n",
    "\n",
    "        random.seed(137)  #reproducibility\n",
    "        np.random.seed(137)\n",
    "\n",
    "        boxes.io.benchmark({'path':logpath,'net':current_net,'alg':algorithm},\n",
    "                            network,\n",
    "                            lb,                         # box sizes\n",
    "                           algs_lb[algorithm]['alg'],# set algorithm\n",
    "                           50,\n",
    "                           **algs_lb[algorithm]['kwargs']) # unpack keyword argument\n",
    "\n",
    "\n",
    "for algorithm in algs_rb.keys():\n",
    "    if algorithm!='merge':\n",
    "        boxes.io.run_boxing({'path':logpath,'net':current_net,'alg':algorithm},\n",
    "                            network,\n",
    "                            rb,                         # box sizes\n",
    "                           algs_rb[algorithm]['alg'],# set algorithm\n",
    "                            50,\n",
    "                           **algs_rb[algorithm]['kwargs']) "
   ]
  },
  {
   "cell_type": "code",
   "execution_count": null,
   "metadata": {},
   "outputs": [],
   "source": [
    "high_level_boxing(network,'hadgm_gmabt_421_1_0.5')"
   ]
  },
  {
   "cell_type": "markdown",
   "metadata": {},
   "source": [
    "### Enzyme network"
   ]
  },
  {
   "cell_type": "code",
   "execution_count": 48,
   "metadata": {},
   "outputs": [
    {
     "name": "stdout",
     "output_type": "stream",
     "text": [
      "True\n",
      "32\n"
     ]
    }
   ],
   "source": [
    "enzyme=read_max_connected_component(path+'ENZYMES_g296/ENZYMES_g296.edges',0)\n",
    "print(enzyme.connected)\n",
    "print(enzyme.diameter)"
   ]
  },
  {
   "cell_type": "code",
   "execution_count": 50,
   "metadata": {},
   "outputs": [
    {
     "data": {
      "image/png": "[encoded data removed]",
      "text/plain": [
       "<Figure size 432x288 with 1 Axes>"
      ]
     },
     "metadata": {
      "needs_background": "light"
     },
     "output_type": "display_data"
    },
    {
     "name": "stdout",
     "output_type": "stream",
     "text": [
      "[99 19  7]\n"
     ]
    },
    {
     "data": {
      "image/png": "[encoded data removed]",
      "text/plain": [
       "<Figure size 432x288 with 1 Axes>"
      ]
     },
     "metadata": {
      "needs_background": "light"
     },
     "output_type": "display_data"
    },
    {
     "name": "stdout",
     "output_type": "stream",
     "text": [
      "[ 8.952 16.   ]\n"
     ]
    },
    {
     "ename": "NameError",
     "evalue": "name 'network' is not defined",
     "output_type": "error",
     "traceback": [
      "\u001b[0;31m---------------------------------------------------------------------------\u001b[0m",
      "\u001b[0;31mNameError\u001b[0m                                 Traceback (most recent call last)",
      "\u001b[0;32m<ipython-input-50-02d1ca7a7479>\u001b[0m in \u001b[0;36m<module>\u001b[0;34m\u001b[0m\n\u001b[1;32m      3\u001b[0m \u001b[0mdegrees\u001b[0m\u001b[0;34m[\u001b[0m\u001b[0;34m'enzyme'\u001b[0m\u001b[0;34m]\u001b[0m\u001b[0;34m=\u001b[0m\u001b[0m_\u001b[0m\u001b[0;34m[\u001b[0m\u001b[0;36m1\u001b[0m\u001b[0;34m]\u001b[0m\u001b[0;34m\u001b[0m\u001b[0;34m\u001b[0m\u001b[0m\n\u001b[1;32m      4\u001b[0m \u001b[0mbthirds\u001b[0m\u001b[0;34m[\u001b[0m\u001b[0;34m'enzyme'\u001b[0m\u001b[0;34m]\u001b[0m\u001b[0;34m=\u001b[0m\u001b[0m_\u001b[0m\u001b[0;34m[\u001b[0m\u001b[0;36m2\u001b[0m\u001b[0;34m]\u001b[0m\u001b[0;34m\u001b[0m\u001b[0;34m\u001b[0m\u001b[0m\n\u001b[0;32m----> 5\u001b[0;31m \u001b[0;32mdel\u001b[0m\u001b[0;34m(\u001b[0m\u001b[0mnetwork\u001b[0m\u001b[0;34m)\u001b[0m\u001b[0;34m\u001b[0m\u001b[0;34m\u001b[0m\u001b[0m\n\u001b[0m\u001b[1;32m      6\u001b[0m \u001b[0mgc\u001b[0m\u001b[0;34m.\u001b[0m\u001b[0mcollect\u001b[0m\u001b[0;34m(\u001b[0m\u001b[0;34m)\u001b[0m\u001b[0;34m\u001b[0m\u001b[0;34m\u001b[0m\u001b[0m\n",
      "\u001b[0;31mNameError\u001b[0m: name 'network' is not defined"
     ]
    }
   ],
   "source": [
    " _=vis_and_bin(enzyme)\n",
    "thirds['enzyme']=_[0]\n",
    "degrees['enzyme']=_[1]\n",
    "bthirds['enzyme']=_[2]\n",
    "del(network)\n",
    "gc.collect()"
   ]
  },
  {
   "cell_type": "code",
   "execution_count": 51,
   "metadata": {},
   "outputs": [
    {
     "data": {
      "text/plain": [
       "6992"
      ]
     },
     "execution_count": 51,
     "metadata": {},
     "output_type": "execute_result"
    }
   ],
   "source": [
    "del(enzyme)\n",
    "gc.collect()"
   ]
  },
  {
   "cell_type": "code",
   "execution_count": null,
   "metadata": {},
   "outputs": [],
   "source": [
    "os.mkdir('../../result_logs/enzyme')\n",
    "\n",
    "network=enzyme\n",
    "\n",
    "start=time.time()\n",
    "\n",
    "network.get_dist_dict()\n",
    "\n",
    "time_offset=time.time()-start\n",
    "\n",
    "lb=range(1,32,2)\n",
    "rb=range(1,30)\n",
    "\n",
    "current_net='enzyme'\n",
    "\n",
    "logpath='../../result_logs/enzyme/'\n",
    "\n",
    "boxing_for_algs(\n",
    "logpath=logpath,\n",
    "lb=lb,\n",
    "rb=rb, # break statement in run_boxing\n",
    "current_network=network,\n",
    "current_net=current_net,\n",
    "time_offset=time_offset,\n",
    "    differential_evolution=False\n",
    ")\n",
    "\n",
    "del(network)\n",
    "gc.collect()"
   ]
  },
  {
   "cell_type": "code",
   "execution_count": null,
   "metadata": {},
   "outputs": [],
   "source": [
    "enzyme.get_dist_dict()\n",
    "\n",
    "lb=range(1,32,2)\n",
    "\n",
    "current_net='enzyme'\n",
    "\n",
    "logpath='../../result_logs/enzyme/'\n",
    "\n",
    "\n",
    "boxes.io.benchmark(\n",
    "{'path':logpath,'net':current_net,'alg':'greedy'},\n",
    "                            enzyme,\n",
    "                            lb,                         # box sizes - merge only needs max\n",
    "                           boxes.greedy_coloring, # set algorithm\n",
    "                            10,\n",
    "                           **algs_lb['greedy']['kwargs'])"
   ]
  },
  {
   "cell_type": "code",
   "execution_count": 58,
   "metadata": {},
   "outputs": [
    {
     "data": {
      "image/png": "[encoded data removed]",
      "text/plain": [
       "<Figure size 864x864 with 1 Axes>"
      ]
     },
     "metadata": {
      "needs_background": "light"
     },
     "output_type": "display_data"
    }
   ],
   "source": [
    "plt.figure(figsize=(12,12))\n",
    "for key, value in thirds.items():\n",
    "    plt.scatter(value[0]/np.sum(value),value[1]/np.sum(value),label=key)\n",
    "    plt.text(value[0]/np.sum(value)+0.025,value[1]/np.sum(value),key)\n",
    "plt.xlabel('first third')\n",
    "plt.ylabel('second third')\n",
    "# plt.legend()\n",
    "plt.show()"
   ]
  },
  {
   "cell_type": "code",
   "execution_count": 84,
   "metadata": {
    "scrolled": false
   },
   "outputs": [
    {
     "data": {
      "image/png": "[encoded data removed]",
      "text/plain": [
       "<Figure size 864x864 with 1 Axes>"
      ]
     },
     "metadata": {
      "needs_background": "light"
     },
     "output_type": "display_data"
    }
   ],
   "source": [
    "plt.figure(figsize=(12,12))\n",
    "for key, value in bthirds.items():\n",
    "    plt.scatter(value[0],int(approx_diameter[key]),label=key)\n",
    "    plt.text(value[0]+1,int(approx_diameter[key]),key)\n",
    "    \n",
    "plt.plot(range(45),range(45))\n",
    "plt.plot(range(45),range(0,89,2))\n",
    "plt.plot(range(45),range(0,44*3+1,3))\n",
    "\n",
    "plt.xlabel('average')\n",
    "plt.ylabel('diameter')\n",
    "plt.xlim(0,45)\n",
    "plt.yscale('log')\n",
    "# plt.legend()\n",
    "plt.show()"
   ]
  },
  {
   "cell_type": "code",
   "execution_count": 85,
   "metadata": {},
   "outputs": [
    {
     "data": {
      "image/png": "[encoded data removed]",
      "text/plain": [
       "<Figure size 864x864 with 1 Axes>"
      ]
     },
     "metadata": {
      "needs_background": "light"
     },
     "output_type": "display_data"
    }
   ],
   "source": [
    "plt.figure(figsize=(12,12))\n",
    "for key, value in bthirds.items():\n",
    "    plt.scatter(value[0]/int(approx_diameter[key]),int(approx_diameter[key]),label=key)\n",
    "    plt.text(value[0]/int(approx_diameter[key])+0.01,int(approx_diameter[key]),key)\n",
    "    \n",
    "# plt.plot(range(45),range(45))\n",
    "# plt.plot(range(45),range(0,89,2))\n",
    "# plt.plot(range(45),range(0,44*3+1,3))\n",
    "\n",
    "plt.xlabel('average/diameter')\n",
    "plt.ylabel('diameter')\n",
    "plt.xlim(0,1)\n",
    "plt.yscale('log')\n",
    "# plt.legend()\n",
    "plt.show()"
   ]
  },
  {
   "cell_type": "code",
   "execution_count": 67,
   "metadata": {},
   "outputs": [
    {
     "data": {
      "text/plain": [
       "Text(9.952, 31, 'enzyme')"
      ]
     },
     "execution_count": 67,
     "metadata": {},
     "output_type": "execute_result"
    },
    {
     "data": {
      "image/png": "[encoded data removed]",
      "text/plain": [
       "<Figure size 432x288 with 1 Axes>"
      ]
     },
     "metadata": {
      "needs_background": "light"
     },
     "output_type": "display_data"
    }
   ],
   "source": [
    "key='enzyme'\n",
    "plt.scatter(value[0],approx_diameter[key],label=key)\n",
    "plt.text(value[0]+1,approx_diameter[key],key)"
   ]
  },
  {
   "cell_type": "code",
   "execution_count": null,
   "metadata": {},
   "outputs": [],
   "source": []
  }
 ],
 "metadata": {
  "kernelspec": {
   "display_name": "Python 3",
   "language": "python",
   "name": "python3"
  },
  "language_info": {
   "codemirror_mode": {
    "name": "ipython",
    "version": 3
   },
   "file_extension": ".py",
   "mimetype": "text/x-python",
   "name": "python",
   "nbconvert_exporter": "python",
   "pygments_lexer": "ipython3",
   "version": "3.8.2"
  }
 },
 "nbformat": 4,
 "nbformat_minor": 4
}
