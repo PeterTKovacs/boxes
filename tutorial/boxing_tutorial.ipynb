{
 "cells": [
  {
   "cell_type": "markdown",
   "metadata": {},
   "source": [
    "## Performing box covering with _boxes_"
   ]
  },
  {
   "cell_type": "markdown",
   "metadata": {},
   "source": [
    "This notebook contains the advisable workflow of using the __boxes__ package for performing box covering.\n",
    "\n",
    "We will mostly rely on the builtin functions but due to the memory-intensiveness of the computing tasks, we will have to use the __resource__ and __gc__ packages."
   ]
  },
  {
   "cell_type": "code",
   "execution_count": 1,
   "metadata": {},
   "outputs": [],
   "source": [
    "import os\n",
    "import networkx as nx\n",
    "import copy\n",
    "import resource\n",
    "import boxes\n",
    "import gc\n",
    "import time\n",
    "import random\n",
    "import numpy as np"
   ]
  },
  {
   "cell_type": "code",
   "execution_count": 2,
   "metadata": {},
   "outputs": [],
   "source": [
    "import matplotlib.pyplot as plt\n"
   ]
  },
  {
   "cell_type": "code",
   "execution_count": 3,
   "metadata": {},
   "outputs": [],
   "source": [
    "resource.setrlimit(resource.RLIMIT_AS, (int(4e9),int(4e9))) # control memory usage, in bytes"
   ]
  },
  {
   "cell_type": "markdown",
   "metadata": {},
   "source": [
    "#### There are unfortunately many parameters that we will treat as keyword arguments\n",
    "This is a cheat sheet for every implemented algorithm:\n",
    "\n",
    "As a rule of thumb, _boxing=True_ means that only the box no. is returned.\n",
    "\n",
    "The majority of implemented algorithms works on undirected, connected graphs, meaning that we only accept undirected networks and extract their largest component.\n",
    "\n",
    "+ __greedy_coloring__: greedy_coloring(network, lb, boxing=False, pso_position=False, strategy='random_sequential')\n",
    "\n",
    "set boxing True, otherwise OK to have default keyword args\n",
    "+ __cbb__: (network, lb, boxing=False)\n",
    "\n",
    "\n",
    "+ __differential_evolution__: differential_evolution(network, lb, num_p=15, big_f=0.9, cr=0.85, gn=15, boxing=False, dual_new=False)\n",
    "looks OK for unconnected graphs\n",
    "\n",
    "meaning of parameters: \"$k_1$ gives the approximate number of nodes moved in (i), $k_2$ is the number of maximally created new clusters (made up of one node), $k_3$ is the number of outer cycles - in every iteration, the temperature is decreased as specified by _cc_.\" \n",
    "These are only rough meanings, for more refer to the docs.\n",
    "+ __mcwr__: mcwr(network, rb, p=1, boxing=False)\n",
    "\n",
    "may work to unconnected graphs!\n",
    "_p_ denotes the probability of choosing the MEMB branch istead of random centres.\n",
    "+ __memb__: memb(network, rb, boxing=False)\n",
    "\n",
    "may work on unconnected graphs too!\n",
    "+ __merge_algorithm__: merge_algorithm(network, lb_max,return_for_sa=False, boxing=False, measure_time=True)\n",
    "\n",
    "\n",
    "advisable: _boxing=True_, everyone else _False_\n",
    "+ __random_sequential__: random_sequential(network, rb, boxing=False)\n",
    "\n",
    "works with unconnected graphs\n",
    "+ __remcc__: remcc(network, rb, return_centres=True)\n",
    "\n",
    "\n",
    "+ __simulated_annealing__: simulated_annealing(network, lb, k1=20, k2=2, k3=15, temp=0.6, cc=0.995)\n",
    "\n",
    "+ __pso__: pso(network, lb, gmax=5, pop=5, c1=1.494, c2=1.494, boxing=False)\n",
    "\n",
    "+ __obca__: obca(network, lb, boxing=False)\n",
    "\n",
    "+ __fuzzy__: fuzzy(network, lb, boxing=True)\n",
    "\n"
   ]
  },
  {
   "cell_type": "markdown",
   "metadata": {},
   "source": [
    "### Sample boxing with MEMB"
   ]
  },
  {
   "cell_type": "markdown",
   "metadata": {},
   "source": [
    "#### UV flower\n",
    "\n",
    "Peep the docs if you are interested."
   ]
  },
  {
   "cell_type": "markdown",
   "metadata": {},
   "source": [
    "__UV_22, gen=5__"
   ]
  },
  {
   "cell_type": "markdown",
   "metadata": {},
   "source": [
    "Generate graph and create a network object from it"
   ]
  },
  {
   "cell_type": "code",
   "execution_count": 4,
   "metadata": {},
   "outputs": [],
   "source": [
    "uv225=boxes.network(boxes.generators.uv_flower(2,2,5)) # instantiate boxes.network object from generator output"
   ]
  },
  {
   "cell_type": "code",
   "execution_count": 5,
   "metadata": {},
   "outputs": [
    {
     "data": {
      "text/plain": [
       "684"
      ]
     },
     "execution_count": 5,
     "metadata": {},
     "output_type": "execute_result"
    }
   ],
   "source": [
    "uv225.graph.number_of_nodes()"
   ]
  },
  {
   "cell_type": "code",
   "execution_count": 6,
   "metadata": {},
   "outputs": [
    {
     "data": {
      "text/plain": [
       "1024"
      ]
     },
     "execution_count": 6,
     "metadata": {},
     "output_type": "execute_result"
    }
   ],
   "source": [
    "uv225.graph.number_of_edges()"
   ]
  },
  {
   "cell_type": "code",
   "execution_count": 7,
   "metadata": {},
   "outputs": [],
   "source": [
    "lb=range(1,32,4)\n",
    "rb=range(1,32,2)"
   ]
  },
  {
   "cell_type": "code",
   "execution_count": 8,
   "metadata": {},
   "outputs": [
    {
     "name": "stdout",
     "output_type": "stream",
     "text": [
      "Help on function memb in module boxes.memb:\n",
      "\n",
      "memb(network, rb, boxing=False)\n",
      "\n"
     ]
    }
   ],
   "source": [
    "help(boxes.memb)"
   ]
  },
  {
   "cell_type": "markdown",
   "metadata": {},
   "source": [
    "Run MEMB for a given box size"
   ]
  },
  {
   "cell_type": "code",
   "execution_count": 9,
   "metadata": {},
   "outputs": [
    {
     "name": "stdout",
     "output_type": "stream",
     "text": [
      "computing shortest path data\n"
     ]
    },
    {
     "data": {
      "text/plain": [
       "12"
      ]
     },
     "execution_count": 9,
     "metadata": {},
     "output_type": "execute_result"
    }
   ],
   "source": [
    "boxes.memb(uv225,5,boxing=True)"
   ]
  },
  {
   "cell_type": "code",
   "execution_count": 12,
   "metadata": {},
   "outputs": [],
   "source": [
    "os.mkdir('sample_results')"
   ]
  },
  {
   "cell_type": "code",
   "execution_count": 13,
   "metadata": {},
   "outputs": [],
   "source": [
    "logpath='sample_results/'"
   ]
  },
  {
   "cell_type": "markdown",
   "metadata": {},
   "source": [
    "Now for multiple sizes at the same time!"
   ]
  },
  {
   "cell_type": "code",
   "execution_count": 11,
   "metadata": {},
   "outputs": [
    {
     "name": "stdout",
     "output_type": "stream",
     "text": [
      "Help on function run_boxing in module boxes.io_:\n",
      "\n",
      "run_boxing(names, time_offset, network, box_sizes, algorithm, merge_alg=False, **kwargs)\n",
      "    assuming that necessary preprocessing (e.g. get shortest path data) has been perfomed\n",
      "    its time passed in time_offset\n",
      "    \n",
      "    names: dicitonary for log naming, names['path'],names['net'],names['alg']\n",
      "\n"
     ]
    }
   ],
   "source": [
    "help(boxes.io_.run_boxing)"
   ]
  },
  {
   "cell_type": "markdown",
   "metadata": {},
   "source": [
    "In a real applicaton, the offset time shall be measured separately for __run_boxing__ (the overhead of computing shortest path data)"
   ]
  },
  {
   "cell_type": "code",
   "execution_count": 15,
   "metadata": {},
   "outputs": [],
   "source": [
    "boxes.io_.run_boxing({'path':logpath,'net':'uv225','alg':'memb'},time_offset=0,network=uv225,box_sizes=rb,\n",
    "                    algorithm=boxes.memb,merge_alg=False,**{'boxing':True})"
   ]
  },
  {
   "cell_type": "code",
   "execution_count": 16,
   "metadata": {},
   "outputs": [
    {
     "data": {
      "text/plain": [
       "['uv225_memb.txt']"
      ]
     },
     "execution_count": 16,
     "metadata": {},
     "output_type": "execute_result"
    }
   ],
   "source": [
    "os.listdir(logpath)"
   ]
  },
  {
   "cell_type": "markdown",
   "metadata": {},
   "source": [
    "Read back logfiles, raw"
   ]
  },
  {
   "cell_type": "code",
   "execution_count": 18,
   "metadata": {},
   "outputs": [],
   "source": [
    "exec_time, readout=boxes.io_.read_logfile(logpath+'uv225_memb.txt')"
   ]
  },
  {
   "cell_type": "code",
   "execution_count": 19,
   "metadata": {},
   "outputs": [
    {
     "data": {
      "text/plain": [
       "2.070331573486328"
      ]
     },
     "execution_count": 19,
     "metadata": {},
     "output_type": "execute_result"
    }
   ],
   "source": [
    "exec_time # containing false (0) offset"
   ]
  },
  {
   "cell_type": "code",
   "execution_count": 20,
   "metadata": {},
   "outputs": [
    {
     "data": {
      "text/plain": [
       "[(1, 172.0),\n",
       " (3, 44.0),\n",
       " (5, 12.0),\n",
       " (7, 12.0),\n",
       " (9, 4.0),\n",
       " (11, 4.0),\n",
       " (13, 4.0),\n",
       " (15, 4.0),\n",
       " (17, 2.0),\n",
       " (19, 2.0),\n",
       " (21, 2.0),\n",
       " (23, 2.0),\n",
       " (25, 2.0),\n",
       " (27, 2.0),\n",
       " (29, 2.0),\n",
       " (31, 2.0)]"
      ]
     },
     "execution_count": 20,
     "metadata": {},
     "output_type": "execute_result"
    }
   ],
   "source": [
    "readout # rb - Nb"
   ]
  },
  {
   "cell_type": "markdown",
   "metadata": {},
   "source": [
    "Convert box sizes to the canonical lb values"
   ]
  },
  {
   "cell_type": "code",
   "execution_count": 21,
   "metadata": {},
   "outputs": [],
   "source": [
    "exec_time, canonized_readout=boxes.io_.canonized_lb(logpath+'uv225_memb.txt','memb')"
   ]
  },
  {
   "cell_type": "code",
   "execution_count": 22,
   "metadata": {},
   "outputs": [
    {
     "data": {
      "text/plain": [
       "2.070331573486328"
      ]
     },
     "execution_count": 22,
     "metadata": {},
     "output_type": "execute_result"
    }
   ],
   "source": [
    "exec_time"
   ]
  },
  {
   "cell_type": "code",
   "execution_count": 23,
   "metadata": {},
   "outputs": [
    {
     "data": {
      "text/plain": [
       "[(3, 172.0),\n",
       " (7, 44.0),\n",
       " (11, 12.0),\n",
       " (15, 12.0),\n",
       " (19, 4.0),\n",
       " (23, 4.0),\n",
       " (27, 4.0),\n",
       " (31, 4.0),\n",
       " (35, 2.0),\n",
       " (39, 2.0),\n",
       " (43, 2.0),\n",
       " (47, 2.0),\n",
       " (51, 2.0),\n",
       " (55, 2.0),\n",
       " (59, 2.0),\n",
       " (63, 2.0)]"
      ]
     },
     "execution_count": 23,
     "metadata": {},
     "output_type": "execute_result"
    }
   ],
   "source": [
    "canonized_readout # rb converted to lb, in the sense of the literature"
   ]
  },
  {
   "cell_type": "markdown",
   "metadata": {},
   "source": [
    "Do not forget to free memory!"
   ]
  },
  {
   "cell_type": "code",
   "execution_count": 24,
   "metadata": {},
   "outputs": [
    {
     "data": {
      "text/plain": [
       "26847"
      ]
     },
     "execution_count": 24,
     "metadata": {},
     "output_type": "execute_result"
    }
   ],
   "source": [
    "del(uv225)\n",
    "gc.collect()"
   ]
  },
  {
   "cell_type": "markdown",
   "metadata": {},
   "source": [
    "__There are more wrappers implementing benchmarking, running more algs on the same net,  etc.__\n",
    "\n",
    "__I strongly recommend that you read through the documentation for these! (It is not that long) Also, you may want to look into the source code too.__"
   ]
  },
  {
   "cell_type": "code",
   "execution_count": null,
   "metadata": {},
   "outputs": [],
   "source": []
  }
 ],
 "metadata": {
  "kernelspec": {
   "display_name": "Python 3",
   "language": "python",
   "name": "python3"
  },
  "language_info": {
   "codemirror_mode": {
    "name": "ipython",
    "version": 3
   },
   "file_extension": ".py",
   "mimetype": "text/x-python",
   "name": "python",
   "nbconvert_exporter": "python",
   "pygments_lexer": "ipython3",
   "version": "3.8.2"
  }
 },
 "nbformat": 4,
 "nbformat_minor": 4
}
