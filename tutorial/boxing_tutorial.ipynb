{
 "cells": [
  {
   "cell_type": "markdown",
   "metadata": {},
   "source": [
    "## Performing box covering with _boxes_
    
    # OUT OF DATE"
   ]
  },
  {
   "cell_type": "markdown",
   "metadata": {},
   "source": [
    "This notebook contains the advisable workflow of using the __boxes__ package for performing box covering.\n",
    "\n",
    "We will mostly rely on the builtin functions but due to the memory-intensiveness of the computing tasks, we will have to use the __resource__ and __gc__ packages."
   ]
  },
  {
   "cell_type": "code",
   "execution_count": 1,
   "metadata": {},
   "outputs": [],
   "source": [
    "import os\n",
    "import networkx as nx\n",
    "import copy\n",
    "import resource\n",
    "import boxes\n",
    "import gc\n",
    "import time\n",
    "import random\n",
    "import numpy as np"
   ]
  },
  {
   "cell_type": "code",
   "execution_count": 2,
   "metadata": {},
   "outputs": [],
   "source": [
    "import matplotlib.pyplot as plt\n"
   ]
  },
  {
   "cell_type": "code",
   "execution_count": 3,
   "metadata": {},
   "outputs": [],
   "source": [
    "resource.setrlimit(resource.RLIMIT_AS, (int(4e9),int(4e9))) # control memory usage, in bytes"
   ]
  },
  {
   "cell_type": "markdown",
   "metadata": {},
   "source": [
    "The real-world networks are stored in the _networks_ directory."
   ]
  },
  {
   "cell_type": "code",
   "execution_count": 4,
   "metadata": {},
   "outputs": [
    {
     "name": "stdout",
     "output_type": "stream",
     "text": [
      "bio-yeast-protein-inter\n",
      "mouse_brain\n",
      "ENZYMES_g296\n",
      "facebook_caltech\n",
      "dd_g21\n",
      "minnesota\n",
      "inf-power\n",
      "ca_collab\n",
      "c_elegans_1\n",
      "inf_usair97\n",
      "bio-yeast\n",
      "inf-power.7z\n"
     ]
    }
   ],
   "source": [
    "for s in os.listdir('../../networks'):\n",
    "    if not 'zip' in s:\n",
    "        print(s)"
   ]
  },
  {
   "cell_type": "markdown",
   "metadata": {},
   "source": [
    "From these, ca_collab is directed, inf_usair97 weighted, so won't be used.\n",
    "\n",
    "The mouse brain data has diameter 2: irrelevant."
   ]
  },
  {
   "cell_type": "markdown",
   "metadata": {},
   "source": [
    "This is where log files will be stored with all relevant data regarding the boxing."
   ]
  },
  {
   "cell_type": "markdown",
   "metadata": {},
   "source": [
    "#### There are unfortunately many parameters that we will treat as keyword arguments\n",
    "This is a cheat sheet for every implemented algorithm:\n",
    "\n",
    "As a rule of thumb, _boxing=True_ means that only the box no. is returned.\n",
    "\n",
    "The majority of implemented algorithms works on undirected, connected graphs, meaning that we only accept undirected networks and extract their largest component.\n",
    "\n",
    "+ __greedy_coloring__: greedy_coloring(network, lb, boxing=False, pso_position=False, strategy='random_sequential')\n",
    "\n",
    "set boxing True, otherwise OK to have default keyword args\n",
    "+ __cbb__: (network, lb, boxing=False)\n",
    "\n",
    "\n",
    "+ __differential_evolution__: differential_evolution(network, lb, num_p=15, big_f=0.9, cr=0.85, gn=15, boxing=False, dual_new=False)\n",
    "looks OK for unconnected graphs\n",
    "\n",
    "meaning of parameters: \"$k_1$ gives the approximate number of nodes moved in (i), $k_2$ is the number of maximally created new clusters (made up of one node), $k_3$ is the number of outer cycles - in every iteration, the temperature is decreased as specified by _cc_.\" \n",
    "These are only rough meanings, for more refer to the docs.\n",
    "+ __mcwr__: mcwr(network, rb, p=1, boxing=False)\n",
    "\n",
    "may work to unconnected graphs!\n",
    "_p_ denotes the probability of choosing the MEMB branch istead of random centres.\n",
    "+ __memb__: memb(network, rb, boxing=False)\n",
    "\n",
    "may work on unconnected graphs too!\n",
    "+ __merge_algorithm__: merge_algorithm(network, lb_max,return_for_sa=False, boxing=False, measure_time=True)\n",
    "\n",
    "\n",
    "advisable: _boxing=True_, everyone else _False_\n",
    "+ __random_sequential__: random_sequential(network, rb, boxing=False)\n",
    "\n",
    "works with unconnected graphs\n",
    "+ __remcc__: remcc(network, rb, return_centres=True)\n",
    "\n",
    "\n",
    "+ __simulated_annealing__: simulated_annealing(network, lb, k1=20, k2=2, k3=15, temp=0.6, cc=0.995)\n",
    "\n",
    "+ __pso__: pso(network, lb, gmax=5, pop=5, c1=1.494, c2=1.494, boxing=False)\n",
    "\n",
    "+ __obca__: obca(network, lb, boxing=False)\n",
    "\n",
    "+ __fuzzy__: fuzzy(network, lb, boxing=True)\n",
    "\n"
   ]
  },
  {
   "cell_type": "code",
   "execution_count": 5,
   "metadata": {},
   "outputs": [],
   "source": [
    "# these algorithms do not need hyperparameter tuning\n",
    "\n",
    "# DE, PSO, SA left out ~ very slow\n",
    "\n",
    "algs_lb={\n",
    "    'cbb':{'alg':boxes.cbb,'kwargs':{'boxing':True}},\n",
    "    'greedy':{'alg':boxes.greedy_coloring,'kwargs':{'boxing':True}},\n",
    "    'merge':{'alg':boxes.merge_algorithm,'kwargs':{'boxing':True}},\n",
    "    'obca':{'alg':boxes.obca, 'kwargs':{'boxing':True}},\n",
    "    'fuzzy':{'alg':boxes.fuzzy, 'kwargs':{'boxing':True}}\n",
    "}\n",
    "\n",
    "algs_rb={\n",
    "    'mcwr_0.75':{'alg':boxes.mcwr,'kwargs':{'p':0.75,'boxing':True}},\n",
    "    'mcwr_0.5':{'alg':boxes.mcwr,'kwargs':{'p':0.5,'boxing':True}},\n",
    "    'mcwr_0.25':{'alg':boxes.mcwr,'kwargs':{'p':0.25,'boxing':True}},\n",
    "    'memb':{'alg':boxes.memb,'kwargs':{'boxing':True}},\n",
    "    'random_sequential':{'alg':boxes.random_sequential,'kwargs':{'boxing':True}},\n",
    "    'remcc':{'alg':boxes.remcc,'kwargs':{'return_centres':False}}\n",
    "}"
   ]
  },
  {
   "cell_type": "code",
   "execution_count": 6,
   "metadata": {},
   "outputs": [],
   "source": [
    "path='../../networks/'"
   ]
  },
  {
   "cell_type": "code",
   "execution_count": 7,
   "metadata": {},
   "outputs": [],
   "source": [
    "# to read networks from edgelist\n",
    "\n",
    "def read_max_connected_component(path,header_length):\n",
    "    \n",
    "    graph=boxes.read_from_edgelist(path,header_length)\n",
    "    \n",
    "    if not nx.is_connected(graph):\n",
    "        \n",
    "        max_connected=graph.subgraph((max(nx.connected_components(graph),key=len)))\n",
    "        \n",
    "        return boxes.network(max_connected)\n",
    "    \n",
    "    else:\n",
    "        return boxes.network(graph)"
   ]
  },
  {
   "cell_type": "markdown",
   "metadata": {},
   "source": [
    "### Facebook Caltech data"
   ]
  },
  {
   "cell_type": "code",
   "execution_count": 8,
   "metadata": {},
   "outputs": [],
   "source": [
    "facebook_caltech=read_max_connected_component(path+'facebook_caltech/socfb-Caltech36.mtx',2)"
   ]
  },
  {
   "cell_type": "code",
   "execution_count": 11,
   "metadata": {},
   "outputs": [],
   "source": [
    "os.mkdir('../../result_logs/facebook_caltech_demo')\n",
    "    "
   ]
  },
  {
   "cell_type": "code",
   "execution_count": 12,
   "metadata": {},
   "outputs": [],
   "source": [
    "logpath=path_('facebook_caltech_demo')\n",
    "lb=range(1,7)\n",
    "rb=range(1,7) # break statement in run_boxing\n"
   ]
  },
  {
   "cell_type": "code",
   "execution_count": 13,
   "metadata": {},
   "outputs": [
    {
     "name": "stdout",
     "output_type": "stream",
     "text": [
      "Help on function run_boxing in module boxes.io:\n",
      "\n",
      "run_boxing(names, time_offset, network, box_sizes, algorithm, merge_alg=False, **kwargs)\n",
      "    assuming that necessary preprocessing (e.g. get shortest path data) has been perfomed\n",
      "    its time passed in time_offset\n",
      "    \n",
      "    names: dicitonary for log naming, names['path'],names['net'],names['alg']\n",
      "\n"
     ]
    }
   ],
   "source": [
    "# this is the builtin boxing method, box_sizes is list-like\n",
    "# names is defined for logging ~ creates standardized logfiles that can be read back \n",
    "\n",
    "help(boxes.io.run_boxing)"
   ]
  },
  {
   "cell_type": "markdown",
   "metadata": {},
   "source": [
    "In practice, it is more convenient to do boxing with extrenal wrapper."
   ]
  },
  {
   "cell_type": "code",
   "execution_count": 13,
   "metadata": {},
   "outputs": [],
   "source": [
    "# encouraged: run this in your environment and inspect logfiles\n",
    "\n",
    "# warning: you may want to change paths!\n",
    "\n",
    "boxing_all(facebook_caltech,'facebook_caltech_demo',lb,rb)"
   ]
  },
  {
   "cell_type": "code",
   "execution_count": 10,
   "metadata": {},
   "outputs": [],
   "source": [
    "def boxing_all(network,net,lb,rb):\n",
    "\n",
    "    \n",
    "    start=time.time()\n",
    "    network.get_dist_dict()\n",
    "    time_offset=time.time()-start\n",
    "    \n",
    "    # to do benchmarking for box no.\n",
    "    # the numpy array writeout sucks: may need to delete newlines inside array....\n",
    "    \n",
    "    boxes.io.benchmark({'path':path_(net),'net':net,'alg':'greedy'},\n",
    "                            network,\n",
    "                            lb,                         # box sizes - merge only needs max\n",
    "                           boxes.greedy_coloring, # set algorithm\n",
    "                            10,\n",
    "                           **algs_lb['greedy']['kwargs'])\n",
    "    \n",
    "    \n",
    "    for algorithm in algs_lb.keys():\n",
    "\n",
    "        random.seed(137)  #reproducibility\n",
    "        np.random.seed(137)\n",
    "\n",
    "\n",
    "        if algorithm!='merge'and algorithm!='fuzzy':\n",
    "\n",
    "            boxes.io.run_boxing({'path':path_(net),'net':net,'alg':algorithm},\n",
    "                               time_offset,\n",
    "                                network,\n",
    "                                lb,                         # box sizes\n",
    "                               algs_lb[algorithm]['alg'],      # set algorithm\n",
    "                               **algs_lb[algorithm]['kwargs']) # unpack keyword arguments\n",
    "        elif algorithm=='merge':\n",
    "\n",
    "            network.shortest_paths=None # merge doesn't use distance dict - would give false overhead\n",
    "            gc.collect()\n",
    "\n",
    "            new_start=time.time()\n",
    "            network.shortest_paths = dict(nx.all_pairs_shortest_path_length(network.graph))\n",
    "            new_offset=time.time()-new_start\n",
    "\n",
    "            boxes.io.run_boxing({'path':path_(net),'net':net,'alg':algorithm},\n",
    "                               new_offset,\n",
    "                                network,\n",
    "                                lb[-1],                         # box sizes - merge only needs max\n",
    "                               algs_lb[algorithm]['alg'], # set algorithm\n",
    "                                merge_alg=True,\n",
    "                               **algs_lb[algorithm]['kwargs']) \n",
    "        else:\n",
    "            network.shortest_paths=None # fuzzy doesn't use distance dict - would give false overhead\n",
    "            gc.collect()\n",
    "\n",
    "            new_start=time.time()\n",
    "            network.shortest_paths = dict(nx.all_pairs_shortest_path_length(network.graph))\n",
    "            new_offset=time.time()-new_start\n",
    "\n",
    "            boxes.io.run_boxing({'path':path_(net),'net':net,'alg':algorithm},\n",
    "                               new_offset,\n",
    "                                network,\n",
    "                                lb,                         # box sizes - merge only needs max\n",
    "                               algs_lb[algorithm]['alg'], # set algorithm\n",
    "                               **algs_lb[algorithm]['kwargs']) \n",
    "\n",
    "\n",
    "    for algorithm in algs_rb.keys():\n",
    "        \n",
    "        random.seed(137)  #reproducibility\n",
    "        np.random.seed(137)\n",
    "        \n",
    "        if algorithm!='merge':\n",
    "            boxes.io.run_boxing({'path':path_(net),'net':net,'alg':algorithm},\n",
    "                               time_offset,\n",
    "                                network,\n",
    "                                rb,                         # box sizes\n",
    "                               algs_rb[algorithm]['alg'],      # set algorithm\n",
    "                               **algs_rb[algorithm]['kwargs'])"
   ]
  },
  {
   "cell_type": "code",
   "execution_count": 9,
   "metadata": {},
   "outputs": [],
   "source": [
    "def path_(net,alg=None,bench=False):\n",
    "    \n",
    "    # net awaited like grid2d_20\n",
    "    \n",
    "    if alg==None:#gnerate net directory\n",
    "        \n",
    "        if 'grid' in net:\n",
    "\n",
    "            p='../../result_logs/grid2d/'+net[-2:]+'/'\n",
    "            \n",
    "            return p\n",
    "\n",
    "        else:\n",
    "            return '../../result_logs/'+net+'/'\n",
    "       \n",
    "\n",
    "    else:\n",
    "\n",
    "        if 'grid' in net:\n",
    "\n",
    "            p='../../result_logs/grid2d/'+net[-2:]+'/'+net+'_'+alg\n",
    "\n",
    "            if bench:\n",
    "\n",
    "                return p+'_benchmark.txt'\n",
    "            else:\n",
    "                return p+'.txt'\n",
    "\n",
    "        else:\n",
    "\n",
    "            if bench:\n",
    "                return '../../result_logs/'+net+'/'+net+'_'+alg+'_benchmark.txt'\n",
    "            else:\n",
    "                return '../../result_logs/'+net+'/'+net+'_'+alg+'.txt'\n"
   ]
  },
  {
   "cell_type": "code",
   "execution_count": 14,
   "metadata": {},
   "outputs": [
    {
     "data": {
      "text/plain": [
       "20"
      ]
     },
     "execution_count": 14,
     "metadata": {},
     "output_type": "execute_result"
    }
   ],
   "source": [
    "del(facebook_caltech)\n",
    "gc.collect()"
   ]
  },
  {
   "cell_type": "code",
   "execution_count": 15,
   "metadata": {},
   "outputs": [
    {
     "data": {
      "text/plain": [
       "(2.23728084564209,\n",
       " [(1, 282.0), (2, 69.0), (3, 27.0), (4, 10.0), (5, 2.0), (6, 1.0)])"
      ]
     },
     "execution_count": 15,
     "metadata": {},
     "output_type": "execute_result"
    }
   ],
   "source": [
    "# encouraged: run this in your environment and inspect logfiles\n",
    "\n",
    "# warning: you may want to change paths\n",
    "\n",
    "boxes.io.read_logfile(path_('facebook_caltech_demo',alg='greedy'))"
   ]
  },
  {
   "cell_type": "markdown",
   "metadata": {},
   "source": [
    "### Grid graphs"
   ]
  },
  {
   "cell_type": "markdown",
   "metadata": {},
   "source": [
    "#### 2D"
   ]
  },
  {
   "cell_type": "code",
   "execution_count": 30,
   "metadata": {
    "scrolled": true
   },
   "outputs": [],
   "source": [
    "for size in [20,30,40,50]:\n",
    "\n",
    "    network=boxes.network(nx.grid_graph(dim=(size,size)))\n",
    "    \n",
    "    lb=np.logspace(0,np.log10(network.diameter),num=15,dtype=int)\n",
    "    \n",
    "    current_net='grid2d_'+str(size)\n",
    "    \n",
    "    logpath='../../result_logs/grid2d/'+str(size)+'/'\n",
    "    \n",
    "    ###\n",
    "### boxing\n",
    "    ###\n",
    "    \n",
    "    del(network)\n",
    "    gc.collect()\n",
    "    \n",
    "    \n",
    "    \n",
    "    \n"
   ]
  },
  {
   "cell_type": "markdown",
   "metadata": {},
   "source": [
    "#### UV flower\n",
    "\n",
    "Based on previous calculations, we try 3 nets:\n",
    "\n",
    "+ u,v=1,2 (non-fractal)\n",
    "+ u,v=2,2 fractal, theoretical db: 2\n",
    "+ u,v=2,4 fractal, theoretical db: 2.6"
   ]
  },
  {
   "cell_type": "markdown",
   "metadata": {},
   "source": [
    "__UV_12, gen=7__"
   ]
  },
  {
   "cell_type": "code",
   "execution_count": 31,
   "metadata": {},
   "outputs": [],
   "source": [
    "network=boxes.network(boxes.generators.uv_flower(1,2,7))"
   ]
  },
  {
   "cell_type": "code",
   "execution_count": 32,
   "metadata": {},
   "outputs": [],
   "source": [
    "lb=range(1,8)\n",
    "current_net='uv_12_g7'\n",
    "logpath='../../result_logs/uv_12_g7/'"
   ]
  },
  {
   "cell_type": "markdown",
   "metadata": {},
   "source": [
    "__UV_22, gen=5__"
   ]
  },
  {
   "cell_type": "code",
   "execution_count": 34,
   "metadata": {},
   "outputs": [],
   "source": [
    "network=boxes.network(boxes.generators.uv_flower(2,2,5))\n",
    "lb=range(1,32,2)\n",
    "current_net='uv_22_g5'\n",
    "logpath='../../result_logs/uv_22_g5/'\n"
   ]
  },
  {
   "cell_type": "markdown",
   "metadata": {},
   "source": [
    "__UV_24, gen=4__"
   ]
  },
  {
   "cell_type": "code",
   "execution_count": 38,
   "metadata": {},
   "outputs": [],
   "source": [
    "network=boxes.network(boxes.generators.uv_flower(2,4,4))\n",
    "lb=range(1,38,2)\n",
    "\n",
    "current_net='uv_24_g4'\n",
    "\n",
    "logpath='../../result_logs/uv_24_g4/'"
   ]
  },
  {
   "cell_type": "code",
   "execution_count": 40,
   "metadata": {},
   "outputs": [
    {
     "data": {
      "text/plain": [
       "20"
      ]
     },
     "execution_count": 40,
     "metadata": {},
     "output_type": "execute_result"
    }
   ],
   "source": [
    "del(network)\n",
    "gc.collect()"
   ]
  },
  {
   "cell_type": "markdown",
   "metadata": {},
   "source": [
    "#### SHM model"
   ]
  },
  {
   "cell_type": "markdown",
   "metadata": {},
   "source": [
    "__SHM_gmxe_5210__"
   ]
  },
  {
   "cell_type": "code",
   "execution_count": 41,
   "metadata": {},
   "outputs": [],
   "source": [
    "network=boxes.network(boxes.generators.fractal_model(5,2,1,0.))\n",
    "lb=np.logspace(0,np.log10(network.diameter),num=15,dtype=int)\n",
    "current_net='shm_gmxe_5210'\n",
    "logpath='../../result_logs/shm_gmxe_5210/'"
   ]
  },
  {
   "cell_type": "markdown",
   "metadata": {},
   "source": [
    "__SHM_gmxe_422_0.__"
   ]
  },
  {
   "cell_type": "code",
   "execution_count": 43,
   "metadata": {},
   "outputs": [],
   "source": [
    "network=boxes.network(boxes.generators.fractal_model(4,2,2,0.))\n",
    "lb=np.logspace(0,np.log10(network.diameter),num=15,dtype=int)\n",
    "\n",
    "current_net='shm_gmxe_4220'\n",
    "\n",
    "logpath='../../result_logs/shm_gmxe_4220/'"
   ]
  },
  {
   "cell_type": "markdown",
   "metadata": {},
   "source": [
    "__SHM_gmxe_521_0.5__"
   ]
  },
  {
   "cell_type": "code",
   "execution_count": 45,
   "metadata": {},
   "outputs": [],
   "source": [
    "network=boxes.network(boxes.generators.fractal_model(5,2,1,0.5))"
   ]
  },
  {
   "cell_type": "code",
   "execution_count": 46,
   "metadata": {},
   "outputs": [],
   "source": [
    "lb=np.logspace(0,np.log10(network.diameter),num=15,dtype=int)\n",
    "\n",
    "current_net='shm_gmxe_521_0.5'\n",
    "\n",
    "logpath='../../result_logs/shm_gmxe_521_0.5/'"
   ]
  },
  {
   "cell_type": "markdown",
   "metadata": {},
   "source": [
    "__SHM_gmxe_422_0.5__"
   ]
  },
  {
   "cell_type": "code",
   "execution_count": 48,
   "metadata": {},
   "outputs": [],
   "source": [
    "network=boxes.network(boxes.generators.fractal_model(4,2,2,0.5))\n",
    "\n",
    "lb=np.logspace(0,np.log10(network.diameter),num=15,dtype=int)\n",
    "\n",
    "current_net='shm_gmxe_422_0.5'\n",
    "\n",
    "logpath='../../result_logs/shm_gmxe_422_0.5/'"
   ]
  },
  {
   "cell_type": "markdown",
   "metadata": {},
   "source": [
    "__SHM_gmxe_521_1__"
   ]
  },
  {
   "cell_type": "code",
   "execution_count": 50,
   "metadata": {},
   "outputs": [],
   "source": [
    "network=boxes.network(boxes.generators.fractal_model(5,2,1,1))\n",
    "lb=range(1,12)\n",
    "current_net='shm_gmxe_521_1'\n",
    "logpath='../../result_logs/shm_gmxe_521_1/'\n"
   ]
  },
  {
   "cell_type": "markdown",
   "metadata": {},
   "source": [
    "#### HADGM"
   ]
  },
  {
   "cell_type": "markdown",
   "metadata": {},
   "source": [
    "__HADGM_gmabt_421_0.5_0.5__"
   ]
  },
  {
   "cell_type": "code",
   "execution_count": 52,
   "metadata": {},
   "outputs": [
    {
     "data": {
      "text/plain": [
       "20"
      ]
     },
     "execution_count": 52,
     "metadata": {},
     "output_type": "execute_result"
    }
   ],
   "source": [
    "gc.collect()"
   ]
  },
  {
   "cell_type": "code",
   "execution_count": 53,
   "metadata": {},
   "outputs": [],
   "source": [
    "network=boxes.network(boxes.generators.hub_attraction_dynamical_growth_model(4,2,1,0.5,0.5))\n",
    "lb=np.logspace(0,np.log10(network.diameter),num=15,dtype=int)\n",
    "current_net='hadgm_gmabt_421_0.5_0.5'\n",
    "logpath='../../result_logs/hadgm_gmabt_421_0.5_0.5/'\n"
   ]
  },
  {
   "cell_type": "markdown",
   "metadata": {},
   "source": [
    "__HADGM_gmabt_421_1_0.5__"
   ]
  },
  {
   "cell_type": "code",
   "execution_count": 55,
   "metadata": {},
   "outputs": [],
   "source": [
    "network=boxes.network(boxes.generators.hub_attraction_dynamical_growth_model(4,2,1,1,0.5))\n",
    "\n",
    "lb=range(1,10)\n",
    "\n",
    "current_net='hadgm_gmabt_421_1_0.5'\n",
    "\n",
    "logpath='../../result_logs/hadgm_gmabt_421_1_0.5/'\n"
   ]
  },
  {
   "cell_type": "markdown",
   "metadata": {},
   "source": [
    "### Enzyme network"
   ]
  },
  {
   "cell_type": "code",
   "execution_count": 57,
   "metadata": {},
   "outputs": [],
   "source": [
    "enzyme=read_max_connected_component(path+'ENZYMES_g296/ENZYMES_g296.edges',0)\n",
    "lb=range(1,32,2)\n",
    "\n",
    "current_net='enzyme'\n",
    "\n",
    "logpath='../../result_logs/enzyme/'"
   ]
  },
  {
   "cell_type": "code",
   "execution_count": null,
   "metadata": {},
   "outputs": [],
   "source": []
  }
 ],
 "metadata": {
  "kernelspec": {
   "display_name": "Python 3",
   "language": "python",
   "name": "python3"
  },
  "language_info": {
   "codemirror_mode": {
    "name": "ipython",
    "version": 3
   },
   "file_extension": ".py",
   "mimetype": "text/x-python",
   "name": "python",
   "nbconvert_exporter": "python",
   "pygments_lexer": "ipython3",
   "version": "3.8.2"
  }
 },
 "nbformat": 4,
 "nbformat_minor": 4
}
