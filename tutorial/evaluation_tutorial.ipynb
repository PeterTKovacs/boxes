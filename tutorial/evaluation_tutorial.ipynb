{
 "cells": [
  {
   "cell_type": "code",
   "execution_count": 1,
   "metadata": {},
   "outputs": [],
   "source": [
    "# OUT OF DATE"
    "import boxes\n",
    "import numpy as np\n",
    "import matplotlib.pyplot as plt\n",
    "import os\n",
    "import pandas as pd"
   ]
  },
  {
   "cell_type": "code",
   "execution_count": 2,
   "metadata": {},
   "outputs": [],
   "source": [
    "import resource\n",
    "import random\n",
    "import time\n",
    "import gc\n",
    "import networkx as nx\n",
    "resource.setrlimit(resource.RLIMIT_AS, (int(5.5e9),int(5.5e9)))"
   ]
  },
  {
   "cell_type": "code",
   "execution_count": 3,
   "metadata": {},
   "outputs": [
    {
     "name": "stdout",
     "output_type": "stream",
     "text": [
      "Help on function read_logfile in module boxes.io:\n",
      "\n",
      "read_logfile(path)\n",
      "\n"
     ]
    }
   ],
   "source": [
    "help(boxes.io.read_logfile)"
   ]
  },
  {
   "cell_type": "code",
   "execution_count": 4,
   "metadata": {},
   "outputs": [
    {
     "data": {
      "text/plain": [
       "['facebook_caltech_demo',\n",
       " 'uv_24_g5',\n",
       " 'grid2d',\n",
       " '.ipynb_checkpoints',\n",
       " 'enzyme',\n",
       " 'uv_12_g7',\n",
       " 'facebook_caltech',\n",
       " 'uv_23_g5',\n",
       " 'minnesota',\n",
       " 'shm_gmxe_422_0.5',\n",
       " 'shm_gmxe_5210',\n",
       " 'uv_23_g3',\n",
       " 'hadgm_gmabt_421_1_0.5',\n",
       " 'shm_gmxe_521_0.5_distribution',\n",
       " 'hadgm_gmabt_421_0.5_0.5',\n",
       " 'uv_22_g5',\n",
       " 'shm_gmxe_521_1',\n",
       " 'shm_gmxe_4220',\n",
       " 'uv_23_g4',\n",
       " 'uv_23_g6',\n",
       " 'alldata.pkl',\n",
       " 'uv_24_g4',\n",
       " 'shm_gmxe_521_0.5']"
      ]
     },
     "execution_count": 4,
     "metadata": {},
     "output_type": "execute_result"
    }
   ],
   "source": [
    "os.listdir('../../result_logs')"
   ]
  },
  {
   "cell_type": "code",
   "execution_count": 5,
   "metadata": {},
   "outputs": [],
   "source": [
    "networks=[]\n",
    "for element in os.listdir('../../result_logs'):\n",
    "    if element[0]!='.' and not 'distr' in element:\n",
    "        networks.append(element)"
   ]
  },
  {
   "cell_type": "code",
   "execution_count": 6,
   "metadata": {},
   "outputs": [
    {
     "data": {
      "text/plain": [
       "['facebook_caltech_demo',\n",
       " 'uv_24_g5',\n",
       " 'grid2d',\n",
       " 'enzyme',\n",
       " 'uv_12_g7',\n",
       " 'facebook_caltech',\n",
       " 'uv_23_g5',\n",
       " 'minnesota',\n",
       " 'shm_gmxe_422_0.5',\n",
       " 'shm_gmxe_5210',\n",
       " 'uv_23_g3',\n",
       " 'hadgm_gmabt_421_1_0.5',\n",
       " 'hadgm_gmabt_421_0.5_0.5',\n",
       " 'uv_22_g5',\n",
       " 'shm_gmxe_521_1',\n",
       " 'shm_gmxe_4220',\n",
       " 'uv_23_g4',\n",
       " 'uv_23_g6',\n",
       " 'alldata.pkl',\n",
       " 'uv_24_g4',\n",
       " 'shm_gmxe_521_0.5']"
      ]
     },
     "execution_count": 6,
     "metadata": {},
     "output_type": "execute_result"
    }
   ],
   "source": [
    "networks"
   ]
  },
  {
   "cell_type": "code",
   "execution_count": 7,
   "metadata": {},
   "outputs": [],
   "source": [
    "algs_lb={\n",
    "    'cbb':{'alg':boxes.cbb,'kwargs':{'boxing':True}},\n",
    "    'greedy':{'alg':boxes.greedy_coloring,'kwargs':{'boxing':True}},\n",
    "    'merge':{'alg':boxes.merge_algorithm,'kwargs':{'boxing':True}},\n",
    "    'obca':{'alg':boxes.obca, 'kwargs':{'boxing':True}},\n",
    "    'fuzzy':{'alg':boxes.fuzzy, 'kwargs':{'boxing':True}}\n",
    "}\n",
    "\n",
    "algs_rb={\n",
    "    'mcwr_0.75':{'alg':boxes.mcwr,'kwargs':{'p':0.75,'boxing':True}},\n",
    "    'mcwr_0.5':{'alg':boxes.mcwr,'kwargs':{'p':0.5,'boxing':True}},\n",
    "    'mcwr_0.25':{'alg':boxes.mcwr,'kwargs':{'p':0.25,'boxing':True}},\n",
    "    'memb':{'alg':boxes.memb,'kwargs':{'boxing':True}},\n",
    "    'random_sequential':{'alg':boxes.random_sequential,'kwargs':{'boxing':True}},\n",
    "    'remcc':{'alg':boxes.remcc,'kwargs':{'return_centres':False}}\n",
    "}"
   ]
  },
  {
   "cell_type": "markdown",
   "metadata": {},
   "source": [
    "The below external wrappers make getting db much faster and easier than ever before :)\n",
    "\n",
    "__WARNING__: may contain sharp edges\n",
    "\n",
    "eg. I am not sure if the inteactive linefit always properly accepts input (left side)\n",
    "\n",
    "also note that benchmark logf scraping is only stable if newlines manually eliminated!!!"
   ]
  },
  {
   "cell_type": "code",
   "execution_count": 18,
   "metadata": {
    "scrolled": true
   },
   "outputs": [
    {
     "name": "stdout",
     "output_type": "stream",
     "text": [
      "[(1, [280.0, 285.0, 284.0, 294.0, 286.0, 283.0, 292.0, 289.0, 293.0, 282.0]), (2, [74.0, 73.0, 75.0, 73.0, 70.0, 72.0, 72.0, 74.0, 72.0, 72.0]), (3, [29.0, 26.0, 28.0, 27.0, 25.0, 26.0, 26.0, 28.0, 26.0, 27.0]), (4, [9.0, 8.0, 9.0, 8.0, 8.0, 9.0, 7.0, 9.0, 9.0, 9.0]), (5, [2.0, 2.0, 2.0, 2.0, 2.0, 2.0, 2.0, 2.0, 2.0, 2.0]), (6, [1.0, 1.0, 1.0, 1.0, 1.0, 1.0, 1.0, 1.0, 1.0, 1.0])]\n",
      "-------------------------\n",
      "benchmark_greedy\n",
      "\n"
     ]
    },
    {
     "data": {
      "image/png": "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\n",
      "text/plain": [
       "<Figure size 432x288 with 1 Axes>"
      ]
     },
     "metadata": {
      "needs_background": "light"
     },
     "output_type": "display_data"
    },
    {
     "name": "stdout",
     "output_type": "stream",
     "text": [
      "ok? y/n\n",
      "y\n",
      "4.575182865494901\n"
     ]
    },
    {
     "data": {
      "image/png": "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\n",
      "text/plain": [
       "<Figure size 432x288 with 1 Axes>"
      ]
     },
     "metadata": {
      "needs_background": "light"
     },
     "output_type": "display_data"
    },
    {
     "name": "stdout",
     "output_type": "stream",
     "text": [
      "png saved\n",
      "-------------------------\n",
      "cbb\n",
      "\n"
     ]
    },
    {
     "data": {
      "image/png": "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\n",
      "text/plain": [
       "<Figure size 432x288 with 1 Axes>"
      ]
     },
     "metadata": {
      "needs_background": "light"
     },
     "output_type": "display_data"
    },
    {
     "name": "stdout",
     "output_type": "stream",
     "text": [
      "ok? y/n\n",
      "n\n",
      "new mask left:\n",
      "0\n",
      "new mask right:\n",
      "-3\n",
      "-------------------------\n",
      "cbb\n",
      "\n"
     ]
    },
    {
     "data": {
      "image/png": "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\n",
      "text/plain": [
       "<Figure size 432x288 with 1 Axes>"
      ]
     },
     "metadata": {
      "needs_background": "light"
     },
     "output_type": "display_data"
    },
    {
     "name": "stdout",
     "output_type": "stream",
     "text": [
      "ok? y/n\n",
      "y\n",
      "3.613246547656083\n"
     ]
    },
    {
     "data": {
      "image/png": "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\n",
      "text/plain": [
       "<Figure size 432x288 with 1 Axes>"
      ]
     },
     "metadata": {
      "needs_background": "light"
     },
     "output_type": "display_data"
    },
    {
     "name": "stdout",
     "output_type": "stream",
     "text": [
      "png saved\n",
      "-------------------------\n",
      "greedy\n",
      "\n"
     ]
    },
    {
     "data": {
      "image/png": "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\n",
      "text/plain": [
       "<Figure size 432x288 with 1 Axes>"
      ]
     },
     "metadata": {
      "needs_background": "light"
     },
     "output_type": "display_data"
    },
    {
     "name": "stdout",
     "output_type": "stream",
     "text": [
      "ok? y/n\n",
      "n\n",
      "new mask left:\n",
      "0\n",
      "new mask right:\n",
      "-3\n",
      "-------------------------\n",
      "greedy\n",
      "\n"
     ]
    },
    {
     "data": {
      "image/png": "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\n",
      "text/plain": [
       "<Figure size 432x288 with 1 Axes>"
      ]
     },
     "metadata": {
      "needs_background": "light"
     },
     "output_type": "display_data"
    },
    {
     "name": "stdout",
     "output_type": "stream",
     "text": [
      "ok? y/n\n",
      "y\n",
      "3.586379552967162\n"
     ]
    },
    {
     "data": {
      "image/png": "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\n",
      "text/plain": [
       "<Figure size 432x288 with 1 Axes>"
      ]
     },
     "metadata": {
      "needs_background": "light"
     },
     "output_type": "display_data"
    },
    {
     "name": "stdout",
     "output_type": "stream",
     "text": [
      "png saved\n",
      "-------------------------\n",
      "merge\n",
      "\n"
     ]
    },
    {
     "data": {
      "image/png": "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\n",
      "text/plain": [
       "<Figure size 432x288 with 1 Axes>"
      ]
     },
     "metadata": {
      "needs_background": "light"
     },
     "output_type": "display_data"
    },
    {
     "name": "stdout",
     "output_type": "stream",
     "text": [
      "ok? y/n\n",
      "y\n",
      "2.642826730825017\n"
     ]
    },
    {
     "data": {
      "image/png": "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\n",
      "text/plain": [
       "<Figure size 432x288 with 1 Axes>"
      ]
     },
     "metadata": {
      "needs_background": "light"
     },
     "output_type": "display_data"
    },
    {
     "name": "stdout",
     "output_type": "stream",
     "text": [
      "png saved\n",
      "-------------------------\n",
      "obca\n",
      "\n"
     ]
    },
    {
     "data": {
      "image/png": "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\n",
      "text/plain": [
       "<Figure size 432x288 with 1 Axes>"
      ]
     },
     "metadata": {
      "needs_background": "light"
     },
     "output_type": "display_data"
    },
    {
     "name": "stdout",
     "output_type": "stream",
     "text": [
      "ok? y/n\n",
      "y\n",
      "4.437165297492919\n"
     ]
    },
    {
     "data": {
      "image/png": "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\n",
      "text/plain": [
       "<Figure size 432x288 with 1 Axes>"
      ]
     },
     "metadata": {
      "needs_background": "light"
     },
     "output_type": "display_data"
    },
    {
     "name": "stdout",
     "output_type": "stream",
     "text": [
      "png saved\n",
      "-------------------------\n",
      "fuzzy\n",
      "\n"
     ]
    },
    {
     "data": {
      "image/png": "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\n",
      "text/plain": [
       "<Figure size 432x288 with 1 Axes>"
      ]
     },
     "metadata": {
      "needs_background": "light"
     },
     "output_type": "display_data"
    },
    {
     "name": "stdout",
     "output_type": "stream",
     "text": [
      "ok? y/n\n",
      "y\n",
      "2.023341158133419\n"
     ]
    },
    {
     "data": {
      "image/png": "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\n",
      "text/plain": [
       "<Figure size 432x288 with 1 Axes>"
      ]
     },
     "metadata": {
      "needs_background": "light"
     },
     "output_type": "display_data"
    },
    {
     "name": "stdout",
     "output_type": "stream",
     "text": [
      "png saved\n",
      "-------------------------\n",
      "mcwr_0.75\n",
      "\n"
     ]
    },
    {
     "data": {
      "image/png": "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\n",
      "text/plain": [
       "<Figure size 432x288 with 1 Axes>"
      ]
     },
     "metadata": {
      "needs_background": "light"
     },
     "output_type": "display_data"
    },
    {
     "name": "stdout",
     "output_type": "stream",
     "text": [
      "ok? y/n\n",
      "y\n",
      "3.941339755559179\n"
     ]
    },
    {
     "data": {
      "image/png": "iVBORw0KGgoAAAANSUhEUgAAAWoAAAD4CAYAAADFAawfAAAAOXRFWHRTb2Z0d2FyZQBNYXRwbG90bGliIHZlcnNpb24zLjMuMSwgaHR0cHM6Ly9tYXRwbG90bGliLm9yZy/d3fzzAAAACXBIWXMAAAsTAAALEwEAmpwYAAAhp0lEQVR4nO3dd3RUdf7G8fc3PfQWkN57Ewg1kFgIAaSJDVFQlKL0ZBeVddct6uouvw1NijSxgoqRIkgIloTQAwFC7y2ABOkQSuD+/kj06C5lgJncmcnzOifnZO7cTJ6vhMeby72fMZZlISIi7svH7gAiInJrKmoRETenohYRcXMqahERN6eiFhFxc36ueNESJUpYlSpVcsVLi4h4pXXr1p2wLCvkRs+5pKgrVapESkqKK15aRMQrGWMO3Ow5nfoQEXFzKmoRETenohYRcXMqahERN6eiFhFxcy656uNuzE1NZ1T8Do6czqRMkWBGRNWkW6OydscSEbGdWxT13NR0RsalkXn1GgDppzMZGZcGoLIWkTzPLU59jIrf8WtJ/yLz6jVGxe+wKZGIiPtwi6I+cjrzjraLiOQlblHUZYoE33B78fwBuZxERMT9uEVRj4iqSbC/7++2GeDEhSv86es0zl66ak8wERE34Bb/mPjLPxj+9qqPYQ9XZ9fxc0xP3sf3247z9qP1eLh2KZuTiojkPuOK90wMDQ21nDWUacOh07w6ZxM7fjpHl4Zl+GvnOhQvEOiU1xYRcRfGmHWWZYXe6Dm3OPVxK/eXL8KCIa0Z3rY6324+SuToJOZtSEdvyisieYXbFzVAgJ8Pw9vW4JshbShfLB/DZm+g74cpHD2jq0JExPs5XNTGGF9jTKox5htXBrqVmvcVJO7lVvz5kdos33OCdrFJfLb6INev6+haRLzXnRxRDwO2uSqIo3x9DH3bVCF+eDj1yhbmT1+n0XPaKvafuGB3NBERl3CoqI0x5YBHgGmujeO4isXz81m/5rzbvT5b0s8SNSaJKUl7yLp23e5oIiJO5egR9RjgFeCmLWiM6W+MSTHGpGRkZDgj220ZY+jRrAIJMRG0qV6Cfy7azmOTVrD92Nlc+f4iIrnhtkVtjOkEHLcsa92t9rMsa4plWaGWZYWGhNzw/Rld5r7CQUztHcr4pxtx+FQmncYlE5uwk8tZ127/xSIibs6RI+owoIsxZj8wG3jIGPOJS1PdBWMMnRuWISEmgk4NSjPuu110Hp9M6sFTdkcTEbknty1qy7JGWpZVzrKsSkAP4HvLsp51ebK7VCx/AGN6NGLG86Gcu5RF90krePObrVy8kmV3NBGRu+IR11HfjYdqlWJJdDjPNK/A9OR9RI1JYvnuE3bHEhG5Y3dU1JZl/WhZVidXhXG2gkH+vNWtPrP7t8DXGJ6ZtprXvtrEmUwNeRIRz+G1R9S/1aJKcRYPD2dARBW+SDlEZGwiS7YcszuWiIhD8kRRAwT5+zKyQ23mDgqjWP4A+n+8jsGfrefE+ct2RxMRuaU8U9S/aFCuCPMHt+YPkTVYsuUn2sYm8nXqYQ15EhG3leeKGrKHPA15uDoLh7amcon8RH++kRdmrtVbf4mIW8qTRf2L6qUKMuelVrzRqQ6r9p4kMjaRj1cd0JAnEXErebqoIXvI0wutK7MkOpxGFYryl7mb6TFlFXszztsdTUQEUFH/qnyxfHz8YjP+/VgDth07S4exy5icqCFPImI/FfVvGGN4sml5lsZEEFEjhHe/3U63icvZekRDnkTEPirqGyhVKIj3ezVh4jONOXbmEl3eS+Y/S3ZoyJOI2EJFfRPGGDrWL01CdARd7i/D+O9388i4ZNYdOGl3NBHJY1TUt1E0fwCxT97PzD5Nybxyjccnr+Rv87dw4bKGPIlI7lBRO+iBmiWJjw6nV4uKzFyxn6gxSSzblTtvkCAieZuK+g4UCPTjH13r8cWAlgT4+tBr+hpGfLmRMxc15ElEXEdFfReaVS7GomFtGPhAVeJS02k7OpHFmzXkSURcQ0V9l4L8fXmlfS3mDQojpEAgL32yjoGfruP4uUt2RxMRL6Oivkf1yhZm3uAwRkTVZOm240TGJjFnnYY8iYjzqKidwN/Xh0EPVmPR0DZUK1mAP365kec+WMvhUxftjiYiXkBF7UTVShbgywEt+XuXuqTsP0m70Ul8uGK/hjyJyD1RUTuZj4/huVaVWBIdTmilYvx1/haefH8lezTkSUTukoraRcoVzceHfZryf080ZNfx83QYu4wJP+zmqoY8icgdUlG7kDGGx5uUIyEmnLa1SzIqfgdd31vO5vQzdkcTEQ+ios4FJQsGMfGZJkx+tjHHz12m64Tl/Gvxdi5d1ZAnEbk9FXUual+vNN/FRNC9UVkm/biHjmOXsXa/hjyJyK2pqHNZ4Xz+jHqiIR+90IzLWdd5YvJK3pi3mfMa8iQiN6Gitkl4jRCWRIfzfKtKfLzqAFGjk0jcqSFPIvK/VNQ2yh/ox9+61GXOSy0J8vfhuRlriPliA6cvXrE7moi4ERW1G2hSsRgLh7Zh8IPVmL/hCG1jE1mUdlS3oYsIoKJ2G0H+vvwxqibzBodxX+EgBn66npc+WcfxsxryJJLXqajdTN0yhZk7MIxX29fihx0ZtI1N5IuUQzq6FsnDVNRuyM/Xh5cfqMriYW2odV8hXpmziV7T13DopIY8ieRFKmo3ViWkALP7t+DNbvVIPXiKdqOT+GD5Pq5pyJNInqKidnM+PoZeLSqyJCaC5lWK8fcFW3li8gp2Hz9ndzQRySUqag9RtkgwHzzflNFPNWTviQt0HJvM+O92aciTSB6govYgxhgebVSOpTERRNYtxX8SdtJ5fDJphzXkScSbqag9UIkCgUzo2Zj3ezXh5IUrdJ2QzDvfbtOQJxEvpaL2YFF17yMhJoInQ8vzfuJeOoxdxuq9P9sdS0ScTEXt4QoH+/PuYw34tG9zsq5f56kpq/jz3DTOXbpqdzQRcZLbFrUxJsgYs8YYs9EYs8UY8/fcCCZ3JqxaCeKHh/Ni68p8uvogUaOT+GH7cbtjiYgTOHJEfRl4yLKshsD9QHtjTAuXppK7ki/Aj790qsNXL7cif6AffWauJfrzDZy8oCFPIp7stkVtZfvlnVn9cz50x4Uba1yhKN8Mbc3Qh6uzYOMRImMTWbDxiG5DF/FQDp2jNsb4GmM2AMeBBMuyVt9gn/7GmBRjTEpGhuYq2y3Qz5eYyBosGNKaskWDGTIrlX4freMnDXkS8TjmTo6yjDFFgK+BIZZlbb7ZfqGhoVZKSsq9pxOnyLp2nRnL9/GfJTsJ8PPh9Y61eappeYwxdkcTkRzGmHWWZYXe6Lk7uurDsqzTwI9A+3uPJbnFz9eH/uFViR8eTp3ShXgtLo1npq3m4M8a8iTiCRy56iMk50gaY0ww0BbY7uJc4gKVSuRnVr8W/PPR+mw6fIZ2YxKZtmyvhjyJuDlHjqhLAz8YYzYBa8k+R/2Na2OJq/j4GHo2r0BCTDitqpbgrYXb6D5pBTuOaciTiLu6o3PUjtI5as9gWRbzNx7h7wu2cu7SVQY9WI2BD1QjwE/3QYnkNqedoxbvYoyh6/1lSYgOp2P90oxZuovO45PZeOi03dFE5DdU1ELxAoGM7dGIab1DOZN5lUcnLufthVvJvKIhTyLuQEUtv2pbpxRLYsLp0awCU5fto/3YJFbu0ZAnEbupqOV3CgX5889H6/NZv+YAPD11FSPj0jirIU8itlFRyw21qlqCxcPC6R9ehc/XHiQyNpGlW3+yO5ZInqSilpsKDvDlTx1rEzcwjCLBAfT9KIWhs1L5+fxlu6OJ5Ckqarmt+8sXYcGQ1kS3rcG3m4/SNjaReRvSNeRJJJeoqMUhAX4+DGtbnYVD21CxeH6Gzd5A3w9TOHom0+5oIl5PRS13pEapgnz1civ+/Ehtlu85QWRsEp+uPsB13YYu4jIqarljvj6Gvm2qsGR4BA3KFeb1rzfTc9oq9p+4YHc0Ea+kopa7VqF4Pj7t25x3u9dnS/pZosYkMSVpD1nXrtsdTcSrqKjlnhhj6NGsAgkxEbSpHsI/F22n+6QVbDt61u5oIl5DRS1OcV/hIKb2bsJ7PRuRfiqTzuOTiU3YyeUs3YYucq9U1OI0xhg6NSjD0pgIOjcsw7jvdtFpXDLrD56yO5qIR1NRi9MVzR/A6Kfu54Pnm3L+chaPTVrBm99s5eKVLLujiXgkFbW4zIO1SrIkOpxnmldgevI+osYksXz3CbtjiXgcFbW4VMEgf97qVp/P+7fAz8eHZ6at5tU5mziTqSFPIo5SUUuuaF6lON8Oa8NLEVWZs/4wkbGJLNlyzO5YIh5BRS25Jsjfl9c61GLuwDCKFwik/8frGPTZejLOaciTyK2oqCXX1S9XmPmDw/hjuxokbPmJyNGJfJ16WEOeRG5CRS228Pf1YfBD1Vk0rDVVSuQn+vON9Jm5lvTTGvIk8t9U1GKraiUL8uVLrfhr5zqs3nuSdrGJfLxyv4Y8ifyGilps5+tj6BNWmSXR4TSuWJS/zNtCjymr2Jtx3u5oIm5BRS1uo3yxfHz0QjNGPd6A7cfO0n7sMib9ePMhT3NT0wl793sqv7aQsHe/Z25qei4nFskdKmpxK8YYnggtz9KYCB6sGcK/Fm+n28TlbD3y+yFPc1PTGRmXRvrpTCwg/XQmI+PSVNbilVTU4pZKFgri/V6hTHqmMcfOXKbLe8n8X/wOLl3NHvI0Kn4HmVd/P/Ap8+o1RsXvsCOuiEv52R1A5FY61C9Ny6rFefObbbz3w26+3XyUfz/egCM3uTrkZttFPJmOqMXtFckXwH+ebMiHLzTj0tXrPD55JfkCfG+4b5kiwbmcTsT1VNTiMSJqhBAfHU7vFhW5eOUa5r+eD/b3ZURUTVuyibiSilo8SoFAP/7etR5fvNSSkIKBv24vXSiId7rXp1ujsjamE3ENFbV4pKaVipH0yoMMfKAqvj6GLMsiyF8/zuKd9JMtHivI35dX2tdi3qAwQgoE8tIn63n5k3UcP3fJ7mgiTqWiFo9Xr2xh5g0OY0RUTb7bfpzI2CTmrNOQJ/EeKmrxCv6+Pgx6sBqLhraheskC/PHLjfSesYZDJy/aHU3knqmoxatUK1mALwa05B9d67L+wCmixiQxc/k+DXkSj6aiFq/j42Po3bIS8dHhhFYqxt8WbOXJ91ey+7iGPIlnUlGL1ypXNB8f9mnKf55oyK7j5+k4dhkTftjN1ZsMeRJxV7ctamNMeWPMD8aYbcaYLcaYYbkRTMQZjDE81qQcS2MiaFunJKPid9D1veVsTj9jdzQRhzlyRJ0F/MGyrNpAC2CQMaaOa2OJOFdIwUAmPtOEyc82JuP8ZbpOWM6/Fm//dciTiDu7bVFblnXUsqz1OZ+fA7YBuv1LPFL7eqVZGh3BY43LMunHPXQcu4y1+0/aHUvklu7oHLUxphLQCFh9g+f6G2NSjDEpGRkZToon4nyF8/nz78cb8smLzbly7TpPTF7JG/M2c/5ylt3RRG7IOHpTgDGmAJAIvG1ZVtyt9g0NDbVSUlKcEE/EtS5czuL/luxg5or9lCkczNuP1uOBmiXtjiV5kDFmnWVZoTd6zqEjamOMP/AV8OntSlrEk+QP9OOvnesy56VWBAf48vwHa4n5YgOnLlyxO5rIrxy56sMA04FtlmXFuj6SSO5rUrEoC4e2ZshD1Zi/4QiRoxNZuOmobkMXt+DIEXUY0At4yBizIeejo4tzieS6QD9f/tCuJvMHt6Z04WAGfbaeAR+v4/hZDXkSezl8jvpO6By1eLqsa9eZnryP2ISdBPj58JdH6vBEaDmyf8EUcb57Pkctktf4+fowIKIq3w5rQ+3ShXjlq030mq4hT2IPFbXILVQJKcDsfi14q1s9Nhw6TbvRScxI3sc1DXmSXKSiFrkNHx/Dsy0qsiQ6nOZVivGPb7byxOQV7PrpnN3RJI9QUYs4qEyRYD54viljnrqffScu8Mi4ZMZ/t4srWRryJK6loha5A8YYujUqS0JMBFH17uM/CTvp8l4ymw6ftjuaeDEVtchdKFEgkPFPN2Jq71BOXbxCtwnLeWfRNg15EpdQUYvcg8g6pVgSHcFTTcvzftJe2o9JYtXen+2OJV5GRS1yjwoH+/NO9wZ81rc51y3oMWUVr3+dxrlLV+2OJl5CRS3iJK2qlWDx8Db0bV2ZWWsO0m50Ej9sP253LPECKmoRJ8oX4MefO9Xhq5dbUSDQjz4z1zJ8dionNeRJ7oGKWsQFGlUoyjdDWzPs4eosTDtK29hE5m88oiFPcldU1CIuEujnS3RkDRYMaU35osEMnZVKv4/WceyMhjzJnVFRi7hYrfsKETcwjNc71iZ5dwaRsYnMWnNQR9fiMBW1SC7w9TH0C6/C4mHh1C1biJFxafScupoDP1+wO5p4ABW1SC6qVCI/n/VtwT8frc/m9DNEjUli2rK9GvIkt6SiFsllPj6Gns0rsCQmnLCqJXhr4Ta6T1rBjmMa8iQ3pqIWsUnpwsFMey6UcU834tDJi3Qav4wxS3dqyJP8DxW1iI2MMXRpWIalMRF0rF+aMUt30Xl8MhsOnbY7mrgRFbWIGyiWP4CxPRox/blQzmRepfvE5by9cCuZVzTkSVTUIm7l4dqlWBITTo9mFZi6bB9RY5JYseeE3bHEZipqETdTKMiffz5an1n9WmAM9Jy6mpFxaZzVkKc8S0Ut4qZaVi3O4mHhDAivwudrDxIZm8jSrT/ZHUtsoKIWcWPBAb6M7FibuYPCKJovgL4fpTBkVio/n79sdzTJRSpqEQ/QoFwR5g9uTUxkDRZvzh7yNG9Dum5DzyNU1CIeIsDPh6EPV2fh0DZULJ6fYbM38OKHKRw5nWl3NHExFbWIh6lRqiBfvdyKv3Sqw8o9P9NudBKfrj7Add2G7rVU1CIeyNfH8GLrysQPD6dh+cK8/vVmnp66in0nNOTJG6moRTxYheL5+OTF5vzrsfpsPXqW9mOSeD9xD1nXdBu6N1FRi3g4YwxPNa3A0pgIwmuE8M632+k+aQXbjp61O5o4iYpaxEuUKhTElF5NmNCzMUdOZ9J5fDKxS3ZwOUu3oXs6FbWIFzHG8EiD0iRER9ClYRnGfb+bTuOSWX/wlN3R5B6oqEW8UNH8AcQ+dT8f9GnKhctZPDZpBf9YsJWLV7LsjiZ3QUUt4sUerFmS+Ohwnm1ekRnLs4c8Je/SkCdPo6IW8XIFg/x5s1s9vhjQEj8fH56dvppX5mzkTKaGPHkKFbVIHtGscjG+HdaGlx+oylfr04mMTSR+yzG7Y4kDVNQieUiQvy+vtq/F3IFhFC8QyICP1zHo0/VknNOQJ3d226I2xswwxhw3xmzOjUAi4nr1yxVm/uAwRkTVJGHrT0SOTiRu/WENeXJTjhxRzwTauziHiOQyf18fBj1YjUXDWlOlRH5ivtjI8x+sJV1DntzObYvasqwk4GQuZBERG1QrWZAvX2rF3zrXYe3+k7SLTeSjlfs15MmNOO0ctTGmvzEmxRiTkpGR4ayXFZFc4OtjeD4se8hT44pFeWPeFp6aspI9GeftjiY4sagty5piWVaoZVmhISEhznpZEclF5Yvl46MXmjHq8QbsOHaODmOXMfHH3RryZDNd9SEiv2OM4YnQ8iz9QwQP1SzJvxfvoNvE5Ww5csbuaHmWilpEbqhkwSAm92rCpGcac+zMZbq8t5xR8du5dFVDnnKbI5fnzQJWAjWNMYeNMS+6PpaIuIsO9UuzNCacRxuVZcIPe3hk3DJS9uv6gtxkXHHdZGhoqJWSkuL01xUReyXtzGBkXBpHzmTyXMtKjIiqSf5AP7tjeQVjzDrLskJv9JxOfYiIw8JrhLAkOpznWlbiw5X7aTc6iaSdusrL1VTUInJH8gf68bcudflyQEsC/X3oPWMNf/xyI6cvXrE7mtdSUYvIXQmtVIxFQ9sw6MGqfJ2aTtvYJL5NO2p3LK+kohaRuxbk78uIqFrMHxxGqUKBvPzpel7+ZB3Hz12yO5pXUVGLyD2rW6YwcweF8Wr7Wny3/TiRsUl8mXJIQ56cREUtIndkbmo6Ye9+T+XXFhL27vfMTU0Hsoc8vfxAVb4d1oYapQowYs4mes9Yw6GTF21O7PlU1CLisLmp6YyMSyP9dCYWkH46k5Fxab+WNUDVkAJ83r8lb3aty/oDp4gak8TM5fs05OkeqKhFxGGj4neQ+V93JmZevcao+B2/2+bjY+jVshLx0eE0rVSMvy3YyhPvr2T38XO5GddrqKhFxGFHbjKr+mbbyxXNx8w+TYl9siF7Ms7TcWwyE37YzVUNebojKmoRcViZIsF3tB2yhzx1b1yOhOgIIuuWYlT8Drq+t5zN6Rry5CgVtYg4bERUTYL9fX+3LdjflxFRNW/7tSEFA5nQszHv92pCxvnLdJ2wnH8t1pAnR6ioRcRh3RqV5Z3u9SlbJBgDlC0SzDvd69OtUVmHXyOq7n0sjY7g8cblmPTjHjqOXcaafRrydCsayiQitknedYLX4jZx+FQmvVpU5NUOtSiQR4c8aSiTiLil1tVLsCQ6nBfCKvPJ6gO0i03khx3H7Y7ldlTUImKrfAF+vNG5DnNeakW+QD/6fLCWmM83cOqChjz9QkUtIm6hScWiLBzamqEPVWP+xiNEjk5k4aajug0dFbWIuJFAP19i2tVkwZDWlC4czKDP1jPg43X8dDZvD3lSUYuI26lduhBfD2zFyA61SNyZQdvYRD5fezDPHl2rqEXELfn5+jAgoiqLh4dTu3QhXv0qjWenr+bgz3lvyJOKWkTcWuUS+ZndrwVvdavHxkNniBqTxPTkfVzLQ0OeVNQi4vZ8fAzPtqjIkuhwWlQpxpvfbOXxySvY9VPeGPKkohYRj1GmSDAznm/K2B73s//EBR4Zl8y473ZxJcu7hzypqEXEoxhj6Hp/WZbGRBBV7z5iE3bS5b1kNh46bXc0l1FRi4hHKl4gkPFPN2Jq71BOXbzCoxOX886ibWRe8b4hTypqEfFokXVKkRATwVNNy/N+0l46jE1i1d6f7Y7lVCpqEfF4hYL8ead7Az7r25zrFvSYsorXv07j3KWrdkdzChW1iHiNVtVKED88nH5tKjNrzUHajU7i++0/2R3rnqmoRcSrBAf48vojdYgbGEahIH9emJnCsNmp/Hz+st3R7pqKWkS80v3li7BgSGuGt63OorSjRI5OYv7GIx55G7qKWkS8VoCfD8Pb1uCbIW0oXywfQ2el0u+jFI6d8awhTypqEfF6Ne8rSNzLrfjzI7VJ3n2CyNhEZq3xnCFPKmoRyRN8fQx921Qhfng49coWZmRcGj2nrubAzxfsjnZbKmoRyVMqFs/PZ/2a8073+mxOzx7yNDVpr1sPeVJRi0ieY4zh6WYVSIiJoHW1Ery9aBvdJy5nxzH3HPKkohaRPOu+wkFM7R3K+KcbcfhUJp3GL2N0wk63G/KkohaRPM0YQ+eGZUiIieCR+qUZ+90uOo1fxgY3GvKkohYRAYrlD2BMj0bMeD6Uc5ey6D5xOW99s9Uthjw5VNTGmPbGmB3GmN3GmNdcHUpExC4P1SrFkuhwnm5WgWnJ+4gak8SKPSdu+TVzU9MJe/d7Kr+2kLB3v2duarpTM922qI0xvsAEoANQB3jaGFPHqSlERNxIwSB/3n60PrP7t8DHQM+pqxkZt4kzmf875Gluajoj49JIP52JBaSfzmRkXJpTy9qRI+pmwG7LsvZalnUFmA10dVoCERE31aJKcRYPD2dARBU+X3uIdqMTSdj6+yFPo+J3kHn196dHMq9eY1T8DqflcKSoywKHfvP4cM623zHG9DfGpBhjUjIyMpyVT0TEVkH+vozsUJu5g8Iomi+Afh+lMPiz9ZzIGfJ05HTmDb/uZtvvhiNFbW6w7X+uDLcsa4plWaGWZYWGhITcezIRETfSoFwR5g9uzR8ia7Bky09ExiYyNzWd0oWDbrh/mSLBTvvejhT1YaD8bx6XA444LYGIiIcI8PNhyMPVWTi0NZVK5Gf45xsoki+AQL/fV2mwvy8jomo67fs6UtRrgerGmMrGmACgBzDfaQlERDxM9VIFmfNSK97oVId9J7JnhRQJ9gegbJFg3ulen26N/ucM8V3zu90OlmVlGWMGA/GALzDDsqwtTksgIuKBfH0ML7SuTGSdUoyMSyN59wmaVS7GzD5NyRdw22q9Iw69mmVZi4BFTv3OIiJeoHyxfHz8YjO+TDnMugOnnF7S4GBRi4jIzRljeLJpeZ5sWv72O98F3UIuIuLmVNQiIm5ORS0i4uZU1CIibk5FLSLi5lTUIiJuTkUtIuLmVNQiIm7OWJbz3yLdGJMBHHD6C7tGCeDWb9/gubx5beDd6/PmtYF3r+9u11bRsqwbjh51SVF7EmNMimVZoXbncAVvXht49/q8eW3g3etzxdp06kNExM2pqEVE3JyKGqbYHcCFvHlt4N3r8+a1gXevz+lry/PnqEVE3J2OqEVE3JyKWkTEzeWJojbGzDDGHDfGbL7J888YYzblfKwwxjTM7Yx363Zr+81+TY0x14wxj+dWNmdwZH3GmAeMMRuMMVuMMYm5me9eOPBzWdgYs8AYszFnbX1yO+PdMsaUN8b8YIzZlpN92A32McaYccaY3Tl/9xrbkfVuOLg+5/WKZVle/wGEA42BzTd5vhVQNOfzDsBquzM7a205+/gC35P9dmqP253ZyX92RYCtQIWcxyXtzuzEtf0J+FfO5yHASSDA7twOrq000Djn84LATqDOf+3TEfgWMEALD/t758j6nNYreeKI2rKsJLJ/yG/2/ArLsk7lPFwFlMuVYE5wu7XlGAJ8BRx3fSLncmB9PYE4y7IO5uzvMWt0YG0WUNAYY4ACOftm5Ua2e2VZ1lHLstbnfH4O2Ab899tydwU+srKtAooYY0rnctS74sj6nNkreaKo79CLZP9f3isYY8oCjwKT7c7iIjWAosaYH40x64wxve0O5ETvAbWBI0AaMMyyrOv2RrpzxphKQCNg9X89VRY49JvHh/nfMnd7t1jfb91Tr+jNbX/DGPMg2f9BW9udxYnGAK9alnUt+8DM6/gBTYCHgWBgpTFmlWVZO+2N5RRRwAbgIaAqkGCMWWZZ1llbU90BY0wBsn+bG36D3Df6gfSo64Vvs75f9rnnXlFR5zDGNACmAR0sy/rZ7jxOFArMzinpEkBHY0yWZVlzbU3lPIeBE5ZlXQAuGGOSgIZknzP0dH2Ad63sk5y7jTH7gFrAGntjOcYY4092iX1qWVbcDXY5DPz2bbvLkf3bg0dwYH1O6xWd+gCMMRWAOKCXlxyJ/cqyrMqWZVWyLKsSMAcY6EUlDTAPaGOM8TPG5AOak32+0BscJPs3BYwxpYCawF5bEzko57z6dGCbZVmxN9ltPtA75+qPFsAZy7KO5lrIe+DI+pzZK3niiNoYMwt4AChhjDkM/BXwB7AsazLwBlAcmJhz5JllechkLwfW5tFutz7LsrYZYxYDm4DrwDTLsm55qaK7cODP7k1gpjEmjezTBK9aluUpo0HDgF5AmjFmQ862PwEV4Nf1LSL7yo/dwEWyf4PwFI6sz2m9olvIRUTcnE59iIi4ORW1iIibU1GLiLg5FbWIiJtTUYuIuDkVtYiIm1NRi4i4uf8H6/LA80cwLPAAAAAASUVORK5CYII=\n",
      "text/plain": [
       "<Figure size 432x288 with 1 Axes>"
      ]
     },
     "metadata": {
      "needs_background": "light"
     },
     "output_type": "display_data"
    },
    {
     "name": "stdout",
     "output_type": "stream",
     "text": [
      "png saved\n",
      "-------------------------\n",
      "mcwr_0.5\n",
      "\n"
     ]
    },
    {
     "data": {
      "image/png": "iVBORw0KGgoAAAANSUhEUgAAAWoAAAD4CAYAAADFAawfAAAAOXRFWHRTb2Z0d2FyZQBNYXRwbG90bGliIHZlcnNpb24zLjMuMSwgaHR0cHM6Ly9tYXRwbG90bGliLm9yZy/d3fzzAAAACXBIWXMAAAsTAAALEwEAmpwYAAAhtElEQVR4nO3dd3hUBf798fcnjYSW0IUA0qS3QKiBxFW6iIDYRRcLKBYgroVd16+uurjLbigKFrA3VIxYkKqY0CGhd0GkBBSQokiUdn9/JOvPQpnATO6dyXk9D8+TzIzjCTJnL3fvmTHHcRAREe8KczuAiIicmYpaRMTjVNQiIh6nohYR8TgVtYiIx0UE4knLly/v1KhRIxBPLSISkrKzs/c5jlPhVPcFpKhr1KhBVlZWIJ5aRCQkmdm2092nUx8iIh6nohYR8TgVtYiIx6moRUQ8TkUtIuJxAbnq41xMWZ7DyBkb2XUwlypxMdzftR69E+LdjiUi4jpPFPWU5TkMT19N7rETAOQczGV4+moAlbWIFHmeOPUxcsbGX0r6f3KPnWDkjI0uJRIR8Q5PFPWug7kFul1EpCjxRFFXiYsp0O0iIkWJJ4r6/q71iIkM/8PtlWOj2f/jURcSiYh4hyeKundCPCP6NiE+LgYDqsRG07VRJVbuPEjntAw+XrkLfWSYiBRVFogCTExMdPzxpkwbvvmeByevYuXOQ3RqUJHHezemcqxOh4hI6DGzbMdxEk91nyeOqE+n/gWlSR+cxMOXNWDe5n10ScvkrcXbOXlSR9ciUnR4uqgBwsOM2zrWYubQFJpUjeWvH6zm+omL+Hrfj25HExEpFJ4v6v+pXq44b97Whn9d2YS1u76n6+hMns/YwvETJ92OJiISUEFT1ABmxjWtqjM7NYWUuhUYMW0DfcYvYN2u792OJiISMEFV1P9TqXQ0z/dvyfgbWrD7UC69npnHf2Zs5KffrRtFREJBUBY15B1d92hSmdmpKfROiOeZOZu5bOxcsr7e73Y0ERG/Ctqi/p+44lH856pmvHZLa346dpKrnl/Iox+t5cefj7sdTUTEL3wuajMLN7PlZvZJIAOdq+S6FZg5LJmb29Xg1YVf02VUJl9s3ON2LBGR81aQI+ohwPpABfGHEsUieLRXIybf0Z6YqHD+/PJSUt9dwQHN0EUkiPlU1GZWFbgMmBjYOP7R8sIyTL23A/deUoePVuyi86gMPlmlGbqIBCdfj6hHAw8Ap71o2cwGmlmWmWXt3bvXH9nOS7GIcFK71OPjezpQJS6Gu99azsDXs/n2+5/cjiYiUiBnLWoz6wnscRwn+0yPcxznBcdxEh3HSaxQoYLfAp6vBpVLk35ne/7WowFzv9xLp7QMJi3ZrqNrEQkavhxRJwG9zOxrYBJwiZm9EdBUfhYRHsbtybWYPiSZRlVK81D6aq6fsFgzdBEJCgV69zwzuxj4i+M4Pc/0OH+9e14gOI7DpKU7+OfU9Rw7eZL7OtdjQFINIsKD/kpFEQliQfvueYFgZlzXujqzUlPoUKcCT366nr7PLmD9bs3QRcSbClTUjuN8cbaj6WBxQWw0E25qyTPXJ7DrYC6XPz2PtJkb+fm4Zugi4i1F7oj618yMnk2rMGtYCr2aV2Hs55u5bOw8srcdcDuaiMgvinRR/0+ZElGkXd2cVwa0IvfoCfo9t0AzdBHxDBX1r1xcryIzhiVzU9sLf5mhZ25y/5pwESnaVNS/U7JYBI9d0Zj3BrUjOjKMm15awn3vruTgEc3QRcQdKurTSKxRlqn3duTuP9XhwxU5dErL4NPVuzWUEZFCp6I+g+jIcP7StR4f3d2ByrExDH5zGXe8kc0ezdBFpBCpqH3QsEppPhjcnuHd6/PFxr1cmpbBO0s1QxeRwqGi9lFEeBiDUmozfWgyDSuX5sH3V3PDxMVs/+6I29FEJMSpqAuoZvkSvH17W/7Zpwmrdx6iy+gMJs79ihMndXQtIoGhoj4HYWHG9W2qMzM1maTa5Xliat4MfeM3P7gdTURCkIr6PFSOjWHizYmMvS6BnfuP0PPpuYyatUkzdBHxKxX1eTIzejWrwqzUFHo2rcKYz76k59h5LNuuGbqI+IeK2k/Klohi1DXNeXlAK378+ThXPruAf3y8jiNHNUMXkfOjovazP9WryMzUFPq3vZCX5m+ly6hM5n25z+1YIhLEVNQBULJYBP+4ojHvDmpHVHgYN764mPvfW8mhI8fcjiYiQUhFHUCta5bl0yEdGXxxbdKX59BpVAbT1+x2O5aIBBkVdYBFR4bzQLf6fHR3EhVLFeOON5Zxx+uaoYuI71TUhaRRlVg+vCuJB7vVZ87GPXRKy+DdrB2aoYvIWamoC1FEeBh3XlybaUM6Ur9yaR6YvIr+Ly7RDF1EzkhF7YJaFUoy6fa2PNG7MSt2HKTr6ExenLdVM3QROSUVtUvCwowb217IzGHJtKtdjsc/WceVzy5g07eaoYvIb6moXVYlLoYXb05kzLXN2b7/CJeNncvo2Zs4evyk29FExCNU1B5gZlzRPJ5Zw5Lp0aQyo2d/yeVPz2PFjoNuRxMRD1BRe0i5ksUYc20CL/05ke9/Okbf8fN5/BPN0EWKOhW1B11SvxIzhyVzfZvqvDhvK11HZzJ/s2boIkWVitqjSkVH8kTvJrwzsC0RYWHcMHExD05exaFczdBFihoVtce1qVWOaUM6cufFtZm8bCed0zKYvuYbt2OJSCFSUQeB6MhwHuxWnw/vSqJ8yWLc8UY2g9/MZs8PmqGLFAUq6iDSOD6WD+9O4oFu9Zi9fg+d0zJ5TzN0kZCnog4ykeFhDL64DtOGdKRupZLcP3kVN720hB37NUMXCVUq6iBVu0JJ3hnYjsevaMSybQfoOjqTl+drhi4SilTUQSwszOjfrgYzU1NoXbMsj328jn7PLeBLzdBFQoqKOgTEx8Xw8p9bMfqa5ny970cuGzuPsZ99qRm6SIhQUYcIM6N3QjyzU1Po1vgC0mZtotcz81ipGbpI0FNRh5hyJYsx9roEJt6UyMEjx+gzfj5PTl1H7tETbkcTkXN01qI2s2gzW2JmK81srZk9VhjB5Px0aliJmanJXNu6OhPm5s3QF2zRDF0kGPlyRP0zcInjOM2A5kA3M2sb0FTiF6WjI/lnnyZMGtiWMIPrJyzmofc1QxcJNmctaifP4fxvI/N/6RqwINK2VjmmD01mUEot3svOm6HPXKsZukiw8OkctZmFm9kKYA8wy3Gcxad4zEAzyzKzrL179/o5ppyv6MhwhndvwJTBSZQrWYyBr2dz11vL2PvDz25HE5GzsILMj80sDvgAuMdxnDWne1xiYqKTlZV1/ukkII6dOMkLmV8xZvaXxESF80jPhvRtEY+ZuR1NpMgys2zHcRJPdV+BrvpwHOcg8AXQ7fxjiVsiw8O46091+HRIRy6qWJL73lvJzS8vZeeBwMzQpyzPIempz6n50FSSnvqcKctzAvLvEQlVvlz1USH/SBoziwE6ARsCnEsKQZ2KJXl3UDv+cUUjsr/eT5dRmbwyfysn/ThDn7I8h+Hpq8k5mIsD5BzMZXj6apW1SAH4ckRdGZhjZquApeSdo/4ksLGksISFGTe1q8GMYcm0qlGWRz9ex1XPL2TzHv/M0EfO2Ejusd9ew5177AQjZ2z0y/OLFAW+XPWxynGcBMdxmjqO09hxnH8URjApXFXLFOeVAa0YdU0ztuw9TI8x83j6sy85duL8Zui7DuYW6HYR+SMtE+UXZkafhKrMTk2hS6NK/HfWJi5/eh6rdh485+esEhdToNtF5I9U1PIH5UsW45nrWzDhpkQOHDlK73HzGfHp+nOaod/ftR4xkeG/uS0mMpz7u9bzV1yRkKeiltPq3LASs1JTuKZVdZ7P/IruYzJZuOW7Aj1H74R4RvRtQnxcDEbeO/2N6NuE3gnxgQktEoIKdB21r3QddehZsGUfw9NXs+27I1zXujrDe9SndHSk27FEQobfrqOWoqt97fJMH5LMoORavLN0O53TMpi17lu3Y4kUCSpq8VlMVDjDezRgyl1JlCkexe2vZXH3W8vYd1gzdJFAUlFLgTWtGsdHd3fgvs51mbn2WzqlZfDB8p36NHSRAFFRyzmJigjjnksv4tMhHahVvgTD3lnJgFeWkqPro0X8TkUt56VOxVK8d0d7Hr28IUu27qdLWgavLfzarzN0kaJORS3nLTzM+HNSTWYOS6ZljbI88uFarnlhIZv3HD77PywiZ6WiFr+pWqY4rw5oxX+vasambw/TY8xcxs3ZfN4zdJGiTkUtfmVmXNkyb4beuWElRs7YSK9n5rMm55Db0USClopaAqJCqWKMu6EFz/dvyXeHf+aKcfMZMW09Px3Tp6GLFJSKWgKqa6MLmJWawlUtq/J8xld0HzOXRV8VbIYuUtSpqCXgYmMieerKprx1WxtOnHS49oVF/O2D1fzwkz4NXcQXKmopNO3rlGfG0GRu71iTt5dsp3NaJp+t1wxd5GxU1FKoYqLC+dtlDUkfnERsTCS3vprFvW8v5zvN0EVOS0UtrmheLY6P7+lAaue6TFuzm05pGUxZnqMZusgpqKjFNVERYdx76UVMvbcjNcqXYOg7K7jllaX6mC6R31FRi+vqVirF5Dva80jPhiz6Ku/T0F9ftE0zdJF8KmrxhPAw45YOeTP0hOpx/H3KGq59YRFb9mqGLqKiFk+pVrY4r93SmpH9mrLhm+/pPmYu47/QDF2KNhW1eI6ZcVViNWbfl0KnBhX59/SN9B6nGboUXSpq8ayKpaIZf0NLnruxBXt+yJuh/2v6Bs3QpchRUYvndWtcmdnDUriyRTzPfrGFHmPmsmTrfrdjiRQaFbUEhdjikfy7XzPeuLUNx06e5OrnF/LwFM3QpWhQUUtQ6XBR3gz91g41eWvxdrqMymTOhj1uxxIJKBW1BJ3iURH8vWdD3r+zPaWiIxjwylKGTlrO/h+Puh1NJCBU1BK0EqqX4ZN7OjK000VMXZ03Q/9whWboEnpU1BLUoiLCGNqpLp/c05FqZYszZNIKbns1i92HNEOX0KGilpBQ74JSpN/Znr/3bMiCLd/ROS2TNzRDlxChopaQER5m3NqhJjOGJtOsWiwPT1nDtRMWsXXfj25HEzkvKmoJOdXLFeeNW9vw735N2bD7e7qNzuS5jC0c1wxdgpSKWkKSmXF1YjVmp6Zwcb0KPDVtA73Hz2ftLs3QJfioqCWkVSwdzfP9E3n2hhZ8c+hnej0zn5EzNEOX4HLWojazamY2x8zWm9laMxtSGMFE/Kl7k8rMTk2mb0I84+ZsocfYuSz9WjN0CQ6+HFEfB+5zHKcB0Ba4y8waBjaWiP/FFY9i5FXNeO2W1hw9fpKrnlvIIx+u4fDPx92OJnJGZy1qx3F2O46zLP/rH4D1QHygg4kESnLdCswYmswtSTV5fdE2uqRlMGejZujiXQU6R21mNYAEYPEp7htoZllmlrV3714/xRMJjBLFInjk8oZMvqM9JYpFMODlpQx7Z4Vm6OJJ5uvc1sxKAhnAk47jpJ/psYmJiU5WVpYf4okE3s/HTzBuzhbGz9lMbEwkj/ZqRM+mlTEzt6NJEWJm2Y7jJJ7qPp+OqM0sEngfePNsJS0SbIpFhJPauS6f3NuBqmViuOft5dz+WjbfHPrJ7WgigG9XfRjwIrDecZy0wEcScUf9C0qTPjiJhy9rwLzNe+mclsFbi7drhi6u8+WIOgnoD1xiZivyf/UIcC4RV4SHGbd1rMWMock0qRrLXz9YzfUTF/G1ZujiIp/PUReEzlFLKHAch3ezdvDE1PUcPX6S1M51ubVDTSLCtRMT/zvvc9QiRZGZcU2r6sxOTSGlbgVGTNtAn/ELWLfre7ejSRGjohY5i0qlo3m+f0vG39CC3Ydy6fXMPP47cyM/H9cMXQqHilrEB2ZGjyaVmTUshSuax/P055vpMWYu2ds0Q5fAU1GLFECZElH89+pmvHpLa346dpJ+zy3k0Y/W8qNm6BJAKmqRc5BStwIzhyVzc7savLrwa7qMyiRjkxa5EhgqapFzVKJYBI/2asTkO9oRHRnGzS8tIfXdFRzQDF38TEUtcp5aXliWT4d05N5L6vDRil10HpXB1FW79Wno4jcqahE/KBYRTmqXenx8TweqxMVw11vLGPh6Nt9+rxm6nD8VtYgfNahcmvQ72/PXHvXJ3LSXTmkZTFqyXUfXcl5U1CJ+FhEexsDk2swYmkyjKqV5KH01109YzLbvNEOXc6OiFgmQGuVL8NZtbRnRtwlrcg7RdXQmEzK/0qehS4GpqEUCKCzMuK51dWalptChTgWe/HQ9Vz67gA3faIYuvlNRixSCC2KjmXBTS565PoGdB3LpOXYeaZqhi49U1CKFxMzo2bQKs1NT6NWsCmM/38xlY+eRve2A29HE41TUIoWsTIko0q5pzisDWpF79AT9nlvAYx9rhi6np6IWccnF9SoyY1gyN7W9kFcW5M3QMzVDl1NQUYu4qGSxCB67ojHvDWpHscgwbnppCX95byUHj2iGLv+filrEAxJrlOXTezty95/qMGV5Dp3SMpm2erfbscQjVNQiHhEdGc5futbjw7uTuCC2GHe+uYxBr2exRzP0Ik9FLeIxjarEMmVwEsO71+eLjXu5NC2Dd5fu0Ay9CFNRi3hQRHgYg1JqM31oMg0rl+aB91dx44uL2f7dEbejiQtU1CIeVrN8Cd6+vS1P9mnMyh2H6DI6g4lzv+LESR1dFyUqahGPCwszbmhzIbNSk0mqXZ4npq6n77ML2PjND25Hk0KiohYJEpVjY5h4cyJjr0tgx/4j9Hx6LqNmbdIMvQhQUYsEETOjV7O8GfplTSoz5rMvufzpeSzfrhl6KFNRiwShsiWiGH1tAi//uRWHfzpO32cX8I+P13HkqGbooUhFLRLE/lQ/b4Z+Y5sLeWn+VrqMymTel/vcjiV+pqIWCXKloiN5vHdj3h3UjqjwMG58cTH3v7eSQ0eOuR1N/ERFLRIiWtfM+zT0wRfXJn15Dp1GZTB9jWbooUBFLRJCoiPDeaBbfT68K4mKpYpxxxvLuPONbPb8oBl6MFNRi4SgxvGxTLkriQe71eezDXvo9N8M3s3SDD1YqahFQlRkeBh3Xlyb6UM6Uv+C0jwweRX9X1zCjv2aoQcbFbVIiKtVoSSTBrbl8d6NWbHjIF1GZfLivK2aoQcRFbVIERAWZvRveyEzhyXTrnY5Hv9kHVc+u4BN32qGHgzOWtRm9pKZ7TGzNYURSEQCp0pcDC/enMiYa5uz7bsfuWzsXMbM/pKjx0+6HU3OwJcj6leAbgHOISKFxMy4onk8s1NT6NGkMqNmb+Lyp+exYsdBt6PJaZy1qB3HyQT2F0IWESlE5UoWY8y1Cbx4cyKHco/Rd/x8nvhEM3Qv8ts5ajMbaGZZZpa1d68+SVkkWFzaoBKzUpO5rnV1Js7bStfRmczfrBm6l/itqB3HecFxnETHcRIrVKjgr6cVkUJQKjqSJ/s0YdLAtkSEhXHDxMU8OHkVh3I1Q/cCXfUhIr9oW6sc04Z05I6U2kxetpPOaRnMWPuN27GKPBW1iPxGdGQ4D3XPm6GXL1mMQa9nM/hNzdDd5MvleW8DC4F6ZrbTzG4NfCwRcVvj+Fg+vDuJ+7vWY/b6PXROy2Ry9k7N0F1ggfhNT0xMdLKysvz+vCLijs17DvPQ+6vI2naAjheV5599mlCtbHG3Y4UUM8t2HCfxVPfp1IeInFWdiiV5d1A7Hr+iEcu2HaDr6Exenq8ZemFRUYuIT8LCjP7tajAzNYXWNcvy2MfruOq5BXypGXrAqahFpEDi42J4+c+tGHVNM7bu+5HLxs5j7GeaoQeSilpECszM6JNQlVmpKXRtfAFpszbR65l5rNQMPSBU1CJyzsqXLMbT1yUw4aZEDhw5Sp/x83ly6jpyj55wO1pIiXA7gIic3pTlOYycsZFdB3OpEhfD/V3r0Tsh3u1Yf9C5YSXa1CrLU9M2MGHuVmas/ZanrmxC+9rlfX6OYPlZ3aAjahGPmrI8h+Hpq8k5mIsD5BzMZXj6aqYsz3E72imVjo7kn32a8PbtbQkzuH7CYoan+zZDD7aftbCpqEU8auSMjeQe++0phNxjJxg5Y6NLiXzTrnY5pg9NZlBKLd5ZuoMuozKYeZYZerD+rIVFRS3iUbsO5hbodi+JjgxnePcGTLkriTLFoxj4ejZ3vbWMvT/8fMrHB/PPWhhU1CIeVSUupkC3e1HTqnF8fE8H/tKlLrPWfkvnURm8f4oZeij8rIGkohbxqPu71iMmMvw3t8VEhnN/13ouJTo3keFh3H3JRXw6pAO1K5TkvvdWcvPLS9l54P9/Gnqo/KyBoqIW8ajeCfGM6NuE+LgYjLyhyYi+TYL2Sog6FUvx3qB2PNarEVlf76fLqExeXfA1J086Ifez+pvelElECt3OA0f42wdryNi0l5YXluFfVzahTsVSbsdyld6USUQ8pWqZ4rwyoBVpVzdjy97D9Bgzj2c+/5JjJzRDPxUVtYi4wszo26Iqs4al0LlRJf4zM+/T0FftPOh2NM9RUYuIqyqUKsa461vwQv+WHDhylN7j5jPi0/Waof+KilpEPKFLowuYOSyFa1pV4/nMr+g+JpOFW75zO5YnqKhFxDNiYyIZ0bcpb93eBge4bsIihqev5vufivanoauoRcRz2tcuz/QhyQxMrsU7S7fTOS2D2eu+dTuWa1TUIuJJMVHh/LVHAz4YnDdDv+21LO5+axn7Dp96hh7KVNQi4mnNqsXx0d0dSO1cl5lrv6VTWgYfLC9an4auohYRz4uKCOPeSy9i6r0dqFW+BMPeWcmAV5aSU0TetElFLSJB46JKpXjvjvb83+UNWbJ1P13SMnhtYd4MPZSpqEUkqISHGQOSajJjaDItLizDIx+u5ZoXFrJl72G3owWMilpEglK1ssV57ZbW/OeqZmz69jDdx8xl3JzNITlDV1GLSNAyM/q1rMqs1GQ6N6jEyBkb6fXMfNbkHHI7ml+pqEUk6FUsFc24G1rw3I0t2Xf4Z64YN5+npm3gp2OhMUNXUYtIyOjW+AJmD0uhX4uqPJexhe5j5rL4q+CfoauoRSSkxBaP5F/9mvLmbW04cdLhmhcW8bcPVvNDEM/QVdQiEpKS6pRn+tCO3NahJm8v2U6XUZl8tj44Z+gqahEJWcWjIni4Z0PSBydROjqSW1/N4t63l/NdkM3QVdQiEvKaV8v7NPRhneoybc1uOqVl8OGKnKCZoauoRaRIiIoIY0ini5h6b0cuLFeCIZNWcOurWewKghm6ilpEipS6lUrx/p3t+XvPhizc8h1dRmXy+qJtnp6hq6hFpMgJDzNu7VCTmcOSaV4tjr9PWcO1LyziK4/O0H0qajPrZmYbzWyzmT0U6FAiIoWhWtnivH5ra/7drykbvvmebmPmMv6Lgs/QpyzPIempz6n50FSSnvqcKctz/JrzrEVtZuHAOKA70BC4zswa+jWFiIhLzIyrE6sx+74ULq1fkX9P30jvcb7P0Kcsz2F4+mpyDubiADkHcxmevtqvZe3LEXVrYLPjOF85jnMUmARc4bcEIiIeULFUNM/e2JJnb2jBt9/nzdD/Nf3sM/SRMzaS+7vH5B47wcgZG/2WzZeijgd2/Or7nfm3/YaZDTSzLDPL2rt3r7/yiYgUqu5NKvNZagpXtojn2S+20GPMXJZs3X/ax5/uqhF/Xk3iS1HbKW77w/896jjOC47jJDqOk1ihQoXzTyYi4pLY4pH8u18z3ri1DUdPnOTq5xfy9ylrTjlDrxIXc8rnON3t58KXot4JVPvV91WBXX5LICLiUR0uKs/MYcncklSTNxZvo8uoTOZs2PObx9zftR4xkeG/uS0mMpz7u9bzWw5finopcJGZ1TSzKOBa4CO/JRAR8bDiURE8cnlD3r+zPSWLRTDglaUMnbSc/T8eBaB3Qjwj+jYhPi4GA+LjYhjRtwm9E/5whvicmS8TSjPrAYwGwoGXHMd58kyPT0xMdLKysvwSUETEK34+foLxc7Yw/ovNlIqO5P8ub0ivZlUwO9UZ4oIxs2zHcRJPeV8gtu4qahEJZRu/+YEH3l/Fyh0HubR+RZ7o05jKsed3TvpMRa1loohIAdW7oBTpd7bn4csaMH/LPjqnZfJGAGfoKmoRkXMQHmbc1rEWM4em0LRqLA9PWcO1ExZx5Ohxv/+7Ivz+jCIiRUj1csV587Y2vJe1k+xtByge5f9aVVGLiJwnM+PqVtW4ulW1sz/4HOjUh4iIx6moRUQ8TkUtIuJxKmoREY9TUYuIeJyKWkTE41TUIiIep6IWEfG4gLwpk5ntBbb5/Yn9ozywz+0Q5yBYc4Oyu0XZ3XGu2S90HOeUn7oSkKL2MjPLOt07VHlZsOYGZXeLsrsjENl16kNExONU1CIiHlcUi/oFtwOco2DNDcruFmV3h9+zF7lz1CIiwaYoHlGLiAQVFbWIiMeFZFGb2UtmtsfM1pzm/hvMbFX+rwVm1qywM57O2bL/6nGtzOyEmfUrrGxn4ktuM7vYzFaY2VozyyjMfGfiw5+XWDP72MxW5mcfUNgZT8fMqpnZHDNbn59tyCkeY2Y21sw25/+Zb+FG1t/zMbvnXqu+5P7VY/3zOnUcJ+R+AclAC2DNae5vD5TJ/7o7sNjtzL5mz39MOPA58CnQz+3MPv6exwHrgOr531d0O3MBsv8V+Ff+1xWA/UCU27nz81QGWuR/XQrYBDT83WN6ANMAA9p65c+7j9k991r1JXf+fX57nYbkEbXjOJnkvZhOd/8Cx3EO5H+7CKhaKMF8cLbs+e4B3gf2BD6Rb3zIfT2Q7jjO9vzHB1N2ByhlZgaUzH+s/z/B9Bw4jrPbcZxl+V//AKwH4n/3sCuA15w8i4A4M6tcyFH/wJfsXnyt+vh7Dn58nYZkURfQreQdbQQFM4sH+gDPuZ2lgOoCZczsCzPLNrOb3A5UAM8ADYBdwGpgiOM4J92N9EdmVgNIABb/7q54YMevvt/JqYvFNWfI/muee62eLre/X6dF+sNtzexP5P3H7+B2lgIYDTzoOM6JvAO8oBEBtAQuBWKAhWa2yHGcTe7G8klXYAVwCVAbmGVmcx3H+d7VVL9iZiXJO3obeopcp/qD4pnrcs+S/X+P8dxr9Sy5R+PH12mRLWozawpMBLo7jvOd23kKIBGYlP8fvzzQw8yOO44zxdVUZ7cT2Oc4zo/Aj2aWCTQj7/ye1w0AnnLyTjxuNrOtQH1gibux8phZJHmF8abjOOmneMhO4Ncfj12VvL8duM6H7J58rfqQ26+v0yJ56sPMqgPpQP8gOaL7heM4NR3HqeE4Tg1gMjA4CEoa4EOgo5lFmFlxoA155/aCwXby/iaAmVUC6gFfuZooX/558xeB9Y7jpJ3mYR8BN+Vf/dEWOOQ4zu5CC3kavmT34mvVl9z+fp2G5BG1mb0NXAyUN7OdwP8BkQCO4zwHPAKUA8bn/y/ecccj79TlQ3ZPOltux3HWm9l0YBVwEpjoOM4ZL0EsLD78nj8OvGJmq8k7jfCg4zheeQvOJKA/sNrMVuTf9legOvyS/1PyrvzYDBwh728IXuBLdi++Vn3J7VeakIuIeFyRPPUhIhJMVNQiIh6nohYR8TgVtYiIx6moRUQ8TkUtIuJxKmoREY/7f1y8YmDxSczpAAAAAElFTkSuQmCC\n",
      "text/plain": [
       "<Figure size 432x288 with 1 Axes>"
      ]
     },
     "metadata": {
      "needs_background": "light"
     },
     "output_type": "display_data"
    },
    {
     "name": "stdout",
     "output_type": "stream",
     "text": [
      "ok? y/n\n",
      "y\n",
      "3.4686720787982868\n"
     ]
    },
    {
     "data": {
      "image/png": "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\n",
      "text/plain": [
       "<Figure size 432x288 with 1 Axes>"
      ]
     },
     "metadata": {
      "needs_background": "light"
     },
     "output_type": "display_data"
    },
    {
     "name": "stdout",
     "output_type": "stream",
     "text": [
      "png saved\n",
      "-------------------------\n",
      "mcwr_0.25\n",
      "\n"
     ]
    },
    {
     "data": {
      "image/png": "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\n",
      "text/plain": [
       "<Figure size 432x288 with 1 Axes>"
      ]
     },
     "metadata": {
      "needs_background": "light"
     },
     "output_type": "display_data"
    },
    {
     "name": "stdout",
     "output_type": "stream",
     "text": [
      "ok? y/n\n",
      "y\n",
      "4.068181385803255\n"
     ]
    },
    {
     "data": {
      "image/png": "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\n",
      "text/plain": [
       "<Figure size 432x288 with 1 Axes>"
      ]
     },
     "metadata": {
      "needs_background": "light"
     },
     "output_type": "display_data"
    },
    {
     "name": "stdout",
     "output_type": "stream",
     "text": [
      "png saved\n",
      "-------------------------\n",
      "memb\n",
      "\n"
     ]
    },
    {
     "data": {
      "image/png": "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\n",
      "text/plain": [
       "<Figure size 432x288 with 1 Axes>"
      ]
     },
     "metadata": {
      "needs_background": "light"
     },
     "output_type": "display_data"
    },
    {
     "name": "stdout",
     "output_type": "stream",
     "text": [
      "ok? y/n\n",
      "y\n",
      "3.8414397411401167\n"
     ]
    },
    {
     "data": {
      "image/png": "iVBORw0KGgoAAAANSUhEUgAAAWoAAAD4CAYAAADFAawfAAAAOXRFWHRTb2Z0d2FyZQBNYXRwbG90bGliIHZlcnNpb24zLjMuMSwgaHR0cHM6Ly9tYXRwbG90bGliLm9yZy/d3fzzAAAACXBIWXMAAAsTAAALEwEAmpwYAAAgmUlEQVR4nO3dd3SVVb7G8e8+6bSEEnoJIp1QQw0kFiCASBO7oIwKUhTIDCrOODOOOhbuDU1EERU7ikRQWgBLQodAkNAFFCSghN4idd8/Er0WMCdwTk7J81krayXnvEl+G8Ljm+37nNdYaxEREe/l8PQAIiLy5xTUIiJeTkEtIuLlFNQiIl5OQS0i4uUC3fFFy5UrZ6OiotzxpUVE/NLatWsPWmsjL/WcW4I6KiqK9PR0d3xpERG/ZIzZfbnntPUhIuLlFNQiIl5OQS0i4uUU1CIiXk5BLSLi5dxy1ceVmJWRxZiUbew7mkPliDBGJdSlV7Mqnh5LRMTjvCKoZ2VkMTo5k5xzFwDIOprD6ORMAIW1iBR5XrH1MSZl2y8h/bOccxcYk7LNQxOJiHgPrwjqfUdzCvS4iEhR4hVBXTkirECPi4gUJV4R1KMS6hIWFPCHxytHhHL09FkPTCQi4j2cDmpjTIAxJsMYM8fVQ/RqVoXn+kRTJSIMA1QOD6Vzgwpk7DlKx6RU5m7Yj24ZJiJFVUGu+hgObAFKuWOQXs2q/OEKj837jvPYzA0MfX8dnRtU4OlejahQKtQd315ExGs5dUZtjKkK3ARMde84v9Wgcik+GdKOJ7rVI3V7Nh2TUvlwzR6dXYtIkeLs1sc44FHg4uUOMMYMNMakG2PSs7OzXTEbAIEBDgbG1SJlRBwNKpXisZmZ3D11FbsPnXLZ9xAR8Wb5BrUxpjtwwFq79s+Os9ZOsdbGWGtjIiMv+drXVyWqXHE+eLAN/+0dTebeYySMS2Pqkl1cuKizaxHxb86cUccCPYwx3wHTgRuMMe+6darLcDgMd7WuzqLEeNpfW45n5m6hz+TlbP3huCfGEREpFPkGtbV2tLW2qrU2CrgD+MJae4/bJ/sTFcNDea1/DBPvbMbew6fpPmEpSYu2c+b8hfw/WUTEx3jFddRXwhjDzU0qszgxnh5NKjPh82/oPmEp6/Yc8fRoIiIuVaCgttZ+Za3t7q5hrkTp4sEk3d6UNwe05NSZ89wyeTlPfbaJU2fOe3o0ERGX8Nkz6t+7vm55FibG079NDd5c9h0J49JY8o3rrj4REfEUvwlqgBIhgTzVsxEzHmpLcKCDfq+vZtSMrzl2+pynRxMRuWJ+FdQ/axlVhnmPdGDo9bVIzsjixqRU5mfu9/RYIiJXxC+DGiA0KIBRCfX4dFgsFcNDGPzeOh56Zy0Hjv/k6dFERArEb4P6Zw0rhzNrSCyPd63Hl9sO0DEplY/WfK8auoj4DL8PasitoT8UX4sFI+KoV6kUj87cQL/XV7Pn0GlPjyYikq8iEdQ/q1muONMfbMOzvRux/vujqqGLiE8oUkENuTX0u1vXYFFiHO1qleWZuVu4ZfJytv1wwtOjiYhcUpEL6p9VCg9j6r0xTLizGXsOn6b7xCWMW7yds+cv+wKBIiIeUWSDGnJr6D3yaug3RVdi3OJv6D5xCRmqoYuIFynSQf2zMsWDGXdHM968ryUnfjpPn8nLeXrOZk6fVQ1dRDxPQf0r19crz8KRcdzTugavL/2WhHFpLP3moKfHEpEiTkH9OyVDg3i6VyM+GtSWIIeDe15fxaMfq4YuIp6joL6MVjXLMG94B4ZcV4uZ67LoODaVBRtVQxeRwqeg/hOhQQE82qUes4fGUr5kCA+9u47B767lwAnV0EWk8CiondCoSjizhsbyWJd6fL71AJ2S0piRrhq6iBQOBbWTggIcDL6uFvOHd6BuhZKM+ngD/d9YzfeHVUMXEfdSUBdQrcgSTB/Yhqd7NSJjz1E6j03jjaXfqoYuIm6joL4CDoehX5saLBwZR9taZfnPnM30fWU53/yoGrqIuJ6C+ipUjgjj9XtjGH9HU747eIpuE5YwfvE3qqGLiEspqK+SMYaeTauwODGebtGVGLt4OzdPXMr67496ejQR8RMKahcpWyKE8Xc04/V7YziWc44+Ly/jmTmbyTl7wdOjiYiPU1C72I31K7AoMY47W1Vnal4NffkO1dBF5MopqN2gZGgQz/aOZvrANgQ4DHdNXcXjMzdwLEc1dBEpOAW1G7W5pizzh3fgofhazFi7l05JqaRs+sHTY4mIj1FQu1loUACPd82toZcrEcKgd9Yy9L11ZJ844+nRRMRHKKgLSaMq4cweFsuohLos2vIjHZNS+XjtXtXQRSRfCupCFBTgYOj11zLvkQ7ULl+Cv834WjV0EcmXgtoDri1fgo8GteXpng1Zt/sICePSmLZMNXQRuTQFtYc4HIZ+baNYmBhPq5pl+Pdnm7lVNXQRuQQFtYdViQjjzftaMvb2Jnx78BQ3TVjKxM9VQxeR/6eg9gLGGHo3q8qixHgSGlXkfxdtp8dLS/laNXQRQUHtVcqVCGHinc14rX8MR06fpffLy/jvvC2qoYsUcQpqL9SpQQUWJcZzR6vqTEnbRZfxaSzfqRq6SFGloPZSpUKD+G/vaD54sA0GuOu1VYxOVg1dpChSUHu5trXKsmBEHIPir+HDNd/TeWwqizb/6OmxRKQQKah9QGhQAKO71mfW0FhKFwvmwbfTGfq+augiRYWC2oc0rhrBZw+352+d67Bo0490GptK8jrV0EX8Xb5BbYwJNcasNsZ8bYzZZIx5qjAGk0sLCnAw7IbazBvegVqRJUj86GvufXMNe4+ohi7ir5w5oz4D3GCtbQI0BboYY9q4dSrJ17XlSzBjUFue6tGQ9O8O03lsGm8t/46LqqGL+J18g9rmOpn3YVDem9LACzgchnvbRbFwZBwto8rwr083cdurK9hx4GT+nywiPsOpPWpjTIAxZj1wAFhkrV11iWMGGmPSjTHp2dnZLh5T/kzV0sWYNqAlSbc1YUf2SbqNX8JLX3zDuQuqoYv4A1OQ/xFljIkAPgEettZuvNxxMTExNj09/eqnkwLLPnGGpz7bxJwN+6lXsSRj+jYhumq4p8cSkXwYY9Zaa2Mu9VyBrvqw1h4FvgK6XP1Y4g6RJUN46a7mTOnXgiOnz9Jz0lKeUw1dxKc5c9VHZN6ZNMaYMKAjsNXNc8lV6tywIgtHxnN7y2q8mraLruPTWLHzkKfHEpEr4MwZdSXgS2PMBmANuXvUc9w7lrhCeFgQz/VpzPsPtsYCd762ktHJmRz/STV0EV9SoD1qZ2mP2vvknL3A2MXbmbpkF5ElQ3i2VzQdG1Tw9Fgiksdle9Tiu8KCA3iiW30+GZJbQ3/g7XQe/iCDgydVQxfxdgrqIqZJtQg+Hdaev3aqQ8rGH+iUlMonGaqhi3gzBXURFBzo4OEbazP3kfbULFeckR9+zYBpa8g6muPp0UTkEhTURVjtCiWZ8VA7/n1zA1Z/e5jOSam8vUI1dBFvo6Au4gIchvtia5IyIo7mNUrzz9mbuH3KCnZmq4Yu4i0U1AJAtTLFePsvrfifW5uw/ceTdB2/hElf7lANXcQLKKjlF8YY+raoyuLEeDrVr8CYlG30eGkZG7OOeXo0kSJNQS1/EFkyhEl3N+fVfi04dPIMPSct4/n5W/npnGroIp6goJbLSmhYkUWJ8dzaoiqvpO6k6/glrNqlGrpIYVNQy58KDwvi+Vsa894Drblw0XL7lJX8/ZNMTqiGLlJoFNTilNhry5EyIo4HO9Tkg9V76Dw2jc+36G7oIoVBQS1OCwsO4O83NSB5SCylQoO4/610Hvkgg0OqoYu4lYJaCqxptdy7oY/sWIf5G/fTMSmV2euzVEMXcRMFtVyR4EAHwzvWZu4jHYgqV5zh09dz/1vp7FMNXcTlFNRyVepUKMnHD7Xjn90bsGLnITqPTeOdlbtVQxdxIQW1XLUAh+Ev7WuycGQczapH8OSsjdwxZSW7VEMXcQkFtbjMzzX0MX0bs/WH43QZv4SXv1INXeRqKajFpYwx3BpTjcV/jefGeuV5ccE2ek1SDV3kaiioxS3Klwxl8j0teOWe5hw4kVtDf2GBaugiV0JBLW7VpVElFo+M55bmVZj81U66jV/C6m8Pe3osEZ+ioBa3Cy8WxIt9m/Du/a05d/Eit726gidnbVQNXcRJCmopNO1r59bQ729fk/dW7abz2DS+3HrA02OJeD0FtRSqYsGBPNm9ATMHt6NkaCADpq1hxPQMDp866+nRRLyWglo8oln10sx5uAMjOtZmbqZq6CJ/RkEtHhMc6GBExzrMebgD1coUY/j09TzwVjr7j6mGLvJrCmrxuLoVS5I8uB1Pdm/A8p2H6JSUxruqoYv8QkEtXiHAYbi/fe7d0JtUC+cfszZyx2sr+fbgKU+PJuJxCmrxKtXLFuPd+1vzYt/GbN1/nC7j0ngldSfnVUOXIizQ0wOI/J4xhttiqnFdnUienL2R5+dvZc6GfbxwS2MaVg7/5bhZGVmMSdnGvqM5VI4IY1RCXXo1q+LByUXcQ2fU4rXKlwrl1X4xTL67OT8cO0OPl5YxJiW3hj4rI4vRyZlkHc3BAllHcxidnMmsjCxPjy3icjqjFq/XNboSbWuV5dm5W5j05U7mb/yB4znnyPnd64bknLvAmJRtOqsWv6MzavEJEcWCGXNrE97+SyvOnr/IwZOXLsjoDjPijxTU4lPi6kSSMiKO4iEBl3y+ckRYIU8k4n4KavE5xUMCebZXNMEBv/3xDQ10MCqhroemEnEf7VGLT/p5H/rFBVvZd+wnAAIDHAQ4DNZajDGeHE/EpYw7XlshJibGpqenu/zrilzO1h+O89jHG/h67zE61q/AM70aUTE81NNjiTjNGLPWWhtzqee09SF+oV7FUiQPieUfN9Vn6Y5sOiWl8v6qPaqhi1/IN6iNMdWMMV8aY7YYYzYZY4YXxmAiBRXgMDzQ4RpSRsQRXTWcJz7J5K6pK/lONXTxcc6cUZ8H/mqtrQ+0AYYaYxq4dyyRK1ejbHHee6A1L9wSzaZ9x0kYl8arqqGLD8s3qK21+6216/LePwFsAdQoEK9mjOH2ltVZnBhPfJ1Inpu/ld4vL2fzvuOeHk2kwAq0R22MiQKaAavcMo2Ii1UoFcqr/Vrw8t3N2X8shx4vLeV/F27jzHndDV18h9NBbYwpAcwERlhr/3BaYowZaIxJN8akZ2dnu3JGkatijKFbdCUWJ8bTs2kVJn6xg27jl5D+ne6GLr7BqcvzjDFBwBwgxVqblN/xujxPvFnq9myeSM5k37Ec7m0bxaiEuhQPUaVAPOuqLs8zuc2B14EtzoS0iLeLrxPJwpFx3Ns2irdWfEfnsWl8tU13Qxfv5czWRyzQD7jBGLM+762bm+cScaviIYH8u0dDPn6oLaFBDu57cw2JH63niO6GLl5IzUQp8s6cv8CkL3bw8lc7iSgWxFM9GtEtuqJq6FKo1EwU+RMhgQEkdq7LZw+3p3JEGEPfX8fAd9by4/GfPD2aCKCgFvlF/UqlSB7cjie61SNtezYdk1KZvnoP7vitU6QgFNQivxIY4GBgXC1SRsTRsHIpHk/O5K7XVqmGLh6loBa5hKhyxfngwTY81yeajVnH6DI+jdfSdqmGLh6hoBa5DGMMd7aqzqLEeNpfG8mz87bQZ/JytuxXDV0Kl4JaJB8Vw0N5rX8LXrqrGVlHcrh54lKSVEOXQqSgFnGCMYbujSuzODGeHk0rM+GLHdw0YSlrdx/x9GhSBCioRQqgdPFgkm5ryrQBLck5e4G+ryzn359u4tSZ854eTfyYglrkClxXtzwpI+Po36bGLzX0tO16MTJxDwW1yBUqERLIUz0bMWNQbg29/xur+etHX3P0tGro4loKapGrFBNVhrmPdGDY9dcye30WHZNSmZe5X0UZcRkFtYgLhAYF8LeEunw6rD2VwsMY8t46BqmGLi6ioBZxoQaVS/HJkHaM7lqP1Lwa+odrVEOXq6OgFnGxwAAHg+JrsWBEHA0qleKxmZncPXUVew6d9vRo4qMU1CJuUjOvhv5s70Zk7j1G53GpTF2yiwsXdXYtBaOgFnEjh8Nwd+saLEyMI7ZWOZ6Zm1tD3/bDCU+PJj5EQS1SCCqFhzH13hgm3NmMvYdP033iEpIWbVcNXZyioBYpJMYYejSpzKLEeLo3rsyEz7+h+4SlrNujGrr8OQW1SCErUzyYsbc35c0BLTl15jy3TF7OU5+phi6Xp6AW8ZDr65ZnYWI8/drU4M1l35EwLo0l36iGLn+koBbxoBIhgfynZyM+GtSW4AAH/V5fzagZX3Ps9DlPjyZeREEt4gVa1SzDvOEdGHJdLZIzsug4NpX5mfs9PZZ4CQW1iJcIDQrg0S71+HRYLOVLhjD4vXU89M5aDqiGXuQpqEW8TMPK4cweGstjXerx5bYDdExK5aM136uGXoQpqEW8UGCAg8HX1WL+8A7Uq1SKR2duoN/rq1VDL6IU1CJe7JrIEkx/sA3P9GrE+u+PkjAuTTX0IkhBLeLlHA7DPW1qsCgxjra1yvLM3C3cohp6kaKgFvERlcLDeP3eGMbf0ZQ9eTX0cYu3c/b8RU+PJm6moBbxIcYYejatwqKRcXSLrsS4xd9w88SlZKiG7tcU1CI+qGyJEMbf0Yw37ovh+E/n6DN5OU/P2czps6qh+yMFtYgPu6FeBRaOjOPu1tV5fem3JIxLY9mOg54eS1xMQS3i40qGBvFMr2g+HNiGQIeDu6eu4tGPVUP3JwpqET/R+pqyzB/egcHX1WLmutwa+oKNqqH7AwW1iB8JDQrgsS71mD00lsgSITz07joGv7uWAydUQ/dlCmoRP9SoSjizh8XyaJe6fL71AJ2S0piRrhq6r1JQi/ipoAAHQ667lvnDO1CnQglGfbyB/m+s5vvDqqH7GgW1iJ+rFVmCDwe25elejVi3+widx6bxxtJvVUP3IQpqkSLA4TD0a1ODhYnxtLmmDP+Zs5m+ryznmx9VQ/cF+Qa1MeYNY8wBY8zGwhhIRNynSkQYb9zXkvF3NOW7g6foNmEJ4xd/oxq6l3PmjHoa0MXNc4hIIfm5hr44MZ6ujSoxdvF2bp64lK+/P+rp0eQy8g1qa20acLgQZhGRQlS2RAgT7mzG1P4xHMs5R++Xl/Hs3M3knL3g6dHkd1y2R22MGWiMSTfGpGdn607KIr6iY4MKLEyM485W1XltSW4Nfblq6F7FZUFtrZ1irY2x1sZERka66suKSCEoFRrEs72jmT6wDQ4Dd01dxeMzN3AsRzV0b6CrPkTkF22uKcuCEXE8FF+LGWv30ikplZRNP3h6rCJPQS0ivxEaFMDjXesxa0gsZUuEMOidtQx9bx3ZJ854erQiy5nL8z4AVgB1jTF7jTH3u38sEfG06KrhfDosllEJdVm05Uc6JqXy8dq9qqF7gHHHH3pMTIxNT093+dcVEc/YceAkj8/cQPruI3SoXY7/9o6mWplinh7Lrxhj1lprYy71nLY+RCRf15YvwUeD2vKfng1Zt/sICePSmLZMNfTCoqAWEac4HIb+baNYmBhPy6gy/Puzzdz6ynJ2HFAN3d0U1CJSIFUiwpg2oCVjb2/CroOn6DZ+KRM/Vw3dnRTUIlJgxhh6N6vK4sR4EhpV5H8XbafHS0vZsPeop0fzSwpqEbli5UqEMPHOZrzWP4Yjp8/Sa9Iy/jtvi2roLqagFpGr1qlBBRYlxnN7y+pMSdtFl/FpLN+pGrqrKKhFpEBmZWQR+/wX1Hx8LrHPf8GsjCwgt4b+XJ9oPniwDQB3vbaK0cmZHP9JNfSrpaAWEafNyshidHImWUdzsEDW0RxGJ2f+EtYAbWuVZcHwOAbFXcOHa/bQKSmVRZt/9NzQfkBBLSJOG5OyjZxzv91/zjl3gTEp237zWFhwAKO71WfW0FhKFwvmwbfTGfb+Og6eVA39SiioRcRp+47mFOjxxlUj+Ozh9vytcx0WbsqtoSevUw29oBTUIuK0yhFhBXoccu+GPuyG2swb3p5akSVI/Ohr7ntzDXuP6G7ozlJQi4jTRiXUJSwo4DePhQUFMCqhbr6fe235kswY1JanejRkzXeH6Tw2jbeWf8dF1dDzpaAWEaf1alaF5/pEUyUiDENuS/G5PtH0albFqc93OAz3toti4cg4YqLK8K9PN3HbqyvYceCkewf3cXr1PBHxCGstyeuyeHruZk6fucDwjrUZGHcNQQFF8/xRr54nIl7HGMMtLaqyaGQ8nRpWYEzKNnq8tIzMvcc8PZrXUVCLiEdFlgxh0l3NebVfCw6dPEPPSUt5bv4WfjqnGvrPFNQi4hUSGlbMq6FX49XUXXQZl8aKnYc8PZZXUFCLiNcIDwviuT6Nef+B1ly0cOdrK3niE9XQFdQi4nXaXVuOlBFxPNihJtNX76FzUhqLi3ANXUEtIl4pLDiAv9/UgE+GxBJRLIgH3k7n4Q8yimQNXUEtIl6tSbUIPh3WnsROdViwcT+dklKZlZFVpGroCmoR8XrBgQ4eubE28x7pQM1yxRnx4XoGTFtD1mVeY8TfKKhFxGfUrlCSGQ+14183N2DVrsN0TkrlnRX+X0NXUIuITwlwGAbE1mThyDia1yjNk7M3cfuUFezM9t8auoJaRHxStTLFePsvrfifW5uw/ceTdB2/hElf7uDcBf+7G7qCWkR8ljGGvi2qsigxjo71yzMmZRs9X1rGxiz/qqErqEXE55UvGcrLd7fglXtakH3yDD0nLeP5+Vv9poauoBYRv9GlUUUWj4ynb/OqvJK6k67jl7Bql+/X0BXUIuJXwosF8ULfxrz3QGvOX7zI7VNW8vdPMjnhwzV0BbWI+KXYvBr6A+1r8sHqPXQem8YXW32zhq6gFhG/VSw4kH90b8DMwe0oGRrIX6al88gHGRzysRq6glpE/F6z6qWZ83AHRnasw/yN++mYlMrs9b5TQ1dQi0iREBzoYHjH2sx9pAM1yhZn+PT13P9WOvt8oIauoBaRIqVOhZLMHNyOJ7s3YMXOQ3Qem8Y7K3d7dQ1dQS0iRU6Aw3B/+9waetNqETw5ayN3TFnJLi+toSuoRaTIqlamGO/c34oX+zZm6w/H6TJ+CS9/5X01dAW1iBRpxhhui6nG4sR4bqxXnhcXbKPXJO+qoSuoRUSA8qVCmXxPCybf3Zwfj+fW0F9Y4B01dKeC2hjTxRizzRizwxjzuLuHEhHxlK7Rlfg8MZ5bmldh8lc76TZ+Cau/PfynnzMrI4vY57+g5uNziX3+C2ZlZLl0pnyD2hgTAEwCugINgDuNMQ1cOoWIiBcJLxbEi32b8O79rTl74SK3vbqCJ2dtvGQNfVZGFqOTM8k6moMFso7mMDo506Vh7cwZdStgh7V2l7X2LDAd6OmyCUREvFT72uVYODKOv8TW5N1Vu0kYm8aXWw/85pgxKdvI+d32SM65C4xJ2eayOZwJ6irA97/6eG/eY79hjBlojEk3xqRnZ2e7aj4REY8qFhzIP2/OraEXDwlkwLQ1jJieweFTZwEuW5hxZZHGmaA2l3jsD1eGW2unWGtjrLUxkZGRVz+ZiIgXaV69NHMeac/wG2szN/P/a+iVwkMveXzliDCXfW9ngnovUO1XH1cF9rlsAhERHxESGMDITnWY83AHqpUpxvDp6yldPJjQwN9GaVhQAKMS6rrs+zoT1GuA2saYmsaYYOAO4FOXTSAi4mPqVixJ8uB2/OOm+uzMPokFIsKCAKgSEcZzfaLp1ewPO8RXLDC/A6y1540xw4AUIAB4w1q7yWUTiIj4oACH4YEO19C5QUUeT97A8p2HaFWzDNMGtKRYcL7RWiBOfTVr7Txgnku/s4iIH6hethjvPdCaGel7Wbv7iMtDGpwMahERuTxjDLe1rMZtLavlf/AVUIVcRMTLKahFRLycglpExMspqEVEvJyCWkTEyymoRUS8nIJaRMTLKahFRLycsdb1t0g3xmQDu13+hd2jHHDQ00O4iT+vDfx7ff68NvDv9V3p2mpYay/50qNuCWpfYoxJt9bGeHoOd/DntYF/r8+f1wb+vT53rE1bHyIiXk5BLSLi5RTUMMXTA7iRP68N/Ht9/rw28O/1uXxtRX6PWkTE2+mMWkTEyymoRUS8XJEIamPMG8aYA8aYjZd5/m5jzIa8t+XGmCaFPeOVym9tvzqupTHmgjGmb2HN5grOrM8Yc50xZr0xZpMxJrUw57saTvxchhtjPjPGfJ23tgGFPeOVMsZUM8Z8aYzZkjf78EscY4wxE4wxO/L+7TX3xKxXwsn1uS5XrLV+/wbEAc2BjZd5vh1QOu/9rsAqT8/sqrXlHRMAfEHu7dT6enpmF//dRQCbgep5H5f39MwuXNsTwAt570cCh4FgT8/t5NoqAc3z3i8JbAca/O6YbsB8wABtfOzfnTPrc1muFIkzamttGrk/5Jd7frm19kjehyuBqoUymAvkt7Y8DwMzgQPun8i1nFjfXUCytXZP3vE+s0Yn1maBksYYA5TIO/Z8Ycx2tay1+6216/LePwFsAX5/W+6ewNs210ogwhhTqZBHvSLOrM+VuVIkgrqA7if3v/J+wRhTBegNvOLpWdykDlDaGPOVMWatMaa/pwdyoZeA+sA+IBMYbq296NmRCs4YEwU0A1b97qkqwPe/+ngvfwxzr/cn6/u1q8oV3dz2V4wx15P7B9re07O40DjgMWvthdwTM78TCLQAbgTCgBXGmJXW2u2eHcslEoD1wA1ALWCRMWaJtfa4R6cqAGNMCXJ/mxtxibkv9QPpU9cL57O+n4+56lxRUOcxxjQGpgJdrbWHPD2PC8UA0/NCuhzQzRhz3lo7y6NTuc5e4KC19hRwyhiTBjQhd8/Q1w0Anre5m5w7jDHfAvWA1Z4dyznGmCByQ+w9a23yJQ7ZC/z6tt1Vyf3twSc4sT6X5Yq2PgBjTHUgGejnJ2div7DW1rTWRllro4CPgSF+FNIAs4EOxphAY0wxoDW5+4X+YA+5vylgjKkA1AV2eXQiJ+Xtq78ObLHWJl3msE+B/nlXf7QBjllr9xfakFfBmfW5MleKxBm1MeYD4DqgnDFmL/AvIAjAWvsK8E+gLPBy3pnneesjr+zlxNp8Wn7rs9ZuMcYsADYAF4Gp1to/vVTRWzjxd/c0MM0Yk0nuNsFj1lpfeWnQWKAfkGmMWZ/32BNAdfhlffPIvfJjB3Ca3N8gfIUz63NZrqhCLiLi5bT1ISLi5RTUIiJeTkEtIuLlFNQiIl5OQS0i4uUU1CIiXk5BLSLi5f4P2bK3IdIKKd8AAAAASUVORK5CYII=\n",
      "text/plain": [
       "<Figure size 432x288 with 1 Axes>"
      ]
     },
     "metadata": {
      "needs_background": "light"
     },
     "output_type": "display_data"
    },
    {
     "name": "stdout",
     "output_type": "stream",
     "text": [
      "png saved\n",
      "-------------------------\n",
      "random_sequential\n",
      "\n"
     ]
    },
    {
     "data": {
      "image/png": "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\n",
      "text/plain": [
       "<Figure size 432x288 with 1 Axes>"
      ]
     },
     "metadata": {
      "needs_background": "light"
     },
     "output_type": "display_data"
    },
    {
     "name": "stdout",
     "output_type": "stream",
     "text": [
      "ok? y/n\n",
      "y\n",
      "4.293282211554769\n"
     ]
    },
    {
     "data": {
      "image/png": "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\n",
      "text/plain": [
       "<Figure size 432x288 with 1 Axes>"
      ]
     },
     "metadata": {
      "needs_background": "light"
     },
     "output_type": "display_data"
    },
    {
     "name": "stdout",
     "output_type": "stream",
     "text": [
      "png saved\n",
      "-------------------------\n",
      "remcc\n",
      "\n"
     ]
    },
    {
     "data": {
      "image/png": "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\n",
      "text/plain": [
       "<Figure size 432x288 with 1 Axes>"
      ]
     },
     "metadata": {
      "needs_background": "light"
     },
     "output_type": "display_data"
    },
    {
     "name": "stdout",
     "output_type": "stream",
     "text": [
      "ok? y/n\n",
      "y\n",
      "3.3413935333020106\n"
     ]
    },
    {
     "data": {
      "image/png": "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\n",
      "text/plain": [
       "<Figure size 432x288 with 1 Axes>"
      ]
     },
     "metadata": {
      "needs_background": "light"
     },
     "output_type": "display_data"
    },
    {
     "name": "stdout",
     "output_type": "stream",
     "text": [
      "png saved\n"
     ]
    },
    {
     "data": {
      "text/plain": [
       "{'benchmark_greedy': {'nb': array([280.,  70.,  25.,   7.,   2.,   1.]),\n",
       "  'lb': array([2., 3., 4., 5., 6., 7.])},\n",
       " 'cbb': {'nb': array([293.,  74.,  29.,  10.,   2.,   1.]),\n",
       "  'lb': array([2., 3., 4., 5., 6., 7.])},\n",
       " 'greedy': {'nb': array([282.,  69.,  27.,  10.,   2.,   1.]),\n",
       "  'lb': array([2., 3., 4., 5., 6., 7.])},\n",
       " 'merge': {'nb': array([762., 419., 221., 112.,  57.,  29.,  15.]),\n",
       "  'lb': array([1., 2., 3., 4., 5., 6., 7.])},\n",
       " 'obca': {'nb': array([259.,  57.,  24.,   8.,   2.,   1.]),\n",
       "  'lb': array([2., 3., 4., 5., 6., 7.])},\n",
       " 'fuzzy': {'nb': array([47.33297409,  3.83680293,  1.83659778,  1.41751958,  1.25516304,\n",
       "          1.17291405]),\n",
       "  'lb': array([1., 2., 3., 4., 5., 6.])},\n",
       " 'mcwr_0.75': {'nb': array([68., 10.,  2.,  1.]),\n",
       "  'lb': array([3., 5., 7., 9.])},\n",
       " 'mcwr_0.5': {'nb': array([77., 18.,  2.,  2.,  1.]),\n",
       "  'lb': array([ 3.,  5.,  7.,  9., 11.])},\n",
       " 'mcwr_0.25': {'nb': array([94., 16.,  4.,  1.]),\n",
       "  'lb': array([3., 5., 7., 9.])},\n",
       " 'memb': {'nb': array([62.,  9.,  2.,  1.]), 'lb': array([3., 5., 7., 9.])},\n",
       " 'random_sequential': {'nb': array([172.,  38.,  15.,   1.]),\n",
       "  'lb': array([3., 5., 7., 9.])},\n",
       " 'remcc': {'nb': array([116.,  36.,  15.,   3.,   2.,   1.]),\n",
       "  'lb': array([ 3.,  5.,  7.,  9., 11., 13.])}}"
      ]
     },
     "execution_count": 18,
     "metadata": {},
     "output_type": "execute_result"
    }
   ],
   "source": [
    "# demo\n",
    "\n",
    "line_net('facebook_caltech_demo')"
   ]
  },
  {
   "cell_type": "code",
   "execution_count": 19,
   "metadata": {},
   "outputs": [
    {
     "data": {
      "text/plain": [
       "{'benchmark_greedy': {'time': -1.0, 'db': 4.575182865494901},\n",
       " 'cbb': {'time': 1.4812779426574707, 'db': 3.613246547656083},\n",
       " 'greedy': {'time': 2.23728084564209, 'db': 3.586379552967162},\n",
       " 'merge': {'time': 0.9132447242736816, 'db': 2.642826730825017},\n",
       " 'obca': {'time': 2.760803699493408, 'db': 4.437165297492919},\n",
       " 'fuzzy': {'time': 2.2734084129333496, 'db': 2.023341158133419},\n",
       " 'mcwr_0.75': {'time': 1.5370147228240967, 'db': 3.941339755559179},\n",
       " 'mcwr_0.5': {'time': 1.7099878787994385, 'db': 3.4686720787982868},\n",
       " 'mcwr_0.25': {'time': 1.5733911991119385, 'db': 4.068181385803255},\n",
       " 'memb': {'time': 1.6585726737976074, 'db': 3.8414397411401167},\n",
       " 'random_sequential': {'time': 1.2716200351715088, 'db': 4.293282211554769},\n",
       " 'remcc': {'time': 1.8845863342285156, 'db': 3.3413935333020106}}"
      ]
     },
     "execution_count": 19,
     "metadata": {},
     "output_type": "execute_result"
    }
   ],
   "source": [
    "load_t_db('facebook_caltech_demo')"
   ]
  },
  {
   "cell_type": "code",
   "execution_count": 8,
   "metadata": {},
   "outputs": [],
   "source": [
    "def scrape_log_data(path,algorithm):\n",
    "    \n",
    "    exec_time,results=boxes.io.read_logfile(path)\n",
    "    \n",
    "    lb_rb=[i[0] for i in results]\n",
    "    nb=np.array([i[1] for i in results],float)\n",
    "    \n",
    "    if algorithm in algs_rb.keys():\n",
    "        lb=np.array([2*rb+1 for rb in lb_rb],float) #this is now the appropriate scaling CHANGED DUE TO CALAMITIES\n",
    "    elif algorithm=='fuzzy':\n",
    "        lb=np.array([lb_ for lb_ in lb_rb],float)\n",
    "    else:\n",
    "        lb=np.array([lb_+1 for lb_ in lb_rb],float)\n",
    "    \n",
    "    return nb,lb,exec_time\n",
    "        \n",
    "        \n",
    "    "
   ]
  },
  {
   "cell_type": "code",
   "execution_count": 9,
   "metadata": {},
   "outputs": [],
   "source": [
    "# np writeout sucks - curated data into one line by hand\n",
    "\n",
    "def scrape_log_bench_min(path,algorithm):\n",
    "    \n",
    "    results=boxes.io.read_logfile_bench(path)\n",
    "    \n",
    "    print(results)\n",
    "    \n",
    "    lb_rb=[i[0] for i in results]\n",
    "    \n",
    "    nb=np.array([min(i[1]) for i in results],float)\n",
    "    \n",
    "    if algorithm in algs_rb.keys():\n",
    "        lb=np.array([2*rb+1 for rb in lb_rb],float) #this is now the appropriate scaling CHANGED DUE TO CALAMITIES\n",
    "    elif algorithm=='fuzzy':\n",
    "        lb=np.array([lb_ for lb_ in lb_rb],float)\n",
    "    else:\n",
    "        lb=np.array([lb_+1 for lb_ in lb_rb],float)\n",
    "    \n",
    "    return nb,lb\n",
    "        \n",
    "        \n",
    "    "
   ]
  },
  {
   "cell_type": "code",
   "execution_count": 10,
   "metadata": {},
   "outputs": [],
   "source": [
    "def line_inspect(nb,lb,alg,log_path,write_to_file=True):\n",
    "    \n",
    "    mask_left=0\n",
    "    mask_right=len(lb)-1\n",
    "    \n",
    "    if alg=='merge':\n",
    "        mask_left=1 # starts with lb=0 ~ gives error\n",
    "    \n",
    "    while(1):\n",
    "        \n",
    "        if mask_right==len(lb)-1:\n",
    "            \n",
    "            try:\n",
    "                params=np.polyfit(np.log(np.array(lb)[mask_left:]),np.log(np.array(nb)[mask_left:]),deg=1)\n",
    "            except:\n",
    "                if write_to_file:\n",
    "\n",
    "                    with open(log_path+'alg_t_db.txt','a') as f:\n",
    "                        f.write('\\t'+'nan'+'\\n')\n",
    "                        \n",
    "                print('linefit caused problems '+alg+'exited without fit')\n",
    "                \n",
    "                return -1\n",
    "        else:\n",
    "\n",
    "            try:\n",
    "                params=np.polyfit(np.log(np.array(lb)[mask_left:mask_right+1])\n",
    "                              ,np.log(np.array(nb)[mask_left:mask_right+1]),deg=1)\n",
    "\n",
    "            except:\n",
    "                \n",
    "                if write_to_file:\n",
    "                    with open(log_path+'alg_t_db.txt','a') as f:\n",
    "                        f.write('\\t'+'nan'+'\\n')\n",
    "                        \n",
    "                print('linefit caused problems '+alg+'exited without fit')\n",
    "                \n",
    "                return -1\n",
    "            \n",
    "        print('-------------------------\\n'+alg+'\\n')\n",
    "        \n",
    "        plt.figure()\n",
    "        plt.scatter(np.log(np.array(lb)),np.log(np.array(nb)))\n",
    "        plt.plot([np.log(lb[mask_left]),np.log(lb[mask_right])]\n",
    "                 ,[params[0]*np.log(lb[mask_left])+params[1],params[0]*np.log(lb[mask_right])+params[1]])\n",
    "        plt.show()\n",
    "\n",
    "        print('ok? y/n')\n",
    "\n",
    "        ok=input()\n",
    "        \n",
    "        if ok=='y':\n",
    "            \n",
    "            print (-1*params[0])\n",
    "            if write_to_file:\n",
    "                with open(log_path+'alg_t_db.txt','a') as f:\n",
    "                    f.write('\\t'+str(-1*params[0])+'\\n') # alg and time exec prior to this\n",
    "\n",
    "                    plt.figure()\n",
    "                    plt.scatter(np.log(np.array(lb)),np.log(np.array(nb)))\n",
    "                    plt.plot([np.log(lb[mask_left]),np.log(lb[mask_right])]\n",
    "                             ,[params[0]*np.log(lb[mask_left])+params[1],params[0]*np.log(lb[mask_right])+params[1]])\n",
    "                    plt.savefig(log_path+'graphs/'+alg+'.png')\n",
    "                    plt.show()\n",
    "                    print('png saved')\n",
    "            else:\n",
    "                return params[0]*-1\n",
    "            \n",
    "            return 0\n",
    "            \n",
    "        else:\n",
    "            print('new mask left:')\n",
    "            mask_left=int(input())\n",
    "            print('new mask right:')\n",
    "            nmr=int(input())\n",
    "            if nmr<0:\n",
    "                mask_right=len(lb)+nmr\n",
    "            else:\n",
    "                mask_right=nmr\n",
    "#             plt.close()"
   ]
  },
  {
   "cell_type": "code",
   "execution_count": 11,
   "metadata": {},
   "outputs": [],
   "source": [
    "def path_(net,alg=None,bench=False):\n",
    "    \n",
    "    # net awaited like grid2d_20\n",
    "    \n",
    "    if alg==None:#gnerate net directory\n",
    "        \n",
    "        if 'grid' in net:\n",
    "\n",
    "            p='../../result_logs/grid2d/'+net[-2:]+'/'\n",
    "            \n",
    "            return p\n",
    "\n",
    "        else:\n",
    "            return '../../result_logs/'+net+'/'\n",
    "       \n",
    "\n",
    "    else:\n",
    "\n",
    "        if 'grid' in net:\n",
    "\n",
    "            p='../../result_logs/grid2d/'+net[-2:]+'/'+net+'_'+alg\n",
    "\n",
    "            if bench:\n",
    "\n",
    "                return p+'_benchmark.txt'\n",
    "            else:\n",
    "                return p+'.txt'\n",
    "\n",
    "        else:\n",
    "\n",
    "            if bench:\n",
    "                return '../../result_logs/'+net+'/'+net+'_'+alg+'_benchmark.txt'\n",
    "            else:\n",
    "                return '../../result_logs/'+net+'/'+net+'_'+alg+'.txt'\n"
   ]
  },
  {
   "cell_type": "code",
   "execution_count": 12,
   "metadata": {},
   "outputs": [],
   "source": [
    "def line_net(net,algs=list(algs_lb.keys())+list(algs_rb.keys())):\n",
    "             \n",
    "    os.mkdir(path_(net)+'graphs')\n",
    "             \n",
    "    results={}\n",
    "             \n",
    "    # benchmark         \n",
    "    \n",
    "    nb,lb=scrape_log_bench_min(path_(net,'greedy',True),'greedy')\n",
    "    \n",
    "    results['benchmark_greedy']={'nb':nb,'lb':lb}\n",
    "    \n",
    "    with open(path_(net,None,False)+'alg_t_db.txt','a') as f:\n",
    "             f.write('benchmark_greedy'+'\\t'+'-1')\n",
    "            \n",
    "    line_inspect(nb,lb,'benchmark_greedy',path_(net,None,False))\n",
    "\n",
    "    for alg in algs:\n",
    "        nb,lb,exec_time=scrape_log_data(path_(net,alg,False),alg)\n",
    "        results[alg]={'nb':nb,'lb':lb}     \n",
    "             \n",
    "        with open(path_(net,None,False)+'alg_t_db.txt','a') as f:\n",
    "             f.write(alg+'\\t'+str(exec_time))\n",
    "             \n",
    "        line_inspect(nb,lb,alg,path_(net,None,False))\n",
    "    \n",
    "    return results\n",
    "        \n",
    "        "
   ]
  },
  {
   "cell_type": "code",
   "execution_count": 13,
   "metadata": {},
   "outputs": [],
   "source": [
    "def line_net2(net,algs=list(algs_lb.keys())+list(algs_rb.keys())):\n",
    "             \n",
    "    \n",
    "    results={}\n",
    "             \n",
    "    # benchmark         \n",
    "    \n",
    "    nb,lb=scrape_log_bench_min(path_(net,'greedy',True),'greedy')\n",
    "    \n",
    "    results['benchmark_greedy']={'nb':nb,'lb':lb}\n",
    "    \n",
    "# this part remained inside - only bench append - manually deleted    \n",
    "#     with open(path_(net,None,False)+'alg_t_db.txt','a') as f:\n",
    "#              f.write('benchmark_greedy'+'\\t'+'-1')\n",
    "\n",
    "            \n",
    "\n",
    "    for alg in algs:\n",
    "        nb,lb,exec_time=scrape_log_data(path_(net,alg,False),alg)\n",
    "        results[alg]={'nb':nb,'lb':lb}     \n",
    "        \n",
    "    return results\n",
    "        \n",
    "        "
   ]
  },
  {
   "cell_type": "code",
   "execution_count": 16,
   "metadata": {},
   "outputs": [],
   "source": [
    "def load_t_db(net):\n",
    "    d={}\n",
    "    \n",
    "    with open(path_(net)+'alg_t_db.txt') as f:\n",
    "        for line in f:\n",
    "            tmp=line.split('\\t')\n",
    "            d[tmp[0]]={'time':float(tmp[1]),'db':float(tmp[2])}\n",
    "            \n",
    "    return d\n",
    "    "
   ]
  },
  {
   "cell_type": "markdown",
   "metadata": {},
   "source": [
    "## All below is not part of the tutorial, you may not want to read it."
   ]
  },
  {
   "cell_type": "code",
   "execution_count": 14,
   "metadata": {
    "scrolled": true
   },
   "outputs": [],
   "source": [
    "networks.remove('grid2d')"
   ]
  },
  {
   "cell_type": "code",
   "execution_count": 15,
   "metadata": {},
   "outputs": [],
   "source": [
    "for n in [20,30,40,50]:\n",
    "    networks.append('grid2d_'+str(n))"
   ]
  },
  {
   "cell_type": "code",
   "execution_count": null,
   "metadata": {},
   "outputs": [],
   "source": [
    "import pickle\n"
   ]
  },
  {
   "cell_type": "code",
   "execution_count": null,
   "metadata": {
    "scrolled": true
   },
   "outputs": [],
   "source": [
    "for net in networks:\n",
    "    if '.pkl' in net:\n",
    "        continue\n",
    "    else:\n",
    "        data[net]=line_net2(net)"
   ]
  },
  {
   "cell_type": "code",
   "execution_count": null,
   "metadata": {},
   "outputs": [],
   "source": [
    "# f= open('../../result_logs/alldata.pkl','wb')\n",
    "# pickle.dump(data,f)"
   ]
  },
  {
   "cell_type": "code",
   "execution_count": null,
   "metadata": {},
   "outputs": [],
   "source": [
    "# f.close()"
   ]
  },
  {
   "cell_type": "code",
   "execution_count": null,
   "metadata": {},
   "outputs": [],
   "source": [
    "b_data={}"
   ]
  },
  {
   "cell_type": "code",
   "execution_count": null,
   "metadata": {},
   "outputs": [],
   "source": [
    "with open('../../result_logs/alldata.pkl','rb') as f:\n",
    "    b_data=pickle.load(f)"
   ]
  },
  {
   "cell_type": "code",
   "execution_count": null,
   "metadata": {},
   "outputs": [],
   "source": [
    "b_data"
   ]
  },
  {
   "cell_type": "code",
   "execution_count": null,
   "metadata": {},
   "outputs": [],
   "source": []
  },
  {
   "cell_type": "code",
   "execution_count": null,
   "metadata": {},
   "outputs": [],
   "source": [
    "plt.figure()\n",
    "for alg in b_data['uv_22_g5'].keys():\n",
    "    plt.scatter(b_data['uv_22_g5'][alg]['lb'],b_data['uv_22_g5'][alg]['nb'])\n",
    "    plt.xscale('log')\n",
    "    plt.yscale('log')\n",
    "plt.show()"
   ]
  },
  {
   "cell_type": "code",
   "execution_count": null,
   "metadata": {},
   "outputs": [],
   "source": [
    "t_db={}\n",
    "\n",
    "for net in networks:\n",
    "    if not '.pkl' in net:\n",
    "        t_db[net]=load_t_db(net)"
   ]
  },
  {
   "cell_type": "code",
   "execution_count": null,
   "metadata": {
    "scrolled": true
   },
   "outputs": [],
   "source": [
    "for net in t_db.keys():\n",
    "    plt.figure()\n",
    "    plt.scatter([t_db[net][alg]['time'] for alg in t_db[net].keys()],\n",
    "               [t_db[net][alg]['db'] for alg in t_db[net].keys()])\n",
    "    plt.scatter(t_db[net]['obca']['time'],\n",
    "               t_db[net]['obca']['db'])\n",
    "    plt.title(net)\n",
    "    plt.show()"
   ]
  },
  {
   "cell_type": "code",
   "execution_count": null,
   "metadata": {
    "scrolled": true
   },
   "outputs": [],
   "source": [
    "for net in t_db.keys():\n",
    "    plt.figure()\n",
    "    plt.scatter([t_db[net][alg]['time'] for alg in ['greedy','obca','cbb']],\n",
    "               [t_db[net][alg]['db'] for alg in ['greedy','obca','cbb']])\n",
    "    plt.title(net)\n",
    "    plt.show()"
   ]
  },
  {
   "cell_type": "markdown",
   "metadata": {},
   "source": [
    "### Abstract style data from Marcell Nagy"
   ]
  },
  {
   "cell_type": "code",
   "execution_count": null,
   "metadata": {},
   "outputs": [],
   "source": [
    "orig_nb=pd.read_excel('../../nm_results/nb_data.xlsx')"
   ]
  },
  {
   "cell_type": "code",
   "execution_count": null,
   "metadata": {},
   "outputs": [],
   "source": [
    "plt.figure()\n",
    "plt.scatter(orig_nb['Unnamed: 0'],orig_nb['greedy'])\n",
    "plt.xscale('log')\n",
    "plt.yscale('log')\n",
    "plt.show()"
   ]
  },
  {
   "cell_type": "code",
   "execution_count": null,
   "metadata": {
    "scrolled": true
   },
   "outputs": [],
   "source": [
    "for alg in orig_nb.columns:\n",
    "\n",
    "    if alg=='Unnamed: 0' or alg=='fuzzy':\n",
    "        continue\n",
    "        \n",
    "    \n",
    "    line_inspect(np.array(orig_nb[alg][1:-1],dtype=float),\n",
    "                 np.array(orig_nb['Unnamed: 0'][1:-1],dtype=float)\n",
    "                 ,alg,0,False)"
   ]
  },
  {
   "cell_type": "code",
   "execution_count": null,
   "metadata": {},
   "outputs": [],
   "source": [
    "np.array(orig_nb['Unnamed: 0'][:-1],dtype=float)"
   ]
  },
  {
   "cell_type": "code",
   "execution_count": null,
   "metadata": {
    "scrolled": true
   },
   "outputs": [],
   "source": [
    "orig_nb.greedy.values.reshape(-1,1)"
   ]
  },
  {
   "cell_type": "code",
   "execution_count": null,
   "metadata": {},
   "outputs": [],
   "source": [
    "from sklearn.linear_model import LinearRegression\n",
    "from scipy.optimize import curve_fit"
   ]
  },
  {
   "cell_type": "code",
   "execution_count": null,
   "metadata": {},
   "outputs": [],
   "source": [
    "def estimate_dim_lin_reg(algorithm,data):\n",
    "    dat = data[['Unnamed: 0',algorithm]].dropna().copy()\n",
    "    dat['Unnamed: 0'] = dat['Unnamed: 0'] + 1\n",
    "    dat['log_lB'], dat['log_Nb'] = np.log(dat['Unnamed: 0']), np.log(dat[algorithm])\n",
    "    Xdat = dat['Unnamed: 0'].values\n",
    "    ydat = dat[algorithm].values\n",
    "    X = dat.log_lB.values.reshape(-1,1)\n",
    "    y = dat.log_Nb.values\n",
    "    X=X[1:]\n",
    "#         Xdat=Xdat[1:]\n",
    "    y=y[1:]\n",
    "    p=[1,-1]\n",
    "    if algorithm =='fuzzy':\n",
    "        X=X[1:]\n",
    "#         Xdat=Xdat[1:]\n",
    "        y=y[1:]\n",
    "#         ydat=ydat[1:]\n",
    "#         print(X)\n",
    "        p=[1,1]\n",
    "    \n",
    "    reg = LinearRegression().fit(X, y)\n",
    "    \n",
    "    plt.figure()\n",
    "    plt.scatter(X,y)\n",
    "    plt.plot(X,reg.predict(X))\n",
    "    plt.show()\n",
    "    \n",
    "    \n",
    "    def func(x_input, a, b):\n",
    "        return a*x_input**(-b)\n",
    "    \n",
    "    popt, pcov = curve_fit(func, Xdat, ydat)\n",
    "    return  reg.coef_ #, popt"
   ]
  },
  {
   "cell_type": "code",
   "execution_count": null,
   "metadata": {},
   "outputs": [],
   "source": [
    "estimate_dim_lin_reg('greedy',orig_nb)"
   ]
  },
  {
   "cell_type": "code",
   "execution_count": null,
   "metadata": {},
   "outputs": [],
   "source": [
    "reg=LinearRegression().fit(np.log(np.array(orig_nb['Unnamed: 0'][1:],float)).reshape(-1,1),\n",
    "                           np.log(np.array(orig_nb['greedy'][1:],float).reshape(-1,1)))"
   ]
  },
  {
   "cell_type": "code",
   "execution_count": null,
   "metadata": {},
   "outputs": [],
   "source": [
    "reg.coef_"
   ]
  },
  {
   "cell_type": "code",
   "execution_count": null,
   "metadata": {
    "scrolled": true
   },
   "outputs": [],
   "source": [
    "for alg in orig_nb.columns:\n",
    "\n",
    "    if alg=='Unnamed: 0' or alg=='fuzzy':\n",
    "        continue\n",
    "        \n",
    "    \n",
    "    line_inspect(np.array(orig_nb[alg][1:-1],dtype=float),\n",
    "                 np.array(orig_nb['Unnamed: 0'][1:-1],dtype=float)\n",
    "                 ,alg,0,False)y\n",
    "    \n",
    "    y\n",
    "    y\n",
    "    y"
   ]
  },
  {
   "cell_type": "code",
   "execution_count": null,
   "metadata": {},
   "outputs": [],
   "source": [
    "b_data"
   ]
  },
  {
   "cell_type": "code",
   "execution_count": null,
   "metadata": {
    "scrolled": true
   },
   "outputs": [],
   "source": [
    "b_data['shm_gmxe_4220']"
   ]
  },
  {
   "cell_type": "code",
   "execution_count": null,
   "metadata": {},
   "outputs": [],
   "source": [
    "reg=LinearRegression().fit(np.log(b_data['shm_gmxe_4220']['greedy']['lb']+1).reshape(-1,1),\n",
    "                           np.log(b_data['shm_gmxe_4220']['greedy']['nb']).reshape(-1,1))"
   ]
  },
  {
   "cell_type": "code",
   "execution_count": null,
   "metadata": {},
   "outputs": [],
   "source": [
    "reg.coef_"
   ]
  },
  {
   "cell_type": "code",
   "execution_count": null,
   "metadata": {},
   "outputs": [],
   "source": [
    "reg=LinearRegression().fit(np.log(b_data['uv_24_g4']['greedy']['lb']+1).reshape(-1,1),\n",
    "                           np.log(b_data['uv_24_g4']['greedy']['nb']).reshape(-1,1))"
   ]
  },
  {
   "cell_type": "code",
   "execution_count": null,
   "metadata": {},
   "outputs": [],
   "source": [
    "reg.coef_"
   ]
  },
  {
   "cell_type": "code",
   "execution_count": null,
   "metadata": {},
   "outputs": [],
   "source": [
    "etwork=boxes.network(boxes.generators.uv_flower(2,4,4))"
   ]
  },
  {
   "cell_type": "code",
   "execution_count": null,
   "metadata": {},
   "outputs": [],
   "source": [
    "etwork.diameter"
   ]
  },
  {
   "cell_type": "markdown",
   "metadata": {},
   "source": [
    "# After +1 remedy,  by hand"
   ]
  },
  {
   "cell_type": "code",
   "execution_count": null,
   "metadata": {},
   "outputs": [],
   "source": [
    "line_net('uv_22_g5')"
   ]
  },
  {
   "cell_type": "code",
   "execution_count": null,
   "metadata": {},
   "outputs": [],
   "source": [
    "load_t_db('uv_22_g5')#FUZZY BAD"
   ]
  },
  {
   "cell_type": "code",
   "execution_count": null,
   "metadata": {},
   "outputs": [],
   "source": [
    "line_net('uv_24_g4')"
   ]
  },
  {
   "cell_type": "code",
   "execution_count": null,
   "metadata": {},
   "outputs": [],
   "source": [
    "load_t_db('uv_24_g4')#FUZZY BAD"
   ]
  },
  {
   "cell_type": "code",
   "execution_count": null,
   "metadata": {
    "scrolled": true
   },
   "outputs": [],
   "source": [
    "line_net('shm_gmxe_4220')"
   ]
  },
  {
   "cell_type": "code",
   "execution_count": null,
   "metadata": {},
   "outputs": [],
   "source": [
    "load_t_db('shm_gmxe_4220') #FUZZY BAD"
   ]
  },
  {
   "cell_type": "code",
   "execution_count": null,
   "metadata": {},
   "outputs": [],
   "source": [
    "help(path_)"
   ]
  },
  {
   "cell_type": "code",
   "execution_count": null,
   "metadata": {},
   "outputs": [],
   "source": [
    "path_('uv_24_g5')"
   ]
  },
  {
   "cell_type": "code",
   "execution_count": null,
   "metadata": {},
   "outputs": [],
   "source": [
    "help(boxes.io.run_boxing)"
   ]
  },
  {
   "cell_type": "code",
   "execution_count": 11,
   "metadata": {},
   "outputs": [],
   "source": [
    "def boxing_all(network,net,lb,rb):\n",
    "\n",
    "    \n",
    "    start=time.time()\n",
    "    network.get_dist_dict()\n",
    "    time_offset=time.time()-start\n",
    "    \n",
    "    boxes.io.benchmark({'path':path_(net),'net':net,'alg':'greedy'},\n",
    "                            network,\n",
    "                            lb,                         # box sizes - merge only needs max\n",
    "                           boxes.greedy_coloring, # set algorithm\n",
    "                            10,\n",
    "                           **algs_lb['greedy']['kwargs'])\n",
    "    \n",
    "    \n",
    "    for algorithm in algs_lb.keys():\n",
    "\n",
    "        random.seed(137)  #reproducibility\n",
    "        np.random.seed(137)\n",
    "\n",
    "\n",
    "        if algorithm!='merge'and algorithm!='fuzzy':\n",
    "\n",
    "            boxes.io.run_boxing({'path':path_(net),'net':net,'alg':algorithm},\n",
    "                               time_offset,\n",
    "                                network,\n",
    "                                lb,                         # box sizes\n",
    "                               algs_lb[algorithm]['alg'],      # set algorithm\n",
    "                               **algs_lb[algorithm]['kwargs']) # unpack keyword arguments\n",
    "        elif algorithm=='merge':\n",
    "\n",
    "            network.shortest_paths=None # merge doesn't use distance dict - would give false overhead\n",
    "            gc.collect()\n",
    "\n",
    "            new_start=time.time()\n",
    "            network.shortest_paths = dict(nx.all_pairs_shortest_path_length(network.graph))\n",
    "            new_offset=time.time()-new_start\n",
    "\n",
    "            boxes.io.run_boxing({'path':path_(net),'net':net,'alg':algorithm},\n",
    "                               new_offset,\n",
    "                                network,\n",
    "                                lb[-1],                         # box sizes - merge only needs max\n",
    "                               algs_lb[algorithm]['alg'], # set algorithm\n",
    "                                merge_alg=True,\n",
    "                               **algs_lb[algorithm]['kwargs']) \n",
    "        else:\n",
    "            network.shortest_paths=None # fuzzy doesn't use distance dict - would give false overhead\n",
    "            gc.collect()\n",
    "\n",
    "            new_start=time.time()\n",
    "            network.shortest_paths = dict(nx.all_pairs_shortest_path_length(network.graph))\n",
    "            new_offset=time.time()-new_start\n",
    "\n",
    "            boxes.io.run_boxing({'path':path_(net),'net':net,'alg':algorithm},\n",
    "                               new_offset,\n",
    "                                network,\n",
    "                                lb,                         # box sizes - merge only needs max\n",
    "                               algs_lb[algorithm]['alg'], # set algorithm\n",
    "                               **algs_lb[algorithm]['kwargs']) \n",
    "\n",
    "\n",
    "    for algorithm in algs_rb.keys():\n",
    "        \n",
    "        random.seed(137)  #reproducibility\n",
    "        np.random.seed(137)\n",
    "        \n",
    "        if algorithm!='merge':\n",
    "            boxes.io.run_boxing({'path':path_(net),'net':net,'alg':algorithm},\n",
    "                               time_offset,\n",
    "                                network,\n",
    "                                rb,                         # box sizes\n",
    "                               algs_rb[algorithm]['alg'],      # set algorithm\n",
    "                               **algs_rb[algorithm]['kwargs'])"
   ]
  },
  {
   "cell_type": "code",
   "execution_count": null,
   "metadata": {},
   "outputs": [],
   "source": [
    "os.mkdir('../../result_logs/uv_23_g4')\n",
    "network=boxes.network(boxes.generators.uv_flower(2,3,4))\n",
    "\n",
    "network.diameter"
   ]
  },
  {
   "cell_type": "code",
   "execution_count": null,
   "metadata": {},
   "outputs": [],
   "source": [
    "boxing_all(network,'uv_23_g4',range(1,27,2),range(1,27,1))"
   ]
  },
  {
   "cell_type": "code",
   "execution_count": null,
   "metadata": {
    "scrolled": true
   },
   "outputs": [],
   "source": [
    "line_net('uv_23_g4')"
   ]
  },
  {
   "cell_type": "code",
   "execution_count": null,
   "metadata": {},
   "outputs": [],
   "source": [
    "d4=load_t_db('uv_23_g4') #FUZZY BAD"
   ]
  },
  {
   "cell_type": "code",
   "execution_count": null,
   "metadata": {},
   "outputs": [],
   "source": [
    "os.mkdir('../../result_logs/uv_23_g5')\n",
    "network=boxes.network(boxes.generators.uv_flower(2,3,5))\n",
    "\n",
    "network.diameter"
   ]
  },
  {
   "cell_type": "code",
   "execution_count": null,
   "metadata": {},
   "outputs": [],
   "source": [
    "boxing_all(network,'uv_23_g5',range(1,55,2),range(1,55,1))"
   ]
  },
  {
   "cell_type": "code",
   "execution_count": null,
   "metadata": {
    "scrolled": true
   },
   "outputs": [],
   "source": [
    "line_net('uv_23_g5')"
   ]
  },
  {
   "cell_type": "code",
   "execution_count": null,
   "metadata": {},
   "outputs": [],
   "source": [
    "d5=load_t_db('uv_23_g5') #FUZZY BAD"
   ]
  },
  {
   "cell_type": "code",
   "execution_count": null,
   "metadata": {
    "scrolled": true
   },
   "outputs": [],
   "source": [
    "for k in d4:\n",
    "    print(k)\n",
    "    print(d4[k])\n",
    "    print(d5[k])"
   ]
  },
  {
   "cell_type": "code",
   "execution_count": 13,
   "metadata": {},
   "outputs": [
    {
     "data": {
      "text/plain": [
       "111"
      ]
     },
     "execution_count": 13,
     "metadata": {},
     "output_type": "execute_result"
    }
   ],
   "source": [
    "os.mkdir('../../result_logs/uv_23_g6')\n",
    "network=boxes.network(boxes.generators.uv_flower(2,3,6))\n",
    "\n",
    "network.diameter"
   ]
  },
  {
   "cell_type": "code",
   "execution_count": 14,
   "metadata": {},
   "outputs": [
    {
     "ename": "MemoryError",
     "evalue": "",
     "output_type": "error",
     "traceback": [
      "\u001b[0;31m---------------------------------------------------------------------------\u001b[0m",
      "\u001b[0;31mMemoryError\u001b[0m                               Traceback (most recent call last)",
      "\u001b[0;32m<ipython-input-14-a56cd15f4232>\u001b[0m in \u001b[0;36m<module>\u001b[0;34m\u001b[0m\n\u001b[0;32m----> 1\u001b[0;31m \u001b[0mboxing_all\u001b[0m\u001b[0;34m(\u001b[0m\u001b[0mnetwork\u001b[0m\u001b[0;34m,\u001b[0m\u001b[0;34m'uv_23_g5'\u001b[0m\u001b[0;34m,\u001b[0m\u001b[0mrange\u001b[0m\u001b[0;34m(\u001b[0m\u001b[0;36m1\u001b[0m\u001b[0;34m,\u001b[0m\u001b[0;36m111\u001b[0m\u001b[0;34m,\u001b[0m\u001b[0;36m4\u001b[0m\u001b[0;34m)\u001b[0m\u001b[0;34m,\u001b[0m\u001b[0mrange\u001b[0m\u001b[0;34m(\u001b[0m\u001b[0;36m1\u001b[0m\u001b[0;34m,\u001b[0m\u001b[0;36m111\u001b[0m\u001b[0;34m,\u001b[0m\u001b[0;36m2\u001b[0m\u001b[0;34m)\u001b[0m\u001b[0;34m)\u001b[0m\u001b[0;34m\u001b[0m\u001b[0;34m\u001b[0m\u001b[0m\n\u001b[0m",
      "\u001b[0;32m<ipython-input-11-ace0255edb23>\u001b[0m in \u001b[0;36mboxing_all\u001b[0;34m(network, net, lb, rb)\u001b[0m\n\u001b[1;32m      3\u001b[0m \u001b[0;34m\u001b[0m\u001b[0m\n\u001b[1;32m      4\u001b[0m     \u001b[0mstart\u001b[0m\u001b[0;34m=\u001b[0m\u001b[0mtime\u001b[0m\u001b[0;34m.\u001b[0m\u001b[0mtime\u001b[0m\u001b[0;34m(\u001b[0m\u001b[0;34m)\u001b[0m\u001b[0;34m\u001b[0m\u001b[0;34m\u001b[0m\u001b[0m\n\u001b[0;32m----> 5\u001b[0;31m     \u001b[0mnetwork\u001b[0m\u001b[0;34m.\u001b[0m\u001b[0mget_dist_dict\u001b[0m\u001b[0;34m(\u001b[0m\u001b[0;34m)\u001b[0m\u001b[0;34m\u001b[0m\u001b[0;34m\u001b[0m\u001b[0m\n\u001b[0m\u001b[1;32m      6\u001b[0m     \u001b[0mtime_offset\u001b[0m\u001b[0;34m=\u001b[0m\u001b[0mtime\u001b[0m\u001b[0;34m.\u001b[0m\u001b[0mtime\u001b[0m\u001b[0;34m(\u001b[0m\u001b[0;34m)\u001b[0m\u001b[0;34m-\u001b[0m\u001b[0mstart\u001b[0m\u001b[0;34m\u001b[0m\u001b[0;34m\u001b[0m\u001b[0m\n\u001b[1;32m      7\u001b[0m \u001b[0;34m\u001b[0m\u001b[0m\n",
      "\u001b[0;32m~/Desktop/box/code/new_structure/boxes/network.py\u001b[0m in \u001b[0;36mget_dist_dict\u001b[0;34m(self)\u001b[0m\n\u001b[1;32m     36\u001b[0m             \u001b[0;31m# for every node as a key, we have a dict with the node:min_dist pairs\u001b[0m\u001b[0;34m\u001b[0m\u001b[0;34m\u001b[0m\u001b[0;34m\u001b[0m\u001b[0m\n\u001b[1;32m     37\u001b[0m \u001b[0;34m\u001b[0m\u001b[0m\n\u001b[0;32m---> 38\u001b[0;31m             \u001b[0mself\u001b[0m\u001b[0;34m.\u001b[0m\u001b[0mshortest_paths\u001b[0m \u001b[0;34m=\u001b[0m \u001b[0mdict\u001b[0m\u001b[0;34m(\u001b[0m\u001b[0mnx\u001b[0m\u001b[0;34m.\u001b[0m\u001b[0mall_pairs_shortest_path_length\u001b[0m\u001b[0;34m(\u001b[0m\u001b[0mgraph\u001b[0m\u001b[0;34m)\u001b[0m\u001b[0;34m)\u001b[0m\u001b[0;34m\u001b[0m\u001b[0;34m\u001b[0m\u001b[0m\n\u001b[0m\u001b[1;32m     39\u001b[0m \u001b[0;34m\u001b[0m\u001b[0m\n\u001b[1;32m     40\u001b[0m \u001b[0;34m\u001b[0m\u001b[0m\n",
      "\u001b[0;32m~/anaconda3/envs/box/lib/python3.8/site-packages/networkx/algorithms/shortest_paths/unweighted.py\u001b[0m in \u001b[0;36mall_pairs_shortest_path_length\u001b[0;34m(G, cutoff)\u001b[0m\n\u001b[1;32m    182\u001b[0m     \u001b[0;31m# TODO This can be trivially parallelized.\u001b[0m\u001b[0;34m\u001b[0m\u001b[0;34m\u001b[0m\u001b[0;34m\u001b[0m\u001b[0m\n\u001b[1;32m    183\u001b[0m     \u001b[0;32mfor\u001b[0m \u001b[0mn\u001b[0m \u001b[0;32min\u001b[0m \u001b[0mG\u001b[0m\u001b[0;34m:\u001b[0m\u001b[0;34m\u001b[0m\u001b[0;34m\u001b[0m\u001b[0m\n\u001b[0;32m--> 184\u001b[0;31m         \u001b[0;32myield\u001b[0m \u001b[0;34m(\u001b[0m\u001b[0mn\u001b[0m\u001b[0;34m,\u001b[0m \u001b[0mlength\u001b[0m\u001b[0;34m(\u001b[0m\u001b[0mG\u001b[0m\u001b[0;34m,\u001b[0m \u001b[0mn\u001b[0m\u001b[0;34m,\u001b[0m \u001b[0mcutoff\u001b[0m\u001b[0;34m=\u001b[0m\u001b[0mcutoff\u001b[0m\u001b[0;34m)\u001b[0m\u001b[0;34m)\u001b[0m\u001b[0;34m\u001b[0m\u001b[0;34m\u001b[0m\u001b[0m\n\u001b[0m\u001b[1;32m    185\u001b[0m \u001b[0;34m\u001b[0m\u001b[0m\n\u001b[1;32m    186\u001b[0m \u001b[0;34m\u001b[0m\u001b[0m\n",
      "\u001b[0;32m~/anaconda3/envs/box/lib/python3.8/site-packages/networkx/algorithms/shortest_paths/unweighted.py\u001b[0m in \u001b[0;36msingle_source_shortest_path_length\u001b[0;34m(G, source, cutoff)\u001b[0m\n\u001b[1;32m     57\u001b[0m         \u001b[0mcutoff\u001b[0m \u001b[0;34m=\u001b[0m \u001b[0mfloat\u001b[0m\u001b[0;34m(\u001b[0m\u001b[0;34m\"inf\"\u001b[0m\u001b[0;34m)\u001b[0m\u001b[0;34m\u001b[0m\u001b[0;34m\u001b[0m\u001b[0m\n\u001b[1;32m     58\u001b[0m     \u001b[0mnextlevel\u001b[0m \u001b[0;34m=\u001b[0m \u001b[0;34m{\u001b[0m\u001b[0msource\u001b[0m\u001b[0;34m:\u001b[0m \u001b[0;36m1\u001b[0m\u001b[0;34m}\u001b[0m\u001b[0;34m\u001b[0m\u001b[0;34m\u001b[0m\u001b[0m\n\u001b[0;32m---> 59\u001b[0;31m     \u001b[0;32mreturn\u001b[0m \u001b[0mdict\u001b[0m\u001b[0;34m(\u001b[0m\u001b[0m_single_shortest_path_length\u001b[0m\u001b[0;34m(\u001b[0m\u001b[0mG\u001b[0m\u001b[0;34m.\u001b[0m\u001b[0madj\u001b[0m\u001b[0;34m,\u001b[0m \u001b[0mnextlevel\u001b[0m\u001b[0;34m,\u001b[0m \u001b[0mcutoff\u001b[0m\u001b[0;34m)\u001b[0m\u001b[0;34m)\u001b[0m\u001b[0;34m\u001b[0m\u001b[0;34m\u001b[0m\u001b[0m\n\u001b[0m\u001b[1;32m     60\u001b[0m \u001b[0;34m\u001b[0m\u001b[0m\n\u001b[1;32m     61\u001b[0m \u001b[0;34m\u001b[0m\u001b[0m\n",
      "\u001b[0;31mMemoryError\u001b[0m: "
     ]
    }
   ],
   "source": [
    "boxing_all(network,'uv_23_g5',range(1,111,4),range(1,111,2))"
   ]
  },
  {
   "cell_type": "code",
   "execution_count": 15,
   "metadata": {},
   "outputs": [
    {
     "data": {
      "text/plain": [
       "28"
      ]
     },
     "execution_count": 15,
     "metadata": {},
     "output_type": "execute_result"
    }
   ],
   "source": [
    "gc.collect()"
   ]
  },
  {
   "cell_type": "code",
   "execution_count": null,
   "metadata": {},
   "outputs": [],
   "source": []
  }
 ],
 "metadata": {
  "kernelspec": {
   "display_name": "Python 3",
   "language": "python",
   "name": "python3"
  },
  "language_info": {
   "codemirror_mode": {
    "name": "ipython",
    "version": 3
   },
   "file_extension": ".py",
   "mimetype": "text/x-python",
   "name": "python",
   "nbconvert_exporter": "python",
   "pygments_lexer": "ipython3",
   "version": "3.8.2"
  }
 },
 "nbformat": 4,
 "nbformat_minor": 4
}
