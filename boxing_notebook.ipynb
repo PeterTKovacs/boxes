{
 "cells": [
  {
   "cell_type": "markdown",
   "metadata": {},
   "source": [
    "## Performing box covering with _boxes_"
   ]
  },
  {
   "cell_type": "markdown",
   "metadata": {},
   "source": [
    "This notebook contains the advisable workflow of using the __boxes__ package for performing box covering.\n",
    "\n",
    "We will mostly rely on the builtin functions but due to the memory-intensiveness of the computing tasks, we will have to use the __resource__ and __gc__ packages."
   ]
  },
  {
   "cell_type": "code",
   "execution_count": 1,
   "metadata": {},
   "outputs": [],
   "source": [
    "import os\n",
    "import networkx as nx\n",
    "import copy\n",
    "import resource\n",
    "import boxes\n",
    "import gc\n",
    "import time\n",
    "import random\n",
    "import numpy as np"
   ]
  },
  {
   "cell_type": "code",
   "execution_count": 2,
   "metadata": {},
   "outputs": [],
   "source": [
    "import matplotlib.pyplot as plt\n"
   ]
  },
  {
   "cell_type": "code",
   "execution_count": 3,
   "metadata": {},
   "outputs": [],
   "source": [
    "resource.setrlimit(resource.RLIMIT_AS, (int(4e9),int(4e9))) # control memory usage, in bytes"
   ]
  },
  {
   "cell_type": "markdown",
   "metadata": {},
   "source": [
    "The real-world networks are stored in the _networks_ directory."
   ]
  },
  {
   "cell_type": "code",
   "execution_count": null,
   "metadata": {
    "scrolled": true
   },
   "outputs": [],
   "source": [
    "help(np.logspace)"
   ]
  },
  {
   "cell_type": "code",
   "execution_count": null,
   "metadata": {},
   "outputs": [],
   "source": [
    "for s in os.listdir('../../networks'):\n",
    "    if not 'zip' in s:\n",
    "        print(s)"
   ]
  },
  {
   "cell_type": "markdown",
   "metadata": {},
   "source": [
    "From these, ca_collab is directed, inf_usair97 weighted, so won't be used.\n",
    "\n",
    "The mouse brain data has diameter 2: irrelevant."
   ]
  },
  {
   "cell_type": "markdown",
   "metadata": {},
   "source": [
    "This is where log files will be stored with all relevant data regarding the boxing."
   ]
  },
  {
   "cell_type": "markdown",
   "metadata": {},
   "source": [
    "#### There are unfortunately many parameters that we will treat as keyword arguments\n",
    "This is a cheat sheet for every implemented algorithm:\n",
    "\n",
    "As a rule of thumb, _boxing=True_ means that only the box no. is returned.\n",
    "\n",
    "The majority of implemented algorithms works on undirected, connected graphs, meaning that we only accept undirected networks and extract their largest component.\n",
    "\n",
    "+ __greedy_coloring__: greedy_coloring(network, lb, boxing=False, pso_position=False, strategy='random_sequential')\n",
    "\n",
    "set boxing True, otherwise OK to have default keyword args\n",
    "+ __cbb__: (network, lb, boxing=False)\n",
    "\n",
    "\n",
    "+ __differential_evolution__: differential_evolution(network, lb, num_p=15, big_f=0.9, cr=0.85, gn=15, boxing=False, dual_new=False)\n",
    "looks OK for unconnected graphs\n",
    "\n",
    "meaning of parameters: \"$k_1$ gives the approximate number of nodes moved in (i), $k_2$ is the number of maximally created new clusters (made up of one node), $k_3$ is the number of outer cycles - in every iteration, the temperature is decreased as specified by _cc_.\" \n",
    "These are only rough meanings, for more refer to the docs.\n",
    "+ __mcwr__: mcwr(network, rb, p=1, boxing=False)\n",
    "\n",
    "may work to unconnected graphs!\n",
    "_p_ denotes the probability of choosing the MEMB branch istead of random centres.\n",
    "+ __memb__: memb(network, rb, boxing=False)\n",
    "\n",
    "may work on unconnected graphs too!\n",
    "+ __merge_algorithm__: merge_algorithm(network, lb_max,return_for_sa=False, boxing=False, measure_time=True)\n",
    "\n",
    "\n",
    "advisable: _boxing=True_, everyone else _False_\n",
    "+ __random_sequential__: random_sequential(network, rb, boxing=False)\n",
    "\n",
    "works with unconnected graphs\n",
    "+ __remcc__: remcc(network, rb, return_centres=True)\n",
    "\n",
    "\n",
    "+ __simulated_annealing__: simulated_annealing(network, lb, k1=20, k2=2, k3=15, temp=0.6, cc=0.995)\n",
    "\n",
    "+ __pso__: pso(network, lb, gmax=5, pop=5, c1=1.494, c2=1.494, boxing=False)\n",
    "\n",
    "+ __obca__: obca(network, lb, boxing=False)\n",
    "\n",
    "+ __fuzzy__: fuzzy(network, lb, boxing=True)\n",
    "\n"
   ]
  },
  {
   "cell_type": "code",
   "execution_count": 12,
   "metadata": {},
   "outputs": [],
   "source": [
    "def generate_lb(path):\n",
    "    \n",
    "    # purpose: after doing boxing with rb algs, we  want to select lb such that the curated lb's match\n",
    "    \n",
    "    exec_time, lb_nb=boxes.io_.canonized_lb_bench(path,'memb')\n",
    "    \n",
    "    lb_feed=[]\n",
    "    lb_feed.append(lb_nb[0][0]-1)\n",
    "    \n",
    "    for item in lb_nb: # lb_nb ~ lb's in ascending order\n",
    "        if item[0]-1==lb_feed[-1]: \n",
    "            continue\n",
    "        else:\n",
    "            lb_feed.append(item[0]-1)\n",
    "    \n",
    "    return lb_feed\n",
    "        "
   ]
  },
  {
   "cell_type": "code",
   "execution_count": 4,
   "metadata": {},
   "outputs": [],
   "source": [
    "# these algorithms do not need hyperparameter tuning\n",
    "\n",
    "# DE, PSO, SA left out ~ very slow\n",
    "\n",
    "algs_lb_dist_dict={\n",
    "    'cbb':{'alg':boxes.cbb,'kwargs':{'boxing':True}},\n",
    "    'greedy':{'alg':boxes.greedy_coloring,'kwargs':{'boxing':True}},\n",
    "    'obca':{'alg':boxes.obca, 'kwargs':{'boxing':True}}\n",
    "}\n",
    "\n",
    "algs_lb_shortest_paths={\n",
    "    'merge':{'alg':boxes.merge_algorithm,'kwargs':{'boxing':True,'measure_time':False}},\n",
    "    'fuzzy':{'alg':boxes.fuzzy, 'kwargs':{'boxing':True}}\n",
    "}\n",
    "\n",
    "\n",
    "algs_rb_dist_dict={\n",
    "    'mcwr_0.75':{'alg':boxes.mcwr,'kwargs':{'p':0.75,'boxing':True}},\n",
    "    'mcwr_0.5':{'alg':boxes.mcwr,'kwargs':{'p':0.5,'boxing':True}},\n",
    "    'mcwr_0.25':{'alg':boxes.mcwr,'kwargs':{'p':0.25,'boxing':True}},\n",
    "    'memb':{'alg':boxes.memb,'kwargs':{'boxing':True}},\n",
    "    'random_sequential':{'alg':boxes.random_sequential,'kwargs':{'boxing':True}},\n",
    "    'remcc':{'alg':boxes.remcc,'kwargs':{'return_centres':False}}\n",
    "}"
   ]
  },
  {
   "cell_type": "code",
   "execution_count": null,
   "metadata": {},
   "outputs": [],
   "source": [
    "# make up for leaving out fuzzy\n",
    "\n",
    "lb_shortest_fuzzy={\n",
    "    'fuzzy':{'alg':boxes.fuzzy, 'kwargs':{'boxing':True}}\n",
    "}"
   ]
  },
  {
   "cell_type": "code",
   "execution_count": null,
   "metadata": {},
   "outputs": [],
   "source": [
    "def path_(net,alg=None,bench=False):\n",
    "    \n",
    "    # net awaited like grid2d_20\n",
    "    \n",
    "    if alg==None:#gnerate net directory\n",
    "        \n",
    "        if 'grid' in net:\n",
    "\n",
    "            p='../../result_logs/grid2d/'+net[-2:]+'/'\n",
    "            \n",
    "            return p\n",
    "\n",
    "        else:\n",
    "            return '../../result_logs/'+net+'/'\n",
    "       \n",
    "\n",
    "    else:\n",
    "\n",
    "        if 'grid' in net:\n",
    "\n",
    "            p='../../result_logs/grid2d/'+net[-2:]+'/'+net+'_'+alg\n",
    "\n",
    "            if bench:\n",
    "\n",
    "                return p+'_benchmark.txt'\n",
    "            else:\n",
    "                return p+'.txt'\n",
    "\n",
    "        else:\n",
    "\n",
    "            if bench:\n",
    "                return '../../result_logs/'+net+'/'+net+'_'+alg+'_benchmark.txt'\n",
    "            else:\n",
    "                return '../../result_logs/'+net+'/'+net+'_'+alg+'.txt'\n"
   ]
  },
  {
   "cell_type": "code",
   "execution_count": 4,
   "metadata": {},
   "outputs": [],
   "source": [
    "path='../../networks/'"
   ]
  },
  {
   "cell_type": "markdown",
   "metadata": {},
   "source": [
    "### Facebook Caltech data"
   ]
  },
  {
   "cell_type": "code",
   "execution_count": 5,
   "metadata": {},
   "outputs": [],
   "source": [
    "facebook_caltech=boxes.load.read_max_connected_component(path+'facebook_caltech/socfb-Caltech36.mtx',2)"
   ]
  },
  {
   "cell_type": "code",
   "execution_count": 6,
   "metadata": {},
   "outputs": [
    {
     "data": {
      "image/png": "[encoded data removed]",
      "text/plain": [
       "<Figure size 432x288 with 1 Axes>"
      ]
     },
     "metadata": {},
     "output_type": "display_data"
    }
   ],
   "source": [
    "graph=facebook_caltech.graph\n",
    "pos=nx.drawing.nx_pydot.graphviz_layout(graph)\n",
    "nx.draw(graph, pos=pos, node_size=5)"
   ]
  },
  {
   "cell_type": "code",
   "execution_count": null,
   "metadata": {},
   "outputs": [],
   "source": [
    "facebook_caltech.diameter"
   ]
  },
  {
   "cell_type": "code",
   "execution_count": null,
   "metadata": {},
   "outputs": [],
   "source": [
    "help(boxes.boxing_)"
   ]
  },
  {
   "cell_type": "code",
   "execution_count": 5,
   "metadata": {},
   "outputs": [],
   "source": [
    "logpath='../../new_results'"
   ]
  },
  {
   "cell_type": "code",
   "execution_count": null,
   "metadata": {},
   "outputs": [],
   "source": [
    "boxes.boxing_(\n",
    "    network=facebook_caltech,\n",
    "    net='_facebook',\n",
    "    alg_dict=algs_rb_dist_dict,\n",
    "    box_sizes=range(7),\n",
    "    path=logpath+'_facebook/',\n",
    "    preprocessing='distance_dict',\n",
    "    benchmark_n=10\n",
    ")"
   ]
  },
  {
   "cell_type": "code",
   "execution_count": null,
   "metadata": {},
   "outputs": [],
   "source": [
    "boxes.io_.canonized_lb_bench(logpath+'_facebook/_facebook_memb_benchmark.txt',alg='memb')"
   ]
  },
  {
   "cell_type": "code",
   "execution_count": null,
   "metadata": {},
   "outputs": [],
   "source": [
    "del(facebook_caltech)"
   ]
  },
  {
   "cell_type": "markdown",
   "metadata": {},
   "source": [
    "### Enzyme"
   ]
  },
  {
   "cell_type": "code",
   "execution_count": 51,
   "metadata": {},
   "outputs": [],
   "source": [
    "enzyme=boxes.load.read_max_connected_component(path+'ENZYMES_g296/ENZYMES_g296.edges',0)"
   ]
  },
  {
   "cell_type": "code",
   "execution_count": 52,
   "metadata": {},
   "outputs": [
    {
     "name": "stdout",
     "output_type": "stream",
     "text": [
      "computation of shortest path data\n"
     ]
    },
    {
     "data": {
      "text/plain": [
       "[[64, 65, 66, 67, 101, 102, 8, 9, 10, 11, 12, 41, 40, 85, 86, 28, 29],\n",
       " [32, 42, 43, 44, 13, 77, 14, 78, 15, 16, 82, 30, 55, 56, 31, 94, 63],\n",
       " [110, 79, 80, 17, 18, 19, 58, 59, 60],\n",
       " [69, 70, 71, 72, 73, 74, 75],\n",
       " [45, 46, 111, 47, 118, 120],\n",
       " [114, 116, 53, 54, 52, 117, 124],\n",
       " [3, 4, 5, 6, 7, 39, 76, 109, 51, 27],\n",
       " [57, 68],\n",
       " [0, 1, 2],\n",
       " [21, 22, 88, 89, 90, 91, 92],\n",
       " [38, 103, 104, 105, 106, 107, 108],\n",
       " [96, 33, 34, 35, 95],\n",
       " [81, 83, 84],\n",
       " [97, 98, 99, 100],\n",
       " [112, 113, 115, 62],\n",
       " [48, 49, 50, 20, 23, 24, 25, 26, 93],\n",
       " [121, 122, 123, 119],\n",
       " [61],\n",
       " [36, 37],\n",
       " [87]]"
      ]
     },
     "execution_count": 52,
     "metadata": {},
     "output_type": "execute_result"
    }
   ],
   "source": [
    "boxes.random_sequential(enzyme,3)"
   ]
  },
  {
   "cell_type": "code",
   "execution_count": 34,
   "metadata": {},
   "outputs": [],
   "source": [
    "rb=range(1,32,2)"
   ]
  },
  {
   "cell_type": "code",
   "execution_count": 35,
   "metadata": {},
   "outputs": [],
   "source": [
    "boxes.boxing_(\n",
    "    network=enzyme,\n",
    "    net='enzyme',\n",
    "    alg_dict=algs_rb_dist_dict,\n",
    "    box_sizes=rb,\n",
    "    path='results/enzyme/',\n",
    "    preprocessing='distance_dict',\n",
    "    benchmark_n=15\n",
    ")"
   ]
  },
  {
   "cell_type": "code",
   "execution_count": 36,
   "metadata": {},
   "outputs": [],
   "source": [
    "lb=generate_lb('results/enzyme/enzyme_memb_benchmark.txt')"
   ]
  },
  {
   "cell_type": "code",
   "execution_count": 37,
   "metadata": {},
   "outputs": [],
   "source": [
    "boxes.boxing_(\n",
    "    network=enzyme,\n",
    "    net='enzyme',\n",
    "    alg_dict=algs_lb_dist_dict,\n",
    "    box_sizes=lb,\n",
    "    path='results/enzyme/',\n",
    "    preprocessing='distance_dict',\n",
    "    benchmark_n=15\n",
    ")"
   ]
  },
  {
   "cell_type": "code",
   "execution_count": 38,
   "metadata": {},
   "outputs": [],
   "source": [
    "boxes.boxing_(\n",
    "    network=enzymememe,\n",
    "    net='enzyme',\n",
    "    alg_dict=algs_lb_shortest_paths,\n",
    "    box_sizes=lb,\n",
    "    path='results/enzyme/',\n",
    "    preprocessing='shortest_paths',\n",
    "    benchmark_n=15\n",
    ")"
   ]
  },
  {
   "cell_type": "code",
   "execution_count": 39,
   "metadata": {},
   "outputs": [],
   "source": [
    "del(enzyme)"
   ]
  },
  {
   "cell_type": "code",
   "execution_count": 50,
   "metadata": {},
   "outputs": [
    {
     "name": "stdout",
     "output_type": "stream",
     "text": [
      "{1, 2, 3, 6}\n",
      "{5, 6}\n"
     ]
    }
   ],
   "source": [
    "ball=set([1,2,3])\n",
    "a=set([5,6])\n",
    "ball.update(a)\n",
    "\n",
    "ball.discard(5)\n",
    "print(ball)\n",
    "print(a)"
   ]
  },
  {
   "cell_type": "code",
   "execution_count": 21,
   "metadata": {},
   "outputs": [],
   "source": [
    "minnesota_degrees=[deg for node,deg in minnesota.graph.degree()]"
   ]
  },
  {
   "cell_type": "code",
   "execution_count": 38,
   "metadata": {},
   "outputs": [],
   "source": [
    "del(minnesota)"
   ]
  },
  {
   "cell_type": "code",
   "execution_count": 39,
   "metadata": {},
   "outputs": [
    {
     "data": {
      "text/plain": [
       "58494"
      ]
     },
     "execution_count": 39,
     "metadata": {},
     "output_type": "execute_result"
    }
   ],
   "source": [
    "gc.collect()"
   ]
  },
  {
   "cell_type": "code",
   "execution_count": 24,
   "metadata": {},
   "outputs": [],
   "source": [
    "enzyme_degrees=[deg for node,deg in enzyme.graph.degree()]"
   ]
  },
  {
   "cell_type": "code",
   "execution_count": 25,
   "metadata": {},
   "outputs": [],
   "source": [
    "ecoli_degrees=[deg for node,deg in ecoli.graph.degree()]"
   ]
  },
  {
   "cell_type": "code",
   "execution_count": 28,
   "metadata": {},
   "outputs": [
    {
     "data": {
      "text/plain": [
       "6890.0"
      ]
     },
     "execution_count": 28,
     "metadata": {},
     "output_type": "execute_result"
    }
   ],
   "source": [
    "np.sum(np.array(ecoli_degrees))/2"
   ]
  },
  {
   "cell_type": "code",
   "execution_count": 35,
   "metadata": {},
   "outputs": [
    {
     "data": {
      "image/png": "[encoded data removed]",
      "text/plain": [
       "<Figure size 432x288 with 1 Axes>"
      ]
     },
     "metadata": {
      "needs_background": "light"
     },
     "output_type": "display_data"
    }
   ],
   "source": [
    "plt.figure()\n",
    "plt.hist(minnesota_degrees)\n",
    "plt.title('Minnesota')\n",
    "plt.xlabel('degree')\n",
    "plt.ylabel('number of nodes')\n",
    "plt.savefig('minnesota_deg.png')\n",
    "plt.show()"
   ]
  },
  {
   "cell_type": "code",
   "execution_count": 36,
   "metadata": {},
   "outputs": [
    {
     "data": {
      "image/png": "[encoded data removed]",
      "text/plain": [
       "<Figure size 432x288 with 1 Axes>"
      ]
     },
     "metadata": {
      "needs_background": "light"
     },
     "output_type": "display_data"
    }
   ],
   "source": [
    "plt.figure()\n",
    "plt.hist(ecoli_degrees)\n",
    "plt.yscale('log')\n",
    "plt.title('EColi')\n",
    "plt.xlabel('degree')\n",
    "plt.ylabel('number of nodes')\n",
    "plt.savefig('ecoli_deg.png')\n",
    "plt.show()"
   ]
  },
  {
   "cell_type": "code",
   "execution_count": 37,
   "metadata": {},
   "outputs": [
    {
     "data": {
      "image/png": "[encoded data removed]",
      "text/plain": [
       "<Figure size 432x288 with 1 Axes>"
      ]
     },
     "metadata": {
      "needs_background": "light"
     },
     "output_type": "display_data"
    }
   ],
   "source": [
    "plt.figure()\n",
    "plt.hist(enzyme_degrees)\n",
    "plt.title('Enzyme')\n",
    "plt.xlabel('degree')\n",
    "plt.ylabel('number of nodes')\n",
    "plt.savefig('enzyme_deg.png')\n",
    "plt.show()"
   ]
  },
  {
   "cell_type": "markdown",
   "metadata": {},
   "source": [
    "### Minnesota"
   ]
  },
  {
   "cell_type": "code",
   "execution_count": 14,
   "metadata": {},
   "outputs": [],
   "source": [
    "minnesota=boxes.load.read_max_connected_component('../../networks/minnesota/road-minnesota.mtx',15)"
   ]
  },
  {
   "cell_type": "code",
   "execution_count": 15,
   "metadata": {},
   "outputs": [
    {
     "data": {
      "text/plain": [
       "2640"
      ]
     },
     "execution_count": 15,
     "metadata": {},
     "output_type": "execute_result"
    }
   ],
   "source": [
    "minnesota.graph.number_of_nodes()"
   ]
  },
  {
   "cell_type": "code",
   "execution_count": 16,
   "metadata": {},
   "outputs": [
    {
     "data": {
      "text/plain": [
       "3302"
      ]
     },
     "execution_count": 16,
     "metadata": {},
     "output_type": "execute_result"
    }
   ],
   "source": [
    "minnesota.graph.number_of_edges()"
   ]
  },
  {
   "cell_type": "code",
   "execution_count": null,
   "metadata": {},
   "outputs": [],
   "source": [
    "minnesota.diameter"
   ]
  },
  {
   "cell_type": "code",
   "execution_count": null,
   "metadata": {},
   "outputs": [],
   "source": [
    "lb=np.logspace(0,np.log10(minnesota.diameter),num=10,dtype=int)\n",
    "rb=np.logspace(0,np.log10(minnesota.diameter),num=20,dtype=int)"
   ]
  },
  {
   "cell_type": "code",
   "execution_count": 6,
   "metadata": {},
   "outputs": [],
   "source": [
    "logpath='results/'"
   ]
  },
  {
   "cell_type": "code",
   "execution_count": null,
   "metadata": {},
   "outputs": [],
   "source": [
    "# making up for lb_curated mismatch\n",
    "# we're gonna have mismatch only for fuzzy but that's not a problem - only usable for db\n",
    "\n",
    "lb=generate_lb('results/minnesota/minnesota_memb_benchmark.txt')"
   ]
  },
  {
   "cell_type": "code",
   "execution_count": null,
   "metadata": {},
   "outputs": [],
   "source": [
    "lb"
   ]
  },
  {
   "cell_type": "code",
   "execution_count": null,
   "metadata": {},
   "outputs": [],
   "source": [
    "boxes.boxing_(\n",
    "    network=minnesota,\n",
    "    net='minnesota',\n",
    "    alg_dict=algs_lb_dist_dict,\n",
    "    box_sizes=lb,\n",
    "    path='results/minnesota/',\n",
    "    preprocessing='distance_dict',\n",
    "    benchmark_n=15\n",
    ")"
   ]
  },
  {
   "cell_type": "code",
   "execution_count": null,
   "metadata": {},
   "outputs": [],
   "source": [
    "boxes.boxing_(\n",
    "    network=minnesota,\n",
    "    net='minnesota',\n",
    "    alg_dict=algs_lb_shortest_paths,\n",
    "    box_sizes=lb,\n",
    "    path='results/minnesota/',\n",
    "    preprocessing='shortest_paths',\n",
    "    benchmark_n=15\n",
    ")"
   ]
  },
  {
   "cell_type": "code",
   "execution_count": null,
   "metadata": {},
   "outputs": [],
   "source": [
    "boxes.boxing_(\n",
    "    network=minnesota,\n",
    "    net='minnesota',\n",
    "    alg_dict=lb_shortest_fuzzy,\n",
    "    box_sizes=lb,\n",
    "    path=logpath+'minnesota/',\n",
    "    preprocessing='distance_dict',\n",
    "    benchmark_n=15\n",
    ")"
   ]
  },
  {
   "cell_type": "code",
   "execution_count": null,
   "metadata": {},
   "outputs": [],
   "source": [
    "boxes.boxing_(\n",
    "    network=minnesota,\n",
    "    net='minnesota',\n",
    "    alg_dict=algs_rb_dist_dict,\n",
    "    box_sizes=rb,\n",
    "    path=logpath+'minnesota/',\n",
    "    preprocessing='distance_dict',\n",
    "    benchmark_n=15\n",
    ")"
   ]
  },
  {
   "cell_type": "code",
   "execution_count": null,
   "metadata": {},
   "outputs": [],
   "source": [
    "del(minnesota)"
   ]
  },
  {
   "cell_type": "code",
   "execution_count": null,
   "metadata": {},
   "outputs": [],
   "source": [
    "gc.collect()"
   ]
  },
  {
   "cell_type": "markdown",
   "metadata": {},
   "source": [
    "### Grid graphs"
   ]
  },
  {
   "cell_type": "markdown",
   "metadata": {},
   "source": [
    "#### 2D"
   ]
  },
  {
   "cell_type": "code",
   "execution_count": null,
   "metadata": {
    "scrolled": true
   },
   "outputs": [],
   "source": [
    "for size in [20,30,40,50]:\n",
    "\n",
    "    network=boxes.network(nx.grid_graph(dim=(size,size)))\n",
    "    \n",
    "    lb=np.logspace(0,np.log10(network.diameter),num=15,dtype=int)\n",
    "    \n",
    "    current_net='grid2d_'+str(size)\n",
    "    \n",
    "    logpath='../../result_logs/grid2d/'+str(size)+'/'\n",
    "    \n",
    "    ###\n",
    "### boxing\n",
    "    ###\n",
    "    \n",
    "    del(network)\n",
    "    gc.collect()\n",
    "    \n",
    "    \n",
    "    \n",
    "    \n"
   ]
  },
  {
   "cell_type": "code",
   "execution_count": null,
   "metadata": {},
   "outputs": [],
   "source": [
    "gc.collect()"
   ]
  },
  {
   "cell_type": "code",
   "execution_count": 43,
   "metadata": {},
   "outputs": [],
   "source": [
    "del(grid50)"
   ]
  },
  {
   "cell_type": "code",
   "execution_count": 44,
   "metadata": {},
   "outputs": [
    {
     "data": {
      "text/plain": [
       "7045"
      ]
     },
     "execution_count": 44,
     "metadata": {},
     "output_type": "execute_result"
    }
   ],
   "source": [
    "gc.collect()"
   ]
  },
  {
   "cell_type": "code",
   "execution_count": 40,
   "metadata": {},
   "outputs": [],
   "source": [
    "grid50=boxes.network(nx.grid_graph(dim=(50,50)))"
   ]
  },
  {
   "cell_type": "code",
   "execution_count": 41,
   "metadata": {},
   "outputs": [
    {
     "data": {
      "text/plain": [
       "2500"
      ]
     },
     "execution_count": 41,
     "metadata": {},
     "output_type": "execute_result"
    }
   ],
   "source": [
    "grid50.graph.number_of_nodes()"
   ]
  },
  {
   "cell_type": "code",
   "execution_count": 42,
   "metadata": {},
   "outputs": [
    {
     "data": {
      "text/plain": [
       "4900"
      ]
     },
     "execution_count": 42,
     "metadata": {},
     "output_type": "execute_result"
    }
   ],
   "source": [
    "grid50.graph.number_of_edges()"
   ]
  },
  {
   "cell_type": "code",
   "execution_count": 2,
   "metadata": {},
   "outputs": [
    {
     "name": "stdout",
     "output_type": "stream",
     "text": [
      "Help on function grid_graph in module networkx.generators.lattice:\n",
      "\n",
      "grid_graph(dim, periodic=False)\n",
      "    Returns the *n*-dimensional grid graph.\n",
      "    \n",
      "    The dimension *n* is the length of the list `dim` and the size in\n",
      "    each dimension is the value of the corresponding list element.\n",
      "    \n",
      "    Parameters\n",
      "    ----------\n",
      "    dim : list or tuple of numbers or iterables of nodes\n",
      "        'dim' is a tuple or list with, for each dimension, either a number\n",
      "        that is the size of that dimension or an iterable of nodes for\n",
      "        that dimension. The dimension of the grid_graph is the length\n",
      "        of `dim`.\n",
      "    \n",
      "    periodic : bool or iterable\n",
      "        If `periodic` is True, all dimensions are periodic. If False all\n",
      "        dimensions are not periodic. If `periodic` is iterable, it should\n",
      "        yield `dim` bool values each of which indicates whether the\n",
      "        corresponding axis is periodic.\n",
      "    \n",
      "    Returns\n",
      "    -------\n",
      "    NetworkX graph\n",
      "        The (possibly periodic) grid graph of the specified dimensions.\n",
      "    \n",
      "    Examples\n",
      "    --------\n",
      "    To produce a 2 by 3 by 4 grid graph, a graph on 24 nodes:\n",
      "    \n",
      "    >>> from networkx import grid_graph\n",
      "    >>> G = grid_graph(dim=(2, 3, 4))\n",
      "    >>> len(G)\n",
      "    24\n",
      "    >>> G = grid_graph(dim=(range(7, 9), range(3, 6)))\n",
      "    >>> len(G)\n",
      "    6\n",
      "\n"
     ]
    }
   ],
   "source": [
    "help(nx.grid_graph)"
   ]
  },
  {
   "cell_type": "code",
   "execution_count": null,
   "metadata": {},
   "outputs": [],
   "source": [
    "grid50.diameter"
   ]
  },
  {
   "cell_type": "code",
   "execution_count": null,
   "metadata": {},
   "outputs": [],
   "source": [
    "lb=np.logspace(0,np.log10(grid50.diameter),num=10,dtype=int)\n",
    "rb=np.logspace(0,np.log10(grid50.diameter),num=20,dtype=int)"
   ]
  },
  {
   "cell_type": "code",
   "execution_count": null,
   "metadata": {},
   "outputs": [],
   "source": [
    "lb=generate_lb('results/grid50/grid50_memb_benchmark.txt')"
   ]
  },
  {
   "cell_type": "code",
   "execution_count": null,
   "metadata": {},
   "outputs": [],
   "source": [
    "lb"
   ]
  },
  {
   "cell_type": "code",
   "execution_count": null,
   "metadata": {},
   "outputs": [],
   "source": [
    "boxes.boxing_(\n",
    "    network=grid50,\n",
    "    net='grid50',\n",
    "    alg_dict=algs_lb_dist_dict,\n",
    "    box_sizes=lb,\n",
    "    path='results/grid50/',\n",
    "    preprocessing='distance_dict',\n",
    "    benchmark_n=15\n",
    ")"
   ]
  },
  {
   "cell_type": "code",
   "execution_count": null,
   "metadata": {},
   "outputs": [],
   "source": [
    "boxes.boxing_(\n",
    "    network=grid50,\n",
    "    net='grid50',\n",
    "    alg_dict=algs_rb_dist_dict,\n",
    "    box_sizes=rb,\n",
    "    path=logpath+'grid50/',\n",
    "    preprocessing='distance_dict',\n",
    "    benchmark_n=15\n",
    ")"
   ]
  },
  {
   "cell_type": "code",
   "execution_count": null,
   "metadata": {},
   "outputs": [],
   "source": [
    "boxes.boxing_(\n",
    "    network=grid50,\n",
    "    net='grid50',\n",
    "    alg_dict=algs_lb_shortest_paths,\n",
    "    box_sizes=lb,\n",
    "    path='results/grid50/',\n",
    "    preprocessing='shortest_paths',\n",
    "    benchmark_n=15\n",
    ")"
   ]
  },
  {
   "cell_type": "code",
   "execution_count": null,
   "metadata": {},
   "outputs": [],
   "source": [
    "boxes.boxing_(\n",
    "    network=grid50,\n",
    "    net='grid50',\n",
    "    alg_dict=lb_shortest_fuzzy,\n",
    "    box_sizes=lb,\n",
    "    path=logpath+'grid50/',\n",
    "    preprocessing='distance_dict',\n",
    "    benchmark_n=15\n",
    ")"
   ]
  },
  {
   "cell_type": "code",
   "execution_count": 48,
   "metadata": {},
   "outputs": [],
   "source": [
    "del(grid30)"
   ]
  },
  {
   "cell_type": "code",
   "execution_count": 49,
   "metadata": {},
   "outputs": [
    {
     "data": {
      "text/plain": [
       "5614"
      ]
     },
     "execution_count": 49,
     "metadata": {},
     "output_type": "execute_result"
    }
   ],
   "source": [
    "gc.collect()"
   ]
  },
  {
   "cell_type": "code",
   "execution_count": 45,
   "metadata": {},
   "outputs": [],
   "source": [
    "grid30=boxes.network(nx.grid_graph(dim=(30,30)))"
   ]
  },
  {
   "cell_type": "code",
   "execution_count": 46,
   "metadata": {},
   "outputs": [
    {
     "data": {
      "text/plain": [
       "900"
      ]
     },
     "execution_count": 46,
     "metadata": {},
     "output_type": "execute_result"
    }
   ],
   "source": [
    "grid30.graph.number_of_nodes()"
   ]
  },
  {
   "cell_type": "code",
   "execution_count": 47,
   "metadata": {},
   "outputs": [
    {
     "data": {
      "text/plain": [
       "1740"
      ]
     },
     "execution_count": 47,
     "metadata": {},
     "output_type": "execute_result"
    }
   ],
   "source": [
    "grid30.graph.number_of_edges()"
   ]
  },
  {
   "cell_type": "code",
   "execution_count": 8,
   "metadata": {},
   "outputs": [
    {
     "data": {
      "text/plain": [
       "58"
      ]
     },
     "execution_count": 8,
     "metadata": {},
     "output_type": "execute_result"
    }
   ],
   "source": [
    "grid30.diameter"
   ]
  },
  {
   "cell_type": "code",
   "execution_count": 9,
   "metadata": {},
   "outputs": [],
   "source": [
    "rb=range(1,58,3)"
   ]
  },
  {
   "cell_type": "code",
   "execution_count": 10,
   "metadata": {},
   "outputs": [],
   "source": [
    "boxes.boxing_(\n",
    "    network=grid30,\n",
    "    net='grid30',\n",
    "    alg_dict=algs_rb_dist_dict,\n",
    "    box_sizes=rb,\n",
    "    path='results/grid30/',\n",
    "    preprocessing='distance_dict',\n",
    "    benchmark_n=15\n",
    ")"
   ]
  },
  {
   "cell_type": "code",
   "execution_count": 13,
   "metadata": {},
   "outputs": [],
   "source": [
    "lb=generate_lb('results/grid30/grid30_memb_benchmark.txt')"
   ]
  },
  {
   "cell_type": "code",
   "execution_count": 14,
   "metadata": {},
   "outputs": [],
   "source": [
    "boxes.boxing_(\n",
    "    network=grid30,\n",
    "    net='grid30',\n",
    "    alg_dict=algs_lb_dist_dict,\n",
    "    box_sizes=lb,\n",
    "    path='results/grid30/',\n",
    "    preprocessing='distance_dict',\n",
    "    benchmark_n=15\n",
    ")"
   ]
  },
  {
   "cell_type": "code",
   "execution_count": 15,
   "metadata": {},
   "outputs": [],
   "source": [
    "boxes.boxing_(\n",
    "    network=grid30,\n",
    "    net='grid30',\n",
    "    alg_dict=algs_lb_shortest_paths,\n",
    "    box_sizes=lb,\n",
    "    path='results/grid30/',\n",
    "    preprocessing='shortest_paths',\n",
    "    benchmark_n=15\n",
    ")"
   ]
  },
  {
   "cell_type": "code",
   "execution_count": 16,
   "metadata": {},
   "outputs": [],
   "source": [
    "del(grid30)"
   ]
  },
  {
   "cell_type": "code",
   "execution_count": 17,
   "metadata": {},
   "outputs": [
    {
     "data": {
      "text/plain": [
       "2293"
      ]
     },
     "execution_count": 17,
     "metadata": {},
     "output_type": "execute_result"
    }
   ],
   "source": [
    "gc.collect()"
   ]
  },
  {
   "cell_type": "markdown",
   "metadata": {},
   "source": [
    "#### UV flower\n",
    "\n",
    "Based on previous calculations, we try 3 nets:\n",
    "\n",
    "+ u,v=1,2 (non-fractal)\n",
    "+ u,v=2,2 fractal, theoretical db: 2\n",
    "+ u,v=2,4 fractal, theoretical db: 2.6"
   ]
  },
  {
   "cell_type": "markdown",
   "metadata": {},
   "source": [
    "__UV_12, gen=7__"
   ]
  },
  {
   "cell_type": "code",
   "execution_count": null,
   "metadata": {},
   "outputs": [],
   "source": [
    "network=boxes.network(boxes.generators.uv_flower(1,2,7))"
   ]
  },
  {
   "cell_type": "code",
   "execution_count": null,
   "metadata": {},
   "outputs": [],
   "source": [
    "lb=range(1,8)\n",
    "current_net='uv_12_g7'\n",
    "logpath='../../result_logs/uv_12_g7/'"
   ]
  },
  {
   "cell_type": "markdown",
   "metadata": {},
   "source": [
    "__UV_22, gen=5__"
   ]
  },
  {
   "cell_type": "code",
   "execution_count": 50,
   "metadata": {},
   "outputs": [],
   "source": [
    "uv225=boxes.network(boxes.generators.uv_flower(2,2,5))"
   ]
  },
  {
   "cell_type": "code",
   "execution_count": 51,
   "metadata": {},
   "outputs": [
    {
     "data": {
      "text/plain": [
       "684"
      ]
     },
     "execution_count": 51,
     "metadata": {},
     "output_type": "execute_result"
    }
   ],
   "source": [
    "uv225.graph.number_of_nodes()"
   ]
  },
  {
   "cell_type": "code",
   "execution_count": 52,
   "metadata": {},
   "outputs": [
    {
     "data": {
      "text/plain": [
       "1024"
      ]
     },
     "execution_count": 52,
     "metadata": {},
     "output_type": "execute_result"
    }
   ],
   "source": [
    "uv225.graph.number_of_edges()"
   ]
  },
  {
   "cell_type": "code",
   "execution_count": null,
   "metadata": {},
   "outputs": [],
   "source": [
    "lb=range(1,32,4)\n",
    "rb=range(1,32,2)"
   ]
  },
  {
   "cell_type": "code",
   "execution_count": null,
   "metadata": {},
   "outputs": [],
   "source": [
    "lb=generate_lb('results/uv225/uv225_memb_benchmark.txt')"
   ]
  },
  {
   "cell_type": "code",
   "execution_count": null,
   "metadata": {},
   "outputs": [],
   "source": [
    "lb"
   ]
  },
  {
   "cell_type": "code",
   "execution_count": null,
   "metadata": {},
   "outputs": [],
   "source": [
    "logpath='results/'"
   ]
  },
  {
   "cell_type": "code",
   "execution_count": null,
   "metadata": {},
   "outputs": [],
   "source": [
    "boxes.boxing_(\n",
    "    network=uv225,\n",
    "    net='uv225',\n",
    "    alg_dict=algs_lb_dist_dict,\n",
    "    box_sizes=lb,\n",
    "    path=logpath+'uv225/',\n",
    "    preprocessing='distance_dict',\n",
    "    benchmark_n=15\n",
    ")"
   ]
  },
  {
   "cell_type": "code",
   "execution_count": null,
   "metadata": {},
   "outputs": [],
   "source": [
    "boxes.boxing_(\n",
    "    network=uv225,\n",
    "    net='uv225',\n",
    "    alg_dict=algs_lb_shortest_paths,\n",
    "    box_sizes=lb,\n",
    "    path=logpath+'uv225/',\n",
    "    preprocessing='shortest_paths',\n",
    "    benchmark_n=15\n",
    ")"
   ]
  },
  {
   "cell_type": "code",
   "execution_count": null,
   "metadata": {},
   "outputs": [],
   "source": [
    "boxes.boxing_(\n",
    "    network=uv225,\n",
    "    net='uv225',\n",
    "    alg_dict=algs_rb_dist_dict,\n",
    "    box_sizes=rb,\n",
    "    path=logpath+'uv225/',\n",
    "    preprocessing='distance_dict',\n",
    "    benchmark_n=15\n",
    ")"
   ]
  },
  {
   "cell_type": "code",
   "execution_count": null,
   "metadata": {},
   "outputs": [],
   "source": [
    "boxes.boxing_(\n",
    "    network=uv225,\n",
    "    net='uv225',\n",
    "    alg_dict=lb_shortest_fuzzy,\n",
    "    box_sizes=lb,\n",
    "    path=logpath+'uv225/',\n",
    "    preprocessing='distance_dict',\n",
    "    benchmark_n=15\n",
    ")\n"
   ]
  },
  {
   "cell_type": "code",
   "execution_count": null,
   "metadata": {},
   "outputs": [],
   "source": [
    "del(uv225)\n",
    "gc.collect()"
   ]
  },
  {
   "cell_type": "markdown",
   "metadata": {},
   "source": [
    "__UV_24, gen=4__"
   ]
  },
  {
   "cell_type": "code",
   "execution_count": null,
   "metadata": {},
   "outputs": [],
   "source": [
    "network=boxes.network(boxes.generators.uv_flower(2,4,4))\n",
    "lb=range(1,38,2)\n",
    "\n",
    "current_net='uv_24_g4'\n",
    "\n",
    "logpath='../../result_logs/uv_24_g4/'"
   ]
  },
  {
   "cell_type": "code",
   "execution_count": 53,
   "metadata": {},
   "outputs": [],
   "source": [
    "uv244=boxes.network(boxes.generators.uv_flower(2,4,4))"
   ]
  },
  {
   "cell_type": "code",
   "execution_count": 54,
   "metadata": {},
   "outputs": [
    {
     "data": {
      "text/plain": [
       "1038"
      ]
     },
     "execution_count": 54,
     "metadata": {},
     "output_type": "execute_result"
    }
   ],
   "source": [
    "uv244.graph.number_of_nodes()"
   ]
  },
  {
   "cell_type": "code",
   "execution_count": 55,
   "metadata": {},
   "outputs": [
    {
     "data": {
      "text/plain": [
       "1296"
      ]
     },
     "execution_count": 55,
     "metadata": {},
     "output_type": "execute_result"
    }
   ],
   "source": [
    "uv244.graph.number_of_edges()"
   ]
  },
  {
   "cell_type": "code",
   "execution_count": 57,
   "metadata": {},
   "outputs": [],
   "source": [
    "del(uv244)"
   ]
  },
  {
   "cell_type": "code",
   "execution_count": 58,
   "metadata": {},
   "outputs": [
    {
     "data": {
      "text/plain": [
       "11155"
      ]
     },
     "execution_count": 58,
     "metadata": {},
     "output_type": "execute_result"
    }
   ],
   "source": [
    "gc.collect()"
   ]
  },
  {
   "cell_type": "code",
   "execution_count": 20,
   "metadata": {},
   "outputs": [],
   "source": [
    "rb=range(1,38,2)"
   ]
  },
  {
   "cell_type": "code",
   "execution_count": 23,
   "metadata": {},
   "outputs": [],
   "source": [
    "boxes.boxing_(\n",
    "    network=uv244,\n",
    "    net='uv244',\n",
    "    alg_dict=algs_rb_dist_dict,\n",
    "    box_sizes=rb,\n",
    "    path='results/uv244/',\n",
    "    preprocessing='distance_dict',\n",
    "    benchmark_n=15\n",
    ")"
   ]
  },
  {
   "cell_type": "code",
   "execution_count": 28,
   "metadata": {},
   "outputs": [],
   "source": [
    "lb=generate_lb('results/uv244/uv244_memb_benchmark.txt')"
   ]
  },
  {
   "cell_type": "code",
   "execution_count": 29,
   "metadata": {},
   "outputs": [],
   "source": [
    "boxes.boxing_(\n",
    "    network=uv244,\n",
    "    net='uv244',\n",
    "    alg_dict=algs_lb_dist_dict,\n",
    "    box_sizes=lb,\n",
    "    path='results/uv244/',\n",
    "    preprocessing='distance_dict',\n",
    "    benchmark_n=15\n",
    ")"
   ]
  },
  {
   "cell_type": "code",
   "execution_count": 30,
   "metadata": {},
   "outputs": [],
   "source": [
    "boxes.boxing_(\n",
    "    network=uv244,\n",
    "    net='uv244',\n",
    "    alg_dict=algs_lb_shortest_paths,\n",
    "    box_sizes=lb,\n",
    "    path='results/uv244/',\n",
    "    preprocessing='shortest_paths',\n",
    "    benchmark_n=15\n",
    ")"
   ]
  },
  {
   "cell_type": "code",
   "execution_count": 31,
   "metadata": {},
   "outputs": [
    {
     "data": {
      "text/plain": [
       "20"
      ]
     },
     "execution_count": 31,
     "metadata": {},
     "output_type": "execute_result"
    }
   ],
   "source": [
    "del(uv244)\n",
    "gc.collect()"
   ]
  },
  {
   "cell_type": "code",
   "execution_count": null,
   "metadata": {},
   "outputs": [],
   "source": [
    "del(network)\n",
    "gc.collect()"
   ]
  },
  {
   "cell_type": "code",
   "execution_count": 27,
   "metadata": {},
   "outputs": [
    {
     "name": "stdout",
     "output_type": "stream",
     "text": [
      "[(1, 3), (2, 4)]\n",
      "[1, 2]\n",
      "[3, 4]\n",
      "[(1, 3)]\n"
     ]
    }
   ],
   "source": [
    "a=[1,2]\n",
    "b=[3,4]\n",
    "c=list(zip(a,b))\n",
    "print(c)\n",
    "c.pop()\n",
    "print(a)\n",
    "print(b)\n",
    "print(c)"
   ]
  },
  {
   "cell_type": "markdown",
   "metadata": {},
   "source": [
    "#### SHM model"
   ]
  },
  {
   "cell_type": "markdown",
   "metadata": {},
   "source": [
    "__SHM_gmxe_5210__"
   ]
  },
  {
   "cell_type": "code",
   "execution_count": 59,
   "metadata": {},
   "outputs": [],
   "source": [
    "shm5210=boxes.network(boxes.generators.fractal_model(5,2,1,0.))\n"
   ]
  },
  {
   "cell_type": "code",
   "execution_count": 62,
   "metadata": {},
   "outputs": [
    {
     "data": {
      "text/plain": [
       "3126"
      ]
     },
     "execution_count": 62,
     "metadata": {},
     "output_type": "execute_result"
    }
   ],
   "source": [
    "shm5210.graph.number_of_nodes()"
   ]
  },
  {
   "cell_type": "code",
   "execution_count": 63,
   "metadata": {},
   "outputs": [],
   "source": [
    "del(shm5210)"
   ]
  },
  {
   "cell_type": "code",
   "execution_count": 64,
   "metadata": {},
   "outputs": [
    {
     "data": {
      "text/plain": [
       "4497"
      ]
     },
     "execution_count": 64,
     "metadata": {},
     "output_type": "execute_result"
    }
   ],
   "source": [
    "gc.collect()"
   ]
  },
  {
   "cell_type": "code",
   "execution_count": null,
   "metadata": {},
   "outputs": [],
   "source": [
    "lb=np.logspace(0,np.log10(shm5210.diameter),num=10,dtype=int)\n",
    "rb=np.logspace(0,np.log10(shm5210.diameter),num=20,dtype=int)"
   ]
  },
  {
   "cell_type": "code",
   "execution_count": null,
   "metadata": {},
   "outputs": [],
   "source": [
    "lb=generate_lb('results/shm5210/shm5210_memb_benchmark.txt')"
   ]
  },
  {
   "cell_type": "code",
   "execution_count": null,
   "metadata": {},
   "outputs": [],
   "source": [
    "lb"
   ]
  },
  {
   "cell_type": "code",
   "execution_count": null,
   "metadata": {},
   "outputs": [],
   "source": [
    "boxes.boxing_(\n",
    "    network=shm5210,\n",
    "    net='shm5210',\n",
    "    alg_dict=algs_lb_dist_dict,\n",
    "    box_sizes=lb,\n",
    "    path=logpath+'shm5210/',\n",
    "    preprocessing='distance_dict',\n",
    "    benchmark_n=15\n",
    ")"
   ]
  },
  {
   "cell_type": "code",
   "execution_count": null,
   "metadata": {},
   "outputs": [],
   "source": [
    "boxes.boxing_(\n",
    "    network=shm5210,\n",
    "    net='shm5210',\n",
    "    alg_dict=algs_lb_shortest_paths,\n",
    "    box_sizes=lb,\n",
    "    path=logpath+'shm5210/',\n",
    "    preprocessing='shortest_paths',\n",
    "    benchmark_n=15\n",
    ")"
   ]
  },
  {
   "cell_type": "code",
   "execution_count": null,
   "metadata": {},
   "outputs": [],
   "source": [
    "boxes.boxing_(\n",
    "    network=shm5210,\n",
    "    net='shm5210',\n",
    "    alg_dict=algs_rb_dist_dict,\n",
    "    box_sizes=rb,\n",
    "    path=logpath+'shm5210/',\n",
    "    preprocessing='distance_dict',\n",
    "    benchmark_n=15\n",
    ")"
   ]
  },
  {
   "cell_type": "code",
   "execution_count": null,
   "metadata": {},
   "outputs": [],
   "source": [
    "del(shm5210)\n"
   ]
  },
  {
   "cell_type": "code",
   "execution_count": null,
   "metadata": {},
   "outputs": [],
   "source": [
    "gc.collect()"
   ]
  },
  {
   "cell_type": "markdown",
   "metadata": {},
   "source": [
    "__SHM_gmxe_422_0.__"
   ]
  },
  {
   "cell_type": "code",
   "execution_count": 65,
   "metadata": {},
   "outputs": [],
   "source": [
    "shm4220=boxes.network(boxes.generators.fractal_model(4,2,2,0.))"
   ]
  },
  {
   "cell_type": "code",
   "execution_count": 67,
   "metadata": {},
   "outputs": [
    {
     "data": {
      "text/plain": [
       "1296"
      ]
     },
     "execution_count": 67,
     "metadata": {},
     "output_type": "execute_result"
    }
   ],
   "source": [
    "shm4220.graph.number_of_edges()"
   ]
  },
  {
   "cell_type": "code",
   "execution_count": null,
   "metadata": {},
   "outputs": [],
   "source": [
    "lb=np.logspace(0,np.log10(shm4220.diameter),num=10,dtype=int)\n",
    "rb=np.logspace(0,np.log10(shm4220.diameter),num=20,dtype=int)"
   ]
  },
  {
   "cell_type": "code",
   "execution_count": null,
   "metadata": {},
   "outputs": [],
   "source": [
    "lb=generate_lb('results/shm4220/shm4220_memb_benchmark.txt')"
   ]
  },
  {
   "cell_type": "code",
   "execution_count": null,
   "metadata": {},
   "outputs": [],
   "source": [
    "lb"
   ]
  },
  {
   "cell_type": "code",
   "execution_count": null,
   "metadata": {},
   "outputs": [],
   "source": [
    "boxes.boxing_(\n",
    "    network=shm4220,\n",
    "    net='shm4220',\n",
    "    alg_dict=algs_lb_dist_dict,\n",
    "    box_sizes=lb,\n",
    "    path=logpath+'shm4220/',\n",
    "    preprocessing='distance_dict',\n",
    "    benchmark_n=15\n",
    ")\n",
    "\n",
    "boxes.boxing_(\n",
    "    network=shm4220,\n",
    "    net='shm4220',\n",
    "    alg_dict=algs_lb_shortest_paths,\n",
    "    box_sizes=lb,\n",
    "    path=logpath+'shm4220/',\n",
    "    preprocessing='shortest_paths',\n",
    "    benchmark_n=15\n",
    ")"
   ]
  },
  {
   "cell_type": "code",
   "execution_count": null,
   "metadata": {},
   "outputs": [],
   "source": [
    "boxes.boxing_(\n",
    "    network=shm4220,\n",
    "    net='shm4220',\n",
    "    alg_dict=algs_rb_dist_dict,\n",
    "    box_sizes=rb,\n",
    "    path=logpath+'shm4220/',\n",
    "    preprocessing='distance_dict',\n",
    "    benchmark_n=15\n",
    ")"
   ]
  },
  {
   "cell_type": "markdown",
   "metadata": {},
   "source": [
    "__SHM_gmxe_521_0.5__"
   ]
  },
  {
   "cell_type": "code",
   "execution_count": null,
   "metadata": {},
   "outputs": [],
   "source": [
    "network=boxes.network(boxes.generators.fractal_model(5,2,1,0.5))"
   ]
  },
  {
   "cell_type": "code",
   "execution_count": null,
   "metadata": {},
   "outputs": [],
   "source": [
    "lb=np.logspace(0,np.log10(network.diameter),num=15,dtype=int)\n",
    "\n",
    "current_net='shm_gmxe_521_0.5'\n",
    "\n",
    "logpath='../../result_logs/shm_gmxe_521_0.5/'"
   ]
  },
  {
   "cell_type": "markdown",
   "metadata": {},
   "source": [
    "__SHM_gmxe_422_0.5__"
   ]
  },
  {
   "cell_type": "code",
   "execution_count": null,
   "metadata": {},
   "outputs": [],
   "source": [
    "network=boxes.network(boxes.generators.fractal_model(4,2,2,0.5))\n",
    "\n",
    "lb=np.logspace(0,np.log10(network.diameter),num=15,dtype=int)\n",
    "\n",
    "current_net='shm_gmxe_422_0.5'\n",
    "\n",
    "logpath='../../result_logs/shm_gmxe_422_0.5/'"
   ]
  },
  {
   "cell_type": "markdown",
   "metadata": {},
   "source": [
    "__SHM_gmxe_521_1__"
   ]
  },
  {
   "cell_type": "code",
   "execution_count": null,
   "metadata": {},
   "outputs": [],
   "source": [
    "network=boxes.network(boxes.generators.fractal_model(5,2,1,1))\n",
    "lb=range(1,12)\n",
    "current_net='shm_gmxe_521_1'\n",
    "logpath='../../result_logs/shm_gmxe_521_1/'\n"
   ]
  },
  {
   "cell_type": "markdown",
   "metadata": {},
   "source": [
    "#### HADGM"
   ]
  },
  {
   "cell_type": "markdown",
   "metadata": {},
   "source": [
    "__HADGM_gmabt_421_0.5_0.5__"
   ]
  },
  {
   "cell_type": "code",
   "execution_count": null,
   "metadata": {},
   "outputs": [],
   "source": [
    "gc.collect()"
   ]
  },
  {
   "cell_type": "code",
   "execution_count": null,
   "metadata": {},
   "outputs": [],
   "source": [
    "network=boxes.network(boxes.generators.hub_attraction_dynamical_growth_model(4,2,1,0.5,0.5))\n",
    "lb=np.logspace(0,np.log10(network.diameter),num=15,dtype=int)\n",
    "current_net='hadgm_gmabt_421_0.5_0.5'\n",
    "logpath='../../result_logs/hadgm_gmabt_421_0.5_0.5/'\n"
   ]
  },
  {
   "cell_type": "markdown",
   "metadata": {},
   "source": [
    "__HADGM_gmabt_421_1_0.5__"
   ]
  },
  {
   "cell_type": "code",
   "execution_count": null,
   "metadata": {},
   "outputs": [],
   "source": [
    "network=boxes.network(boxes.generators.hub_attraction_dynamical_growth_model(4,2,1,1,0.5))\n",
    "\n",
    "lb=range(1,10)\n",
    "\n",
    "current_net='hadgm_gmabt_421_1_0.5'\n",
    "\n",
    "logpath='../../result_logs/hadgm_gmabt_421_1_0.5/'\n"
   ]
  },
  {
   "cell_type": "markdown",
   "metadata": {},
   "source": [
    "### Enzyme network"
   ]
  },
  {
   "cell_type": "code",
   "execution_count": 7,
   "metadata": {},
   "outputs": [],
   "source": [
    "enzyme=boxes.load.read_max_connected_component('../../networks/ENZYMES_g296/ENZYMES_g296.edges',0)\n",
    "lb=range(1,32,2)\n",
    "\n",
    "current_net='enzyme'\n",
    "\n",
    "logpath='../../result_logs/enzyme/'"
   ]
  },
  {
   "cell_type": "code",
   "execution_count": 14,
   "metadata": {},
   "outputs": [
    {
     "data": {
      "image/png": "[encoded data removed]",
      "text/plain": [
       "<Figure size 432x288 with 1 Axes>"
      ]
     },
     "metadata": {},
     "output_type": "display_data"
    }
   ],
   "source": [
    "graph=enzyme.graph\n",
    "pos=nx.drawing.nx_pydot.graphviz_layout(graph)\n",
    "\n",
    "plt.figure()\n",
    "\n",
    "nx.draw(graph, pos=pos, node_size=20)\n",
    "\n",
    "plt.savefig('enzyme_vis.png')\n",
    "plt.show()"
   ]
  },
  {
   "cell_type": "code",
   "execution_count": 13,
   "metadata": {},
   "outputs": [
    {
     "data": {
      "text/plain": [
       "141"
      ]
     },
     "execution_count": 13,
     "metadata": {},
     "output_type": "execute_result"
    }
   ],
   "source": [
    "enzyme.graph.number_of_edges()"
   ]
  },
  {
   "cell_type": "markdown",
   "metadata": {},
   "source": [
    "### EColi"
   ]
  },
  {
   "cell_type": "code",
   "execution_count": 9,
   "metadata": {},
   "outputs": [],
   "source": [
    "ecoli=boxes.load.read_max_connected_component('../../networks/ecoli/ecoli.txt',1)"
   ]
  },
  {
   "cell_type": "code",
   "execution_count": 10,
   "metadata": {},
   "outputs": [
    {
     "data": {
      "image/png": "[encoded data removed]",
      "text/plain": [
       "<Figure size 432x288 with 1 Axes>"
      ]
     },
     "metadata": {},
     "output_type": "display_data"
    }
   ],
   "source": [
    "graph=ecoli.graph\n",
    "pos=nx.drawing.nx_pydot.graphviz_layout(graph)\n",
    "nx.draw(graph, pos=pos, node_size=5)"
   ]
  },
  {
   "cell_type": "code",
   "execution_count": 4,
   "metadata": {},
   "outputs": [
    {
     "data": {
      "text/plain": [
       "18"
      ]
     },
     "execution_count": 4,
     "metadata": {},
     "output_type": "execute_result"
    }
   ],
   "source": [
    "ecoli.diameter\n"
   ]
  },
  {
   "cell_type": "code",
   "execution_count": 6,
   "metadata": {},
   "outputs": [
    {
     "data": {
      "text/plain": [
       "2859"
      ]
     },
     "execution_count": 6,
     "metadata": {},
     "output_type": "execute_result"
    }
   ],
   "source": [
    "ecoli.graph.number_of_nodes()"
   ]
  },
  {
   "cell_type": "code",
   "execution_count": 7,
   "metadata": {},
   "outputs": [
    {
     "data": {
      "text/plain": [
       "6890"
      ]
     },
     "execution_count": 7,
     "metadata": {},
     "output_type": "execute_result"
    }
   ],
   "source": [
    "ecoli.graph.number_of_edges()"
   ]
  },
  {
   "cell_type": "code",
   "execution_count": 9,
   "metadata": {},
   "outputs": [],
   "source": [
    "rb=range(1,18)"
   ]
  },
  {
   "cell_type": "code",
   "execution_count": 10,
   "metadata": {},
   "outputs": [],
   "source": [
    "boxes.boxing_(\n",
    "    network=ecoli,\n",
    "    net='ecoli',\n",
    "    alg_dict=algs_rb_dist_dict,\n",
    "    box_sizes=rb,\n",
    "    path=logpath+'ecoli/',\n",
    "    preprocessing='distance_dict',\n",
    "    benchmark_n=15\n",
    ")"
   ]
  },
  {
   "cell_type": "code",
   "execution_count": 13,
   "metadata": {},
   "outputs": [],
   "source": [
    "lb=generate_lb('results/ecoli/ecoli_memb_benchmark.txt')"
   ]
  },
  {
   "cell_type": "code",
   "execution_count": 14,
   "metadata": {},
   "outputs": [
    {
     "data": {
      "text/plain": [
       "[2, 4, 6, 8, 10, 12, 14, 16, 18]"
      ]
     },
     "execution_count": 14,
     "metadata": {},
     "output_type": "execute_result"
    }
   ],
   "source": [
    "lb"
   ]
  },
  {
   "cell_type": "code",
   "execution_count": 15,
   "metadata": {},
   "outputs": [],
   "source": [
    "boxes.boxing_(\n",
    "    network=ecoli,\n",
    "    net='ecoli',\n",
    "    alg_dict=algs_lb_dist_dict,\n",
    "    box_sizes=lb,\n",
    "    path=logpath+'ecoli/',\n",
    "    preprocessing='distance_dict',\n",
    "    benchmark_n=15\n",
    ")\n",
    "\n",
    "boxes.boxing_(\n",
    "    network=ecoli,\n",
    "    net='ecoli',\n",
    "    alg_dict=algs_lb_shortest_paths,\n",
    "    box_sizes=lb,\n",
    "    path=logpath+'ecoli/',\n",
    "    preprocessing='shortest_paths',\n",
    "    benchmark_n=15\n",
    ")"
   ]
  },
  {
   "cell_type": "code",
   "execution_count": 16,
   "metadata": {},
   "outputs": [],
   "source": [
    "exec_time, lb_nb=boxes.io_.canonized_lb_bench(logpath+'ecoli/ecoli_greedy_benchmark.txt','greedy')"
   ]
  },
  {
   "cell_type": "code",
   "execution_count": 17,
   "metadata": {},
   "outputs": [
    {
     "data": {
      "text/plain": [
       "[(3,\n",
       "  array([633., 630., 622., 631., 626., 628., 632., 630., 630., 626., 633.,\n",
       "         626., 630., 629., 630.])),\n",
       " (5,\n",
       "  array([140., 139., 142., 140., 142., 144., 141., 142., 143., 138., 143.,\n",
       "         138., 145., 139., 138.])),\n",
       " (7,\n",
       "  array([48., 48., 51., 50., 51., 51., 48., 47., 50., 52., 48., 51., 51.,\n",
       "         50., 50.])),\n",
       " (9,\n",
       "  array([17., 15., 15., 15., 17., 16., 16., 14., 16., 17., 16., 15., 16.,\n",
       "         15., 15.])),\n",
       " (11,\n",
       "  array([ 8.,  9.,  8.,  7.,  8., 10.,  9.,  8.,  8.,  8.,  8.,  8.,  8.,\n",
       "          7.,  7.])),\n",
       " (13, array([5., 4., 4., 4., 4., 4., 4., 4., 4., 4., 5., 4., 4., 5., 4.])),\n",
       " (15, array([4., 4., 4., 3., 4., 3., 3., 3., 3., 4., 3., 3., 3., 3., 3.])),\n",
       " (17, array([2., 2., 3., 2., 2., 2., 2., 2., 2., 2., 2., 2., 2., 2., 2.])),\n",
       " (19, array([1., 1., 1., 1., 1., 1., 1., 1., 1., 1., 1., 1., 1., 1., 1.]))]"
      ]
     },
     "execution_count": 17,
     "metadata": {},
     "output_type": "execute_result"
    }
   ],
   "source": [
    "lb_nb"
   ]
  },
  {
   "cell_type": "code",
   "execution_count": 22,
   "metadata": {},
   "outputs": [
    {
     "data": {
      "image/png": "[encoded data removed]",
      "text/plain": [
       "<Figure size 432x288 with 1 Axes>"
      ]
     },
     "metadata": {
      "needs_background": "light"
     },
     "output_type": "display_data"
    }
   ],
   "source": [
    "plt.figure()\n",
    "x,y=np.log([item[0] for item in lb_nb]),np.log([np.mean(item[1]) for item in lb_nb])\n",
    "plt.scatter(x,y)\n",
    "plt.plot(x,x*params[0]+params[1])\n",
    "# plt.yscale('log')\n",
    "# plt.xscale('log')\n",
    "plt.show()"
   ]
  },
  {
   "cell_type": "code",
   "execution_count": 20,
   "metadata": {},
   "outputs": [],
   "source": [
    "params=np.polyfit(np.log([item[0] for item in lb_nb]),\n",
    "                  np.log([np.mean(item[1]) for item in lb_nb]),deg=1)"
   ]
  },
  {
   "cell_type": "code",
   "execution_count": 23,
   "metadata": {},
   "outputs": [
    {
     "data": {
      "text/plain": [
       "array([-3.45713462, 10.4091529 ])"
      ]
     },
     "execution_count": 23,
     "metadata": {},
     "output_type": "execute_result"
    }
   ],
   "source": [
    "params"
   ]
  },
  {
   "cell_type": "code",
   "execution_count": null,
   "metadata": {},
   "outputs": [],
   "source": []
  }
 ],
 "metadata": {
  "kernelspec": {
   "display_name": "Python 3",
   "language": "python",
   "name": "python3"
  },
  "language_info": {
   "codemirror_mode": {
    "name": "ipython",
    "version": 3
   },
   "file_extension": ".py",
   "mimetype": "text/x-python",
   "name": "python",
   "nbconvert_exporter": "python",
   "pygments_lexer": "ipython3",
   "version": "3.8.2"
  }
 },
 "nbformat": 4,
 "nbformat_minor": 4
}
